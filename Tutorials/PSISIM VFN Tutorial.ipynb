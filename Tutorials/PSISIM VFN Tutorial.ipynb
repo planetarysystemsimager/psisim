{
 "cells": [
  {
   "cell_type": "markdown",
   "metadata": {},
   "source": [
    "# Tutorial Notebook for PSISIM KPIC VFN Mode\n",
    "This notebook shows how psisim can be used to a simulated observation with the VFN mode of KPIC Phase II. It is a direct analog to the PSISIM HISPEC Tutorial notebook with the only change being that this simulation is run with the VFN mode."
   ]
  },
  {
   "cell_type": "markdown",
   "metadata": {},
   "source": [
    "First import all the things and setup the plot things"
   ]
  },
  {
   "cell_type": "code",
   "execution_count": null,
   "metadata": {},
   "outputs": [],
   "source": [
    "from psisim import telescope,instrument,observation,spectrum,universe,plots,signal\n",
    "import time\n",
    "import numpy as np\n",
    "import astropy.units as u\n",
    "import matplotlib.pyplot as plt\n",
    "from importlib import reload\n",
    "import speclite.filters\n",
    "from scipy.interpolate import interp1d, RegularGridInterpolator as rgi\n",
    "from scipy.ndimage import gaussian_filter\n",
    "from scipy.ndimage.filters import median_filter\n",
    "from scipy.signal import medfilt, correlate\n",
    "from numpy.random import poisson, randn\n",
    "import copy \n",
    "\n",
    "SMALL_SIZE = 32\n",
    "MEDIUM_SIZE = 40\n",
    "BIGGER_SIZE = 48\n",
    "\n",
    "plt.rc('font', size=SMALL_SIZE)          # controls default text sizes\n",
    "plt.rc('axes', titlesize=SMALL_SIZE)     # fontsize of the axes title\n",
    "plt.rc('axes', labelsize=MEDIUM_SIZE)    # fontsize of the x and y labels\n",
    "plt.rc('xtick', labelsize=SMALL_SIZE)    # fontsize of the tick labels\n",
    "plt.rc('ytick', labelsize=SMALL_SIZE)    # fontsize of the tick labels\n",
    "plt.rc('legend', fontsize=SMALL_SIZE)    # legend fontsize\n",
    "plt.rc('figure', titlesize=BIGGER_SIZE)  # fontsize of the figure title"
   ]
  },
  {
   "cell_type": "markdown",
   "metadata": {},
   "source": [
    "## Initial Setup"
   ]
  },
  {
   "cell_type": "markdown",
   "metadata": {},
   "source": [
    "Setup the path to the peripheral files and load in the filter objects from speclite"
   ]
  },
  {
   "cell_type": "code",
   "execution_count": null,
   "metadata": {},
   "outputs": [],
   "source": [
    "path = '/scr3/dmawet/ETC/'\n",
    "filters = spectrum.load_filters()"
   ]
  },
  {
   "cell_type": "markdown",
   "metadata": {},
   "source": [
    "## Telescope Setup"
   ]
  },
  {
   "cell_type": "markdown",
   "metadata": {},
   "source": [
    "A *telescope* object contains the telecope parameters, the site characteristics and the current conditions. "
   ]
  },
  {
   "cell_type": "code",
   "execution_count": null,
   "metadata": {},
   "outputs": [],
   "source": [
    "keck = telescope.Keck(path=path)\n",
    "keck.airmass=1.1\n",
    "keck.water_vapor=1.6\n",
    "keck.seeing = keck.median_seeing"
   ]
  },
  {
   "cell_type": "markdown",
   "metadata": {},
   "source": [
    "## Instrument Setup"
   ]
  },
  {
   "cell_type": "markdown",
   "metadata": {},
   "source": [
    "An _instrument_ object contains both the static instrument parameters, as well as the current observing setup"
   ]
  },
  {
   "cell_type": "code",
   "execution_count": null,
   "metadata": {},
   "outputs": [],
   "source": [
    "#Initialize a kpic object and set the current filter\n",
    "kpic = instrument.kpic_phaseII(telescope=keck)\n",
    "kpic.set_current_filter(\"TwoMASS-K\")\n",
    "\n",
    "#Get the set of wavelengths based on the current instrument setup\n",
    "wavelengths = kpic.get_wavelength_range()\n",
    "\n",
    "# Set the observing mode: Exposure time (per exposure), # of Exposures, filter name, wavelength array, mode, charge for VFN\n",
    "kpic.set_observing_mode(2*3600, 1,'TwoMASS-K', wavelengths,mode=\"vfn\",vortex_charge=1) "
   ]
  },
  {
   "cell_type": "markdown",
   "metadata": {},
   "source": [
    "## Generate some Spectra"
   ]
  },
  {
   "cell_type": "markdown",
   "metadata": {},
   "source": [
    "We can now generate a host spectrum. Host properties taken from Dimitri's VFN notebook."
   ]
  },
  {
   "cell_type": "code",
   "execution_count": null,
   "metadata": {},
   "outputs": [],
   "source": [
    "#First set the host properties for a Phoenix model. \n",
    "host_properties = {\"StarLogg\":4.00,\"StarTeff\":4400,\"StarZ\":'-0.0',\"StarAlpha\":\"0.0\",\n",
    "                    \"StarRadialVelocity\":-50*u.km/u.s,\n",
    "                    \"StarVsini\":10*u.km/u.s,\n",
    "                    \"StarLimbDarkening\":0.2}\n",
    "\n",
    "#Now setup the user parameters that a Phoenix model needs: (path, object_filter, magnitude_in_object_filter,\n",
    "# filters_object,current_filter). \n",
    "host_user_params = (path,'TwoMASS-K',5.0,filters,kpic.current_filter)\n",
    "\n",
    "#Generate the spectrum! (Here we apply a doppler shift and rotationally broaden)\n",
    "host_spectrum = spectrum.get_stellar_spectrum(host_properties,wavelengths,kpic.current_R,model=\"Phoenix\",\n",
    "                                              user_params=host_user_params,doppler_shift=True,broaden=True,\n",
    "                                              delta_wv=kpic.current_dwvs)\n"
   ]
  },
  {
   "cell_type": "markdown",
   "metadata": {},
   "source": [
    "Plot the Spectrum!"
   ]
  },
  {
   "cell_type": "code",
   "execution_count": null,
   "metadata": {},
   "outputs": [],
   "source": [
    "plt.figure(figsize=(20,10))\n",
    "\n",
    "plt.semilogy(wavelengths,host_spectrum)\n",
    "\n",
    "plt.xlabel(\"Wavelength [{}]\".format(wavelengths.unit))\n",
    "plt.ylabel(\"Spectrum [{}]\".format(host_spectrum.unit))\n",
    "plt.title(\"Host Spectrum\")"
   ]
  },
  {
   "cell_type": "markdown",
   "metadata": {},
   "source": [
    "Now we can generate a target spectrum as well. Target properties taken from Dimitri's VFN notebook."
   ]
  },
  {
   "cell_type": "code",
   "execution_count": null,
   "metadata": {},
   "outputs": [],
   "source": [
    "obj_properties = {\"StarLogg\":3.25,\"StarTeff\":700,\"StarRadialVelocity\":10*u.km/u.s,\"StarVsini\":8*u.km/u.s,\n",
    "                  \"StarLimbDarkening\":0.2}\n",
    "\n",
    "obj_user_params = (path,'TwoMASS-K',20,filters,kpic.current_filter)\n",
    "\n",
    "obj_spectrum = spectrum.get_stellar_spectrum(obj_properties,wavelengths,kpic.current_R,model=\"Sonora\",\n",
    "                                             user_params=obj_user_params,doppler_shift=True,broaden=True,\n",
    "                                             delta_wv=kpic.current_dwvs)"
   ]
  },
  {
   "cell_type": "code",
   "execution_count": null,
   "metadata": {},
   "outputs": [],
   "source": [
    "plt.figure(figsize=(30,10))\n",
    "\n",
    "plt.semilogy(wavelengths,obj_spectrum)\n",
    "\n",
    "plt.xlabel(\"Wavelength [{}]\".format(wavelengths.unit))\n",
    "plt.ylabel(\"Spectrum [{}]\".format(obj_spectrum.unit))\n",
    "plt.ylim(1e-10,1e-4)\n",
    "plt.title(\"Target Object Spectrum\")"
   ]
  },
  {
   "cell_type": "markdown",
   "metadata": {},
   "source": [
    "### Because of the original PSISIM design considerations, we want the object spectrum in contrast units"
   ]
  },
  {
   "cell_type": "code",
   "execution_count": null,
   "metadata": {},
   "outputs": [],
   "source": [
    "obj_spectrum /= host_spectrum"
   ]
  },
  {
   "cell_type": "code",
   "execution_count": null,
   "metadata": {},
   "outputs": [],
   "source": [
    "plt.semilogy(wavelengths,obj_spectrum)\n",
    "plt.xlabel(\"Wavelength [{}]\".format(wavelengths.unit))\n",
    "plt.ylabel(\"Spectrum [contrast]\")\n",
    "plt.title(\"Host-Target Contrast Spectrum\")"
   ]
  },
  {
   "cell_type": "markdown",
   "metadata": {},
   "source": [
    "# Simulate an observation"
   ]
  },
  {
   "cell_type": "markdown",
   "metadata": {},
   "source": [
    "First set some extra parameters"
   ]
  },
  {
   "cell_type": "code",
   "execution_count": null,
   "metadata": {},
   "outputs": [],
   "source": [
    "# The angular separation of the companion, in milliarcsecond\n",
    "host_properties['AngSep'] = 45*0.9  # 0.9lam/D is the peak planet location for charge 1 and 45mas is 1lam/D at 2um (k-band)\n",
    "\n",
    "# Convert angular sep to arcseconds for repeated use later in the script\n",
    "planet_sep = (host_properties['AngSep'] / 1000) * u.arcsecond\n",
    "\n",
    "# Set the host star's angular diameter, which defines the nulling geometric leakage\n",
    "host_diam = 1   # [in mas]\n",
    "kpic.set_vfn_host_diamaeter(host_diam)\n",
    "\n",
    "#Get the host star magnitude in the AO filter\n",
    "host_properties[\"StarAOmag\"] = spectrum.get_model_ABmags(host_properties,[kpic.ao_filter], model='Phoenix',\n",
    "                                                         verbose=False,user_params = host_user_params)\n",
    "kpic.ao_mag = host_properties[\"StarAOmag\"]\n",
    "\n",
    "#KPIC doesn't care about the spectral type, but we need to include the paramter\n",
    "host_properties['StarSpT'] = None"
   ]
  },
  {
   "cell_type": "markdown",
   "metadata": {},
   "source": [
    "## Actually simulate the observation "
   ]
  },
  {
   "cell_type": "code",
   "execution_count": null,
   "metadata": {
    "scrolled": false
   },
   "outputs": [],
   "source": [
    "obj_spec,total_noise,stellar_spec,thermal_spec,noise_components = observation.simulate_observation(keck,kpic,host_properties,\n",
    "                                                                                      obj_spectrum,wavelengths,1e5,\n",
    "                                                                                      inject_noise=False,verbose=True,\n",
    "                                                                                      post_processing_gain = 10,\n",
    "                                                                                      return_noise_components=True,\n",
    "                                                                                      stellar_spec=host_spectrum,\n",
    "                                                                                      apply_lsf=True,\n",
    "                                                                                      integrate_delta_wv=False)"
   ]
  },
  {
   "cell_type": "markdown",
   "metadata": {},
   "source": [
    "Plot it!"
   ]
  },
  {
   "cell_type": "code",
   "execution_count": null,
   "metadata": {},
   "outputs": [],
   "source": [
    "plt.figure(figsize=(30,10))\n",
    "\n",
    "plt.semilogy(wavelengths,obj_spec)\n",
    "\n",
    "plt.xlabel(\"Wavelength [{}]\".format(wavelengths.unit))\n",
    "plt.ylabel(\"Spectrum [{}]\".format(obj_spec.unit))\n",
    "plt.title(\"Observed Spectrum\")\n",
    "plt.ylim(1e-4,2e2)"
   ]
  },
  {
   "cell_type": "markdown",
   "metadata": {},
   "source": [
    "## Now let's cycle through the available filters and collect all the results "
   ]
  },
  {
   "cell_type": "code",
   "execution_count": null,
   "metadata": {},
   "outputs": [],
   "source": [
    "reload(observation)"
   ]
  },
  {
   "cell_type": "code",
   "execution_count": null,
   "metadata": {
    "scrolled": false
   },
   "outputs": [],
   "source": [
    "all_wavelengths = []\n",
    "full_host_spectrum = []\n",
    "full_obj_spectrum = []\n",
    "full_obj_spectrum_nosky = []\n",
    "full_total_noise = []\n",
    "full_thermal_spec = []\n",
    "full_noise_components = []\n",
    "full_speckle_noise = []\n",
    "\n",
    "\n",
    "for kpic_filter in kpic.filters:\n",
    "    \n",
    "    #Setup the instrument\n",
    "    kpic.set_current_filter(kpic_filter)\n",
    "    wavelengths = kpic.get_wavelength_range()\n",
    "    kpic.set_observing_mode(2*3600,1,kpic_filter, wavelengths,mode=\"vfn\",vortex_charge=1) \n",
    "    \n",
    "    \n",
    "    host_user_params = (path,'TwoMASS-K',5.0,filters,kpic.current_filter)\n",
    "    host_spectrum = spectrum.get_stellar_spectrum(host_properties,wavelengths,kpic.current_R,\n",
    "                                                  model=\"Phoenix\",user_params=host_user_params,\n",
    "                                                  doppler_shift=True,broaden=True,delta_wv=kpic.current_dwvs)\n",
    "    \n",
    "    obj_user_params = (path,'TwoMASS-K',20,filters,kpic.current_filter)\n",
    "    obj_spectrum = spectrum.get_stellar_spectrum(obj_properties,wavelengths,kpic.current_R,model=\"Sonora\",\n",
    "                                                 user_params=obj_user_params,doppler_shift=True,broaden=True,\n",
    "                                                 delta_wv=kpic.current_dwvs)\n",
    "\n",
    "    obj_spectrum /= host_spectrum\n",
    "    \n",
    "    obj_spec,total_noise,stellar_spec,thermal_spec,noise_components= observation.simulate_observation(keck,kpic,\n",
    "                                                                                      host_properties,\n",
    "                                                                                      obj_spectrum,wavelengths,1e5,\n",
    "                                                                                      inject_noise=False,verbose=True,\n",
    "                                                                                      post_processing_gain = np.inf,\n",
    "                                                                                      return_noise_components=True,\n",
    "                                                                                      stellar_spec=host_spectrum,\n",
    "                                                                                      apply_lsf=True,\n",
    "                                                                                      integrate_delta_wv=False,\n",
    "                                                                                      plot=False,\n",
    "                                                                                      sky_on=True)\n",
    "    obj_spec_no_sky,_,_,_ = observation.simulate_observation(keck,kpic,\n",
    "                                                                                      host_properties,\n",
    "                                                                                      obj_spectrum,wavelengths,1e5,\n",
    "                                                                                      inject_noise=False,verbose=True,\n",
    "                                                                                      post_processing_gain = np.inf,\n",
    "                                                                                      return_noise_components=False,\n",
    "                                                                                      stellar_spec=host_spectrum,\n",
    "                                                                                      apply_lsf=True,\n",
    "                                                                                      integrate_delta_wv=False,\n",
    "                                                                                      plot=False,\n",
    "                                                                                      sky_on=False)\n",
    "\n",
    "    full_speckle_noise.append(kpic.get_speckle_noise(planet_sep,host_properties['StarAOmag'],kpic.current_filter,wavelengths,host_properties['StarSpT'],keck)[0])\n",
    "    all_wavelengths.append(wavelengths)\n",
    "    full_host_spectrum.append(stellar_spec)\n",
    "    full_obj_spectrum.append(obj_spec)\n",
    "    full_obj_spectrum_nosky.append(obj_spec_no_sky)\n",
    "    full_total_noise.append(total_noise)\n",
    "    full_thermal_spec.append(thermal_spec)\n",
    "    full_noise_components.append(noise_components)\n",
    "\n",
    "all_wavelengths = np.hstack(all_wavelengths).value*wavelengths.unit\n",
    "full_host_spectrum = np.hstack(full_host_spectrum).value*stellar_spec.unit\n",
    "full_obj_spectrum = np.hstack(full_obj_spectrum).value*obj_spec.unit\n",
    "full_obj_spectrum_nosky = np.hstack(full_obj_spectrum_nosky).value*obj_spec_no_sky.unit\n",
    "full_total_noise = np.hstack(full_total_noise).value*total_noise.unit\n",
    "full_noise_components = np.hstack(full_noise_components)*obj_spec.unit\n",
    "full_thermal_spec = np.hstack(full_thermal_spec).value*thermal_spec.unit\n",
    "full_speckle_noise = np.hstack(full_speckle_noise)"
   ]
  },
  {
   "cell_type": "code",
   "execution_count": null,
   "metadata": {
    "scrolled": false
   },
   "outputs": [],
   "source": [
    "plt.figure(figsize=(30,10))\n",
    "\n",
    "plt.plot(all_wavelengths,full_obj_spectrum,label=\"Spectrum\")\n",
    "plt.plot(all_wavelengths,full_total_noise,label=\"Total Stastistical Noise Level\")\n",
    "\n",
    "plt.legend()\n",
    "\n",
    "plt.xlabel(\"Wavelength [{}]\".format(all_wavelengths.unit))\n",
    "plt.ylabel(\"Spectrum [{}]\".format(full_obj_spectrum.unit))\n",
    "plt.title(r\"KPIC VFN Observation of Sonora grid $T_{{eff}}$ = {}K,logg = {}, Exp. Time = {}, $N_{{exp}}$= {}\".format(\n",
    "obj_properties[\"StarTeff\"],obj_properties[\"StarLogg\"],kpic.exposure_time,kpic.n_exposures))\n",
    "plt.ylim(1e-4,2e3)\n",
    "plt.grid()"
   ]
  },
  {
   "cell_type": "markdown",
   "metadata": {},
   "source": [
    "## We can calculate the signal to noise now\n"
   ]
  },
  {
   "cell_type": "code",
   "execution_count": null,
   "metadata": {},
   "outputs": [],
   "source": [
    "plt.figure(figsize=(30,10))\n",
    "\n",
    "plt.plot(all_wavelengths,full_obj_spectrum/full_total_noise)\n",
    "\n",
    "plt.xlabel(\"Wavelength [{}]\".format(all_wavelengths.unit))\n",
    "plt.ylabel(\"SNR\")\n",
    "\n",
    "plt.title(r\"KPIC VFN Observation of Sonora grid $T_{{eff}}$ = {}K,logg = {}, Exp. Time = {}, $N_{{exp}}$= {}\".format(\n",
    "obj_properties[\"StarTeff\"],obj_properties[\"StarLogg\"],kpic.exposure_time,kpic.n_exposures))\n",
    "\n",
    "# plt.ylim(-0.01,0.4)\n",
    "plt.xlim(0.9,2.4)\n",
    "plt.grid()\n",
    "#plt.ylim(-0.1,2.)"
   ]
  },
  {
   "cell_type": "markdown",
   "metadata": {},
   "source": [
    "### But let's not forget about systematics. We will estimate our ability to remove the host star spectrum and the telluric lines at the .1% level. "
   ]
  },
  {
   "cell_type": "code",
   "execution_count": null,
   "metadata": {},
   "outputs": [],
   "source": [
    "cal = 0.001 #Telluric calibration accuracy of .1%\n",
    "\n",
    "#The photon flux at the object will be the stellar flux multipled by the contrast there: \n",
    "# full_host_spectrum\n",
    "host_flux_at_obj = full_host_spectrum*kpic.get_speckle_noise(planet_sep,host_properties['StarAOmag'],\"\",all_wavelengths,None,keck)[0]\n",
    "\n",
    "systematics = (cal*(host_flux_at_obj+full_thermal_spec))**2 #Variance of systematics\n",
    "\n",
    "noise_plus_systematics = np.sqrt(full_total_noise**2+systematics)"
   ]
  },
  {
   "cell_type": "code",
   "execution_count": null,
   "metadata": {
    "scrolled": false
   },
   "outputs": [],
   "source": [
    "plt.figure(figsize=(30,10))\n",
    "\n",
    "plt.plot(all_wavelengths,full_obj_spectrum/noise_plus_systematics)\n",
    "\n",
    "plt.xlabel(\"Wavelength [{}]\".format(all_wavelengths.unit))\n",
    "plt.ylabel(\"SNR with systematics\")\n",
    "\n",
    "plt.title(r\"KPIC VFN Observation of Sonora grid $T_{{eff}}$ = {}K,logg = {}, Exp. Time = {}, $N_{{exp}}$= {}\".format(\n",
    "obj_properties[\"StarTeff\"],obj_properties[\"StarLogg\"],kpic.exposure_time,kpic.n_exposures))\n",
    "\n",
    "# plt.ylim(-0.01,0.4)\n",
    "plt.xlim(0.9,2.4)\n",
    "plt.grid()\n",
    "#plt.ylim(-0.1,1.)"
   ]
  },
  {
   "cell_type": "markdown",
   "metadata": {},
   "source": [
    "## Calculate the CCF-SNR"
   ]
  },
  {
   "cell_type": "markdown",
   "metadata": {},
   "source": [
    "### We'll do this with in the K-band (the last one from when we cycled through the filters above)"
   ]
  },
  {
   "cell_type": "markdown",
   "metadata": {},
   "source": [
    "Since we're doing this in k-band we'll want to recalculate the noise with the systematics just for this band"
   ]
  },
  {
   "cell_type": "code",
   "execution_count": null,
   "metadata": {},
   "outputs": [],
   "source": [
    "cal = 0.001 #Telluric calibration accuracy of .1%\n",
    "\n",
    "#The photon flux at the object will be the stellar flux multipled by the contrast there: \n",
    "# full_host_spectrum\n",
    "host_flux_at_obj = stellar_spec*kpic.get_speckle_noise(planet_sep,host_properties['StarAOmag'],\"\",wavelengths,None,keck)[0]\n",
    "\n",
    "systematics = (cal*(host_flux_at_obj+thermal_spec))**2 #Variance of systematics\n",
    "\n",
    "noise_plus_systematics = np.sqrt(total_noise**2+systematics)\n"
   ]
  },
  {
   "cell_type": "code",
   "execution_count": null,
   "metadata": {},
   "outputs": [],
   "source": [
    "plt.plot(wavelengths,np.sqrt(systematics),label=\"Systematic Noise\")\n",
    "plt.plot(wavelengths,total_noise,label=\"Random Noise\")\n",
    "plt.legend(fontsize=10)\n",
    "plt.xlabel(\"Wavelength [{}]\".format(all_wavelengths.unit))"
   ]
  },
  {
   "cell_type": "markdown",
   "metadata": {},
   "source": [
    "Calculate the sky transmission lines convolved with the line spread function"
   ]
  },
  {
   "cell_type": "code",
   "execution_count": null,
   "metadata": {},
   "outputs": [],
   "source": [
    "#Get the wavelength spacing\n",
    "dwvs = np.abs(wavelengths - np.roll(wavelengths, 1))\n",
    "dwvs[0] = dwvs[1]\n",
    "dwv_mean = np.mean(dwvs)\n",
    "lsf_fwhm = (kpic.lsf_width/dwv_mean).decompose() #Get the lsf_fwhm in units of current wavelength spacing\n",
    "lsf_sigma = lsf_fwhm/(2*np.sqrt(2*np.log(2))) #Convert to sigma\n",
    "\n",
    "#Calculate the \n",
    "sky_transmission_lsf = gaussian_filter(keck.get_atmospheric_transmission(wavelengths),\n",
    "                                                                           lsf_sigma.value)"
   ]
  },
  {
   "cell_type": "markdown",
   "metadata": {},
   "source": [
    "Now get the ccf snr"
   ]
  },
  {
   "cell_type": "code",
   "execution_count": null,
   "metadata": {},
   "outputs": [],
   "source": [
    "ccf_snr = signal.compute_ccf_snr_matchedfilter(obj_spec, obj_spec_no_sky, noise_plus_systematics, \n",
    "                                            sky_transmission_lsf,\n",
    "                                               systematics_residuals = cal, \n",
    "                                               norm_cutoff=0.8)\n",
    "print(ccf_snr)"
   ]
  },
  {
   "cell_type": "markdown",
   "metadata": {},
   "source": [
    "We can also calculate the ccf SNR for all the bands"
   ]
  },
  {
   "cell_type": "markdown",
   "metadata": {},
   "source": [
    "# Some other things we can look at to compare with Dimitri's original notebook \"HISPEC MODHIS ETC HDC v3\""
   ]
  },
  {
   "cell_type": "markdown",
   "metadata": {},
   "source": [
    "#### The thermal spectrum of the sky, telecsope and instrument."
   ]
  },
  {
   "cell_type": "code",
   "execution_count": null,
   "metadata": {},
   "outputs": [],
   "source": [
    "plt.figure(figsize=(30,10))\n",
    "\n",
    "# plt.semilogy(all_wavelengths,full_host_spectrum)\n",
    "plt.semilogy(all_wavelengths,full_thermal_spec)\n",
    "\n",
    "plt.xlabel(\"Wavelength [{}]\".format(all_wavelengths.unit))\n",
    "plt.ylabel('Thermal photon flux [{}]'.format(str((full_thermal_spec).unit)))\n",
    "# plt.ylim(1e,1e7)\n",
    "# plt.ylim(1e4,1e8)\n",
    "plt.xlim(0.9,2.4)\n"
   ]
  },
  {
   "cell_type": "markdown",
   "metadata": {},
   "source": [
    "### What about the relative contributions of the different noise components"
   ]
  },
  {
   "cell_type": "code",
   "execution_count": null,
   "metadata": {},
   "outputs": [],
   "source": [
    "plt.figure(figsize=(30,10))\n",
    "\n",
    "plt.plot(all_wavelengths,full_noise_components[0],label=\"Speckle Noise\")\n",
    "plt.plot(all_wavelengths,full_noise_components[1],label=\"Read Noise\")\n",
    "# plt.plot(all_wavelengths,full_noise_components[2],label=\"Dark Current Noise\")\n",
    "plt.plot(all_wavelengths,full_noise_components[2],label=\"Photon Noise\")\n",
    "\n",
    "plt.plot(all_wavelengths,full_total_noise,linestyle=\"-.\",label=\"Total Noise\",linewidth=0.2)\n",
    "\n",
    "plt.xlabel(\"Wavelength [{}]\".format(all_wavelengths.unit))\n",
    "plt.ylabel(\"Spectrum [{}]\".format(full_obj_spectrum.unit))\n",
    "# plt.ylim(1e0,5e1)\n",
    "plt.grid()\n",
    "plt.legend()"
   ]
  },
  {
   "cell_type": "markdown",
   "metadata": {},
   "source": [
    "## We can also check the throughput of the system: "
   ]
  },
  {
   "cell_type": "code",
   "execution_count": null,
   "metadata": {},
   "outputs": [],
   "source": [
    "th_sky = []\n",
    "th_total = []\n",
    "SR = []\n",
    "\n",
    "fig = plt.figure(figsize=(30,10))\n",
    "\n",
    "for kpic_filter in kpic.filters:    \n",
    "    #Setup the instrument\n",
    "    kpic.set_current_filter(kpic_filter)\n",
    "    wavelengths = kpic.get_wavelength_range()\n",
    "    kpic.set_observing_mode(2*3600,1,kpic_filter, wavelengths,mode='vfn',vortex_charge=1) \n",
    "    \n",
    "    th_sky_tmp = keck.get_atmospheric_transmission(wavelengths)\n",
    "    th_sky.append(th_sky_tmp)\n",
    "    # Set planet_flag=True to include VFN planet injection efficiency\n",
    "    th_total_tmp = keck.get_telescope_throughput(wavelengths,kpic)*kpic.get_inst_throughput(wavelengths,planet_flag=True,planet_sep=planet_sep)*kpic.get_filter_transmission(wavelengths,kpic.current_filter)\n",
    "    th_total.append(th_total_tmp)\n",
    "    SR.append(kpic.compute_SR(wavelengths))            \n",
    "    \n",
    "    #Dan TODO: not sure what this next line is supposed to plot. What's the 0.95 coeff for? Why recalculate everything\n",
    "    #plt.plot(wavelengths,0.95*keck.get_atmospheric_transmission(wavelengths)*keck.get_telescope_throughput(wavelengths,kpic)*kpic.get_inst_throughput(wavelengths)*kpic.get_filter_transmission(wavelengths,kpic.current_filter),label=kpic_filter)\n",
    "    \n",
    "    plt.plot(wavelengths, th_sky_tmp*th_total_tmp, label=kpic_filter)\n",
    "    \n",
    "#     print(np.mean(hispec.current_dwvs))\n",
    "\n",
    "th_sky = np.hstack(th_sky)\n",
    "th_total = np.hstack(th_total)\n",
    "SR = np.hstack(SR)\n",
    "\n",
    "plt.xlim(0.9,2.4)\n",
    "plt.ylim(0,0.15)\n",
    "plt.grid()\n",
    "plt.xlabel(\"Wavelength [micron]\")\n",
    "plt.ylabel(\"Throughput\")\n",
    "\n",
    "plt.legend()"
   ]
  },
  {
   "cell_type": "markdown",
   "metadata": {},
   "source": [
    "## And the Strehl Ratio"
   ]
  },
  {
   "cell_type": "code",
   "execution_count": null,
   "metadata": {},
   "outputs": [],
   "source": [
    "plt.figure(figsize=(30,10))\n",
    "\n",
    "plt.plot(all_wavelengths,SR,'o')\n",
    "\n",
    "# plt.ylim(1e-2,0.2)\n",
    "plt.xlabel(\"Wavelength [{}]\".format(all_wavelengths.unit))\n",
    "plt.ylabel(\"Strehl Ratio\")\n",
    "# plt.ylim(1e-4,1e2)\n",
    "plt.grid()\n",
    "plt.ylim(0.3,0.9)\n",
    "plt.xlim(0.9,2.4)"
   ]
  },
  {
   "cell_type": "markdown",
   "metadata": {},
   "source": [
    "## Check the contrasts and mark the 0.4 arcsecond location for each wavelength"
   ]
  },
  {
   "cell_type": "markdown",
   "metadata": {},
   "source": [
    "Note: the VFN contrast is independent of the target's position; it depends only on the WFE and Tip/Tilt residuals in the observation."
   ]
  },
  {
   "cell_type": "code",
   "execution_count": null,
   "metadata": {
    "scrolled": false
   },
   "outputs": [],
   "source": [
    "separations = np.arange(0,1.,0.001)*u.arcsecond\n",
    "\n",
    "plt.figure(figsize=(30,10))\n",
    "\n",
    "for kpic_filter in kpic.filters:\n",
    "    \n",
    "    kpic.set_current_filter(kpic_filter)\n",
    "    wavelengths = kpic.get_wavelength_range()\n",
    "    kpic.set_observing_mode(2*3600,1,kpic_filter, wavelengths,mode='vfn',vortex_charge=1) \n",
    "    \n",
    "#     print(wavelengths[int(wavelengths.shape[0]/2):int(wavelengths.shape[0]/2)+2])\n",
    "    \n",
    "    contrasts = kpic.get_speckle_noise(separations,host_properties[\"StarAOmag\"],kpic.current_filter,\n",
    "                                       wavelengths[int(wavelengths.shape[0]/2):int(wavelengths.shape[0]/2)+2],\n",
    "                                         host_properties['StarSpT'],keck)[:,0]\n",
    "    \n",
    "    tsts = kpic.get_speckle_noise(np.array([0.4,0.5,0.6])*u.arcsecond,host_properties[\"StarAOmag\"],\n",
    "                                       kpic.current_filter,\n",
    "                                       wavelengths[int(wavelengths.shape[0]/2):int(wavelengths.shape[0]/2)+2],\n",
    "                                       host_properties['StarSpT'],keck)[0]\n",
    "    \n",
    "    plt.semilogy(separations/206265*keck.diameter/np.mean(wavelengths).to(u.m),contrasts,\n",
    "                 label=\"{:.2f}\".format(np.mean(wavelengths)))\n",
    "    plt.axvline(0.4/206265*keck.diameter/np.mean(wavelengths).to(u.m))\n",
    "    plt.plot([0.4/206265*keck.diameter/np.mean(wavelengths).to(u.m)],[tsts],'o')\n",
    "    \n",
    "# plt.xlim([0.01,100])\n",
    "# plt.ylim([1e-7,1])\n",
    "plt.xlabel('Angular separation ($\\lambda$/D)')\n",
    "plt.ylabel('Raw contrast')\n",
    "plt.legend()\n",
    "\n",
    "plt.grid(True)\n",
    "plt.xlim(7.5,20)\n",
    "#plt.ylim(1e-5,1e-3)"
   ]
  }
 ],
 "metadata": {
  "kernelspec": {
   "display_name": "Python 3",
   "language": "python",
   "name": "python3"
  },
  "language_info": {
   "codemirror_mode": {
    "name": "ipython",
    "version": 3
   },
   "file_extension": ".py",
   "mimetype": "text/x-python",
   "name": "python",
   "nbconvert_exporter": "python",
   "pygments_lexer": "ipython3",
   "version": "3.7.4"
  }
 },
 "nbformat": 4,
 "nbformat_minor": 2
}
