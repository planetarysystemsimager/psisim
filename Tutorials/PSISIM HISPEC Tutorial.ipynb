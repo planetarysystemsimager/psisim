{
 "cells": [
  {
   "cell_type": "markdown",
   "metadata": {},
   "source": [
    "First import all the things and setup the plot things"
   ]
  },
  {
   "cell_type": "code",
   "execution_count": 1,
   "metadata": {},
   "outputs": [
    {
     "name": "stderr",
     "output_type": "stream",
     "text": [
      "/usr/local/lib/python3.6/dist-packages/pysynphot/locations.py:47: UserWarning: PYSYN_CDBS is undefined; functionality will be SEVERELY crippled.\n",
      "  warnings.warn(\"PYSYN_CDBS is undefined; functionality will be SEVERELY \"\n",
      "/usr/local/lib/python3.6/dist-packages/pysynphot/locations.py:346: UserWarning: Extinction files not found in extinction\n",
      "  warnings.warn('Extinction files not found in %s' % (extdir, ))\n",
      "/usr/local/lib/python3.6/dist-packages/numba/errors.py:137: UserWarning: Insufficiently recent colorama version found. Numba requires colorama >= 0.3.9\n",
      "  warnings.warn(msg)\n"
     ]
    }
   ],
   "source": [
    "from psisim import telescope,instrument,observation,spectrum,universe,plots,signal\n",
    "import time\n",
    "import numpy as np\n",
    "import astropy.units as u\n",
    "import matplotlib.pyplot as plt\n",
    "from importlib import reload\n",
    "import speclite.filters\n",
    "from scipy.interpolate import interp1d, RegularGridInterpolator as rgi\n",
    "from scipy.ndimage import gaussian_filter\n",
    "from scipy.ndimage.filters import median_filter\n",
    "from scipy.signal import medfilt, correlate\n",
    "from numpy.random import poisson, randn\n",
    "import copy \n",
    "\n",
    "SMALL_SIZE = 32\n",
    "MEDIUM_SIZE = 40\n",
    "BIGGER_SIZE = 48\n",
    "\n",
    "plt.rc('font', size=SMALL_SIZE)          # controls default text sizes\n",
    "plt.rc('axes', titlesize=SMALL_SIZE)     # fontsize of the axes title\n",
    "plt.rc('axes', labelsize=MEDIUM_SIZE)    # fontsize of the x and y labels\n",
    "plt.rc('xtick', labelsize=SMALL_SIZE)    # fontsize of the tick labels\n",
    "plt.rc('ytick', labelsize=SMALL_SIZE)    # fontsize of the tick labels\n",
    "plt.rc('legend', fontsize=SMALL_SIZE)    # legend fontsize\n",
    "plt.rc('figure', titlesize=BIGGER_SIZE)  # fontsize of the figure title"
   ]
  },
  {
   "cell_type": "markdown",
   "metadata": {},
   "source": [
    "## Initial Setup"
   ]
  },
  {
   "cell_type": "markdown",
   "metadata": {},
   "source": [
    "Setup the path to the peripheral files and load in the filter objects from speclite"
   ]
  },
  {
   "cell_type": "code",
   "execution_count": 2,
   "metadata": {},
   "outputs": [],
   "source": [
    "path = '/scr3/dmawet/ETC/'\n",
    "filters = spectrum.load_filters()"
   ]
  },
  {
   "cell_type": "markdown",
   "metadata": {},
   "source": [
    "## Telescope Setup"
   ]
  },
  {
   "cell_type": "markdown",
   "metadata": {},
   "source": [
    "A *telescope* object contains the telecope parameters, the site characteristics and the current conditions. "
   ]
  },
  {
   "cell_type": "code",
   "execution_count": 3,
   "metadata": {},
   "outputs": [
    {
     "ename": "OSError",
     "evalue": "/scr3/dmawet/ETC/throughput/keck_throughput_budget.csv not found.",
     "output_type": "error",
     "traceback": [
      "\u001b[0;31m---------------------------------------------------------------------------\u001b[0m",
      "\u001b[0;31mOSError\u001b[0m                                   Traceback (most recent call last)",
      "\u001b[0;32m<ipython-input-3-fd70de296277>\u001b[0m in \u001b[0;36m<module>\u001b[0;34m\u001b[0m\n\u001b[0;32m----> 1\u001b[0;31m \u001b[0mkeck\u001b[0m \u001b[0;34m=\u001b[0m \u001b[0mtelescope\u001b[0m\u001b[0;34m.\u001b[0m\u001b[0mKeck\u001b[0m\u001b[0;34m(\u001b[0m\u001b[0mpath\u001b[0m\u001b[0;34m=\u001b[0m\u001b[0mpath\u001b[0m\u001b[0;34m)\u001b[0m\u001b[0;34m\u001b[0m\u001b[0;34m\u001b[0m\u001b[0m\n\u001b[0m\u001b[1;32m      2\u001b[0m \u001b[0mkeck\u001b[0m\u001b[0;34m.\u001b[0m\u001b[0mairmass\u001b[0m\u001b[0;34m=\u001b[0m\u001b[0;36m1.0\u001b[0m\u001b[0;34m\u001b[0m\u001b[0;34m\u001b[0m\u001b[0m\n\u001b[1;32m      3\u001b[0m \u001b[0mkeck\u001b[0m\u001b[0;34m.\u001b[0m\u001b[0mwater_vapor\u001b[0m\u001b[0;34m=\u001b[0m\u001b[0;36m1.6\u001b[0m\u001b[0;34m\u001b[0m\u001b[0;34m\u001b[0m\u001b[0m\n\u001b[1;32m      4\u001b[0m \u001b[0mkeck\u001b[0m\u001b[0;34m.\u001b[0m\u001b[0mseeing\u001b[0m \u001b[0;34m=\u001b[0m \u001b[0mkeck\u001b[0m\u001b[0;34m.\u001b[0m\u001b[0mmedian_seeing\u001b[0m\u001b[0;34m\u001b[0m\u001b[0;34m\u001b[0m\u001b[0m\n",
      "\u001b[0;32m~/code/psisim/psisim/telescope.py\u001b[0m in \u001b[0;36m__init__\u001b[0;34m(self, airmass, water_vapor, path)\u001b[0m\n\u001b[1;32m    230\u001b[0m \u001b[0;34m\u001b[0m\u001b[0m\n\u001b[1;32m    231\u001b[0m         \u001b[0;31m# Throughput data\u001b[0m\u001b[0;34m\u001b[0m\u001b[0;34m\u001b[0m\u001b[0;34m\u001b[0m\u001b[0m\n\u001b[0;32m--> 232\u001b[0;31m         \u001b[0mself\u001b[0m\u001b[0;34m.\u001b[0m\u001b[0mth_data\u001b[0m \u001b[0;34m=\u001b[0m \u001b[0mnp\u001b[0m\u001b[0;34m.\u001b[0m\u001b[0mgenfromtxt\u001b[0m\u001b[0;34m(\u001b[0m\u001b[0mpath\u001b[0m\u001b[0;34m+\u001b[0m\u001b[0;34m'/throughput/keck_throughput_budget.csv'\u001b[0m\u001b[0;34m,\u001b[0m\u001b[0mskip_header\u001b[0m\u001b[0;34m=\u001b[0m\u001b[0;36m1\u001b[0m\u001b[0;34m,\u001b[0m\u001b[0musecols\u001b[0m\u001b[0;34m=\u001b[0m\u001b[0mnp\u001b[0m\u001b[0;34m.\u001b[0m\u001b[0marange\u001b[0m\u001b[0;34m(\u001b[0m\u001b[0;36m5\u001b[0m\u001b[0;34m,\u001b[0m\u001b[0;36m166\u001b[0m\u001b[0;34m)\u001b[0m\u001b[0;34m,\u001b[0m\u001b[0mdelimiter\u001b[0m\u001b[0;34m=\u001b[0m\u001b[0;34m','\u001b[0m\u001b[0;34m,\u001b[0m\u001b[0mmissing_values\u001b[0m\u001b[0;34m=\u001b[0m\u001b[0;34m''\u001b[0m\u001b[0;34m)\u001b[0m\u001b[0;34m\u001b[0m\u001b[0;34m\u001b[0m\u001b[0m\n\u001b[0m\u001b[1;32m    233\u001b[0m \u001b[0;34m\u001b[0m\u001b[0m\n\u001b[1;32m    234\u001b[0m \u001b[0;34m\u001b[0m\u001b[0m\n",
      "\u001b[0;32m~/.local/lib/python3.6/site-packages/numpy/lib/npyio.py\u001b[0m in \u001b[0;36mgenfromtxt\u001b[0;34m(fname, dtype, comments, delimiter, skip_header, skip_footer, converters, missing_values, filling_values, usecols, names, excludelist, deletechars, replace_space, autostrip, case_sensitive, defaultfmt, unpack, usemask, loose, invalid_raise, max_rows, encoding)\u001b[0m\n\u001b[1;32m   1747\u001b[0m             \u001b[0mfname\u001b[0m \u001b[0;34m=\u001b[0m \u001b[0mos_fspath\u001b[0m\u001b[0;34m(\u001b[0m\u001b[0mfname\u001b[0m\u001b[0;34m)\u001b[0m\u001b[0;34m\u001b[0m\u001b[0;34m\u001b[0m\u001b[0m\n\u001b[1;32m   1748\u001b[0m         \u001b[0;32mif\u001b[0m \u001b[0misinstance\u001b[0m\u001b[0;34m(\u001b[0m\u001b[0mfname\u001b[0m\u001b[0;34m,\u001b[0m \u001b[0mstr\u001b[0m\u001b[0;34m)\u001b[0m\u001b[0;34m:\u001b[0m\u001b[0;34m\u001b[0m\u001b[0;34m\u001b[0m\u001b[0m\n\u001b[0;32m-> 1749\u001b[0;31m             \u001b[0mfid\u001b[0m \u001b[0;34m=\u001b[0m \u001b[0mnp\u001b[0m\u001b[0;34m.\u001b[0m\u001b[0mlib\u001b[0m\u001b[0;34m.\u001b[0m\u001b[0m_datasource\u001b[0m\u001b[0;34m.\u001b[0m\u001b[0mopen\u001b[0m\u001b[0;34m(\u001b[0m\u001b[0mfname\u001b[0m\u001b[0;34m,\u001b[0m \u001b[0;34m'rt'\u001b[0m\u001b[0;34m,\u001b[0m \u001b[0mencoding\u001b[0m\u001b[0;34m=\u001b[0m\u001b[0mencoding\u001b[0m\u001b[0;34m)\u001b[0m\u001b[0;34m\u001b[0m\u001b[0;34m\u001b[0m\u001b[0m\n\u001b[0m\u001b[1;32m   1750\u001b[0m             \u001b[0mfid_ctx\u001b[0m \u001b[0;34m=\u001b[0m \u001b[0mcontextlib\u001b[0m\u001b[0;34m.\u001b[0m\u001b[0mclosing\u001b[0m\u001b[0;34m(\u001b[0m\u001b[0mfid\u001b[0m\u001b[0;34m)\u001b[0m\u001b[0;34m\u001b[0m\u001b[0;34m\u001b[0m\u001b[0m\n\u001b[1;32m   1751\u001b[0m         \u001b[0;32melse\u001b[0m\u001b[0;34m:\u001b[0m\u001b[0;34m\u001b[0m\u001b[0;34m\u001b[0m\u001b[0m\n",
      "\u001b[0;32m~/.local/lib/python3.6/site-packages/numpy/lib/_datasource.py\u001b[0m in \u001b[0;36mopen\u001b[0;34m(path, mode, destpath, encoding, newline)\u001b[0m\n\u001b[1;32m    193\u001b[0m \u001b[0;34m\u001b[0m\u001b[0m\n\u001b[1;32m    194\u001b[0m     \u001b[0mds\u001b[0m \u001b[0;34m=\u001b[0m \u001b[0mDataSource\u001b[0m\u001b[0;34m(\u001b[0m\u001b[0mdestpath\u001b[0m\u001b[0;34m)\u001b[0m\u001b[0;34m\u001b[0m\u001b[0;34m\u001b[0m\u001b[0m\n\u001b[0;32m--> 195\u001b[0;31m     \u001b[0;32mreturn\u001b[0m \u001b[0mds\u001b[0m\u001b[0;34m.\u001b[0m\u001b[0mopen\u001b[0m\u001b[0;34m(\u001b[0m\u001b[0mpath\u001b[0m\u001b[0;34m,\u001b[0m \u001b[0mmode\u001b[0m\u001b[0;34m,\u001b[0m \u001b[0mencoding\u001b[0m\u001b[0;34m=\u001b[0m\u001b[0mencoding\u001b[0m\u001b[0;34m,\u001b[0m \u001b[0mnewline\u001b[0m\u001b[0;34m=\u001b[0m\u001b[0mnewline\u001b[0m\u001b[0;34m)\u001b[0m\u001b[0;34m\u001b[0m\u001b[0;34m\u001b[0m\u001b[0m\n\u001b[0m\u001b[1;32m    196\u001b[0m \u001b[0;34m\u001b[0m\u001b[0m\n\u001b[1;32m    197\u001b[0m \u001b[0;34m\u001b[0m\u001b[0m\n",
      "\u001b[0;32m~/.local/lib/python3.6/site-packages/numpy/lib/_datasource.py\u001b[0m in \u001b[0;36mopen\u001b[0;34m(self, path, mode, encoding, newline)\u001b[0m\n\u001b[1;32m    533\u001b[0m                                       encoding=encoding, newline=newline)\n\u001b[1;32m    534\u001b[0m         \u001b[0;32melse\u001b[0m\u001b[0;34m:\u001b[0m\u001b[0;34m\u001b[0m\u001b[0;34m\u001b[0m\u001b[0m\n\u001b[0;32m--> 535\u001b[0;31m             \u001b[0;32mraise\u001b[0m \u001b[0mIOError\u001b[0m\u001b[0;34m(\u001b[0m\u001b[0;34m\"%s not found.\"\u001b[0m \u001b[0;34m%\u001b[0m \u001b[0mpath\u001b[0m\u001b[0;34m)\u001b[0m\u001b[0;34m\u001b[0m\u001b[0;34m\u001b[0m\u001b[0m\n\u001b[0m\u001b[1;32m    536\u001b[0m \u001b[0;34m\u001b[0m\u001b[0m\n\u001b[1;32m    537\u001b[0m \u001b[0;34m\u001b[0m\u001b[0m\n",
      "\u001b[0;31mOSError\u001b[0m: /scr3/dmawet/ETC/throughput/keck_throughput_budget.csv not found."
     ]
    }
   ],
   "source": [
    "keck = telescope.Keck(path=path)\n",
    "keck.airmass=1.0\n",
    "keck.water_vapor=1.6\n",
    "keck.seeing = keck.median_seeing"
   ]
  },
  {
   "cell_type": "markdown",
   "metadata": {},
   "source": [
    "## Instrument Setup"
   ]
  },
  {
   "cell_type": "markdown",
   "metadata": {},
   "source": [
    "An _instrument_ object contains both the static instrument parameters, as well as the current observing setup"
   ]
  },
  {
   "cell_type": "code",
   "execution_count": null,
   "metadata": {},
   "outputs": [],
   "source": [
    "#Initialize a hispec object and set the current filter\n",
    "hispec = instrument.hispec(telescope=keck)\n",
    "hispec.set_current_filter(\"TwoMASS-J\")\n",
    "\n",
    "#Get the set of wavelengths based on the current instrument setup\n",
    "wavelengths = hispec.get_wavelength_range()\n",
    "\n",
    "# Set the observing mode: Exposure time (per exposure), Number of Exposures,filter name, wavelength array\n",
    "hispec.set_observing_mode(3600,1,'TwoMASS-J', wavelengths,mode=\"off-axis\") "
   ]
  },
  {
   "cell_type": "markdown",
   "metadata": {},
   "source": [
    "## Generate some Spectra"
   ]
  },
  {
   "cell_type": "markdown",
   "metadata": {},
   "source": [
    "We can now generate a host spectrum"
   ]
  },
  {
   "cell_type": "code",
   "execution_count": null,
   "metadata": {},
   "outputs": [],
   "source": [
    "#First set the host properties for a Phoenix model. \n",
    "host_properties = {\"StarLogg\":4.00*u.dex(u.cm/ u.s**2),\"StarTeff\":10000*u.K,\"StarZ\":'-0.0',\"StarAlpha\":\"0.0\",\n",
    "                   \"StarRadialVelocity\":100*u.km/u.s,\n",
    "                    \"StarVsini\":10*u.km/u.s,\n",
    "                    \"StarLimbDarkening\":0.8}\n",
    "\n",
    "#Now setup the user parameters that a Phoenix model needs: (path, object_filter, magnitude_in_object_filter,\n",
    "# filters_object,current_filter). \n",
    "host_user_params = (path,'TwoMASS-J',5.0,filters,hispec.current_filter)\n",
    "\n",
    "#Generate the spectrum! (Here we apply a doppler shift and rotationally broaden)\n",
    "host_spectrum = spectrum.get_stellar_spectrum(host_properties,wavelengths,hispec.current_R,model=\"Phoenix\",\n",
    "                                              user_params=host_user_params,doppler_shift=True,broaden=True,\n",
    "                                              delta_wv=hispec.current_dwvs)\n"
   ]
  },
  {
   "cell_type": "markdown",
   "metadata": {},
   "source": [
    "Plot the Spectrum!"
   ]
  },
  {
   "cell_type": "code",
   "execution_count": null,
   "metadata": {},
   "outputs": [],
   "source": [
    "plt.figure(figsize=(20,10))\n",
    "\n",
    "plt.semilogy(host_spectrum.wvs,host_spectrum.spectrum)\n",
    "\n",
    "plt.xlabel(\"Wavelength [{}]\".format(host_spectrum.wvs.unit))\n",
    "plt.ylabel(\"Spectrum [{}]\".format(host_spectrum.spectrum.unit))"
   ]
  },
  {
   "cell_type": "markdown",
   "metadata": {},
   "source": [
    "Now we can generate a target spectrum as well"
   ]
  },
  {
   "cell_type": "code",
   "execution_count": null,
   "metadata": {},
   "outputs": [],
   "source": [
    "obj_properties = {\"StarLogg\":3.25*u.dex(u.cm/ u.s**2),\"StarTeff\":700*u.K,\"StarRadialVelocity\":20*u.km/u.s,\"StarVsini\":10*u.km/u.s,\n",
    "                  \"StarLimbDarkening\":0.9}\n",
    "\n",
    "obj_user_params = (path,'TwoMASS-K',20,filters,hispec.current_filter)\n",
    "\n",
    "obj_spectrum = spectrum.get_stellar_spectrum(obj_properties,wavelengths,hispec.current_R,model=\"Sonora\",\n",
    "                                             user_params=obj_user_params,doppler_shift=True,broaden=True,\n",
    "                                             delta_wv=hispec.current_dwvs)"
   ]
  },
  {
   "cell_type": "code",
   "execution_count": null,
   "metadata": {},
   "outputs": [],
   "source": [
    "plt.figure(figsize=(30,10))\n",
    "\n",
    "plt.semilogy(obj_spectrum.wvs,obj_spectrum.spectrum)\n",
    "\n",
    "plt.xlabel(\"Wavelength [{}]\".format(obj_spectrum.wvs.unit))\n",
    "plt.ylabel(\"Spectrum [{}]\".format(obj_spectrum.spectrum.unit))\n",
    "plt.ylim(1e-10,1e-4)"
   ]
  },
  {
   "cell_type": "markdown",
   "metadata": {},
   "source": [
    "### Because of the original PSISIM design considerations, we want the object spectrum in contrast units"
   ]
  },
  {
   "cell_type": "code",
   "execution_count": null,
   "metadata": {},
   "outputs": [],
   "source": [
    "obj_spectrum.spectrum /= host_spectrum.spectrum"
   ]
  },
  {
   "cell_type": "code",
   "execution_count": null,
   "metadata": {},
   "outputs": [],
   "source": [
    "plt.semilogy(obj_spectrum.wvs,obj_spectrum.spectrum)"
   ]
  },
  {
   "cell_type": "markdown",
   "metadata": {},
   "source": [
    "# Simulate an observation"
   ]
  },
  {
   "cell_type": "markdown",
   "metadata": {},
   "source": [
    "First set some extra parameters"
   ]
  },
  {
   "cell_type": "code",
   "execution_count": null,
   "metadata": {},
   "outputs": [],
   "source": [
    "# The angular separation of the companion, in milliarcsecond\n",
    "host_properties['AngSep'] = 400 *u.mas\n",
    "\n",
    "#Get the host star magnitude in the AO filter\n",
    "host_properties[\"StarAOmag\"] = spectrum.get_model_ABmags(host_properties,[hispec.ao_filter], model='Phoenix',\n",
    "                                                         verbose=False,user_params = host_user_params)\n",
    "hispec.ao_mag = host_properties[\"StarAOmag\"]\n",
    "\n",
    "#Hispec doesn't care about the spectral type, but we need to include the paramter\n",
    "host_properties['StarSpT'] = None"
   ]
  },
  {
   "cell_type": "markdown",
   "metadata": {},
   "source": [
    "Actually simulate the observation "
   ]
  },
  {
   "cell_type": "code",
   "execution_count": null,
   "metadata": {
    "scrolled": false
   },
   "outputs": [],
   "source": [
    "obj_spec,total_noise,stellar_spec,thermal_spec,noise_components = observation.simulate_observation(keck,hispec,host_properties,\n",
    "                                                                                      obj_spectrum.spectrum,wavelengths,1e5,\n",
    "                                                                                      inject_noise=False,verbose=True,\n",
    "                                                                                       post_processing_gain = 10,\n",
    "                                                                                      return_noise_components=True,\n",
    "                                                                                      stellar_spec=host_spectrum.spectrum,\n",
    "                                                                                      apply_lsf=True,\n",
    "                                                                                      integrate_delta_wv=False)"
   ]
  },
  {
   "cell_type": "markdown",
   "metadata": {},
   "source": [
    "Plot it!"
   ]
  },
  {
   "cell_type": "code",
   "execution_count": null,
   "metadata": {
    "scrolled": false
   },
   "outputs": [],
   "source": [
    "plt.figure(figsize=(30,10))\n",
    "\n",
    "plt.semilogy(wavelengths,obj_spec)\n",
    "\n",
    "plt.xlabel(\"Wavelength [{}]\".format(wavelengths.unit))\n",
    "plt.ylabel(\"Spectrum [{}]\".format(obj_spec.unit))\n",
    "plt.ylim(1e-4,2e2)"
   ]
  },
  {
   "cell_type": "markdown",
   "metadata": {},
   "source": [
    "## Now let's cycle through the available filters and collect all the results "
   ]
  },
  {
   "cell_type": "code",
   "execution_count": null,
   "metadata": {},
   "outputs": [],
   "source": [
    "reload(observation)"
   ]
  },
  {
   "cell_type": "code",
   "execution_count": null,
   "metadata": {
    "scrolled": false
   },
   "outputs": [],
   "source": [
    "all_wavelengths = []\n",
    "full_host_spectrum = []\n",
    "full_obj_spectrum = []\n",
    "full_obj_spectrum_nosky = []\n",
    "full_total_noise = []\n",
    "full_thermal_spec = []\n",
    "full_noise_components = []\n",
    "full_speckle_noise = []\n",
    "\n",
    "\n",
    "for hispec_filter in hispec.filters:\n",
    "    \n",
    "    #Setup the instrument\n",
    "    hispec.set_current_filter(hispec_filter)\n",
    "    wavelengths = hispec.get_wavelength_range()\n",
    "    hispec.set_observing_mode(3600,1,hispec_filter, wavelengths) \n",
    "    \n",
    "    \n",
    "    host_user_params = (path,'TwoMASS-J',5.0,filters,hispec.current_filter)\n",
    "    host_spectrum = spectrum.get_stellar_spectrum(host_properties,wavelengths,hispec.current_R,\n",
    "                                                  model=\"Phoenix\",user_params=host_user_params,\n",
    "                                                  doppler_shift=True,broaden=True,delta_wv=hispec.current_dwvs)\n",
    "    \n",
    "    obj_user_params = (path,'TwoMASS-K',20,filters,hispec.current_filter)\n",
    "    obj_spectrum = spectrum.get_stellar_spectrum(obj_properties,wavelengths,hispec.current_R,model=\"Sonora\",\n",
    "                                                 user_params=obj_user_params,doppler_shift=True,broaden=True,\n",
    "                                                 delta_wv=hispec.current_dwvs)\n",
    "    \n",
    "    obj_spectrum.spectrum /= host_spectrum.spectrum\n",
    "    \n",
    "    obj_spec,total_noise,stellar_spec,thermal_spec,noise_components= observation.simulate_observation(keck,hispec,\n",
    "                                                                                      host_properties,\n",
    "                                                                                      obj_spectrum.spectrum,wavelengths,1e5,\n",
    "                                                                                      inject_noise=False,verbose=True,\n",
    "                                                                                      post_processing_gain = np.inf,\n",
    "                                                                                      return_noise_components=True,\n",
    "                                                                                      stellar_spec=host_spectrum.spectrum,\n",
    "                                                                                      apply_lsf=True,\n",
    "                                                                                      integrate_delta_wv=False,\n",
    "                                                                                      plot=False,\n",
    "                                                                                      sky_on=True)\n",
    "    obj_spec_no_sky,_,_,_ = observation.simulate_observation(keck,hispec,\n",
    "                                                                                      host_properties,\n",
    "                                                                                      obj_spectrum.spectrum,wavelengths,1e5,\n",
    "                                                                                      inject_noise=False,verbose=True,\n",
    "                                                                                      post_processing_gain = np.inf,\n",
    "                                                                                      return_noise_components=False,\n",
    "                                                                                      stellar_spec=host_spectrum.spectrum,\n",
    "                                                                                      apply_lsf=True,\n",
    "                                                                                      integrate_delta_wv=False,\n",
    "                                                                                      plot=False,\n",
    "                                                                                      sky_on=False)\n",
    "\n",
    "    full_speckle_noise.append(hispec.get_speckle_noise(0.4*u.arcsecond,host_properties[\"StarAOmag\"],hispec.current_filter,\n",
    "                                             wavelengths,host_properties['StarSpT'],keck)[0])\n",
    "    all_wavelengths.append(wavelengths)\n",
    "    full_host_spectrum.append(stellar_spec)\n",
    "    full_obj_spectrum.append(obj_spec)\n",
    "    full_obj_spectrum_nosky.append(obj_spec_no_sky)\n",
    "    full_total_noise.append(total_noise)\n",
    "    full_thermal_spec.append(thermal_spec)\n",
    "    full_noise_components.append(noise_components)\n",
    "\n",
    "all_wavelengths = np.hstack(all_wavelengths).value*wavelengths.unit\n",
    "full_host_spectrum = np.hstack(full_host_spectrum).value*stellar_spec.unit\n",
    "full_obj_spectrum = np.hstack(full_obj_spectrum).value*obj_spec.unit\n",
    "full_obj_spectrum_nosky = np.hstack(full_obj_spectrum_nosky).value*obj_spec_no_sky.unit\n",
    "full_total_noise = np.hstack(full_total_noise).value*total_noise.unit\n",
    "full_noise_components = np.hstack(full_noise_components)*obj_spec.unit\n",
    "full_thermal_spec = np.hstack(full_thermal_spec).value*thermal_spec.unit\n",
    "full_speckle_noise = np.hstack(full_speckle_noise)"
   ]
  },
  {
   "cell_type": "code",
   "execution_count": null,
   "metadata": {
    "scrolled": false
   },
   "outputs": [],
   "source": [
    "plt.figure(figsize=(30,10))\n",
    "\n",
    "plt.plot(all_wavelengths,full_obj_spectrum,label=\"Spectrum\")\n",
    "plt.plot(all_wavelengths,full_total_noise,label=\"Total Stastistical Noise Level\")\n",
    "\n",
    "plt.legend()\n",
    "\n",
    "plt.xlabel(\"Wavelength [{}]\".format(all_wavelengths.unit))\n",
    "plt.ylabel(\"Spectrum [{}]\".format(full_obj_spectrum.unit))\n",
    "plt.title(r\"HISPEC Observation of Sonora grid $T_{{eff}}$ = {}K,logg = {}, Exp. Time = {}, $N_{{exp}}$= {}\".format(\n",
    "obj_properties[\"StarTeff\"].value,obj_properties[\"StarLogg\"].value,hispec.exposure_time,hispec.n_exposures))\n",
    "plt.ylim(1e-4,1e2)\n",
    "plt.grid()"
   ]
  },
  {
   "cell_type": "markdown",
   "metadata": {},
   "source": [
    "## We can calculate the signal to noise now\n"
   ]
  },
  {
   "cell_type": "code",
   "execution_count": null,
   "metadata": {},
   "outputs": [],
   "source": [
    "plt.figure(figsize=(30,10))\n",
    "\n",
    "plt.plot(all_wavelengths,full_obj_spectrum/full_total_noise)\n",
    "\n",
    "plt.xlabel(\"Wavelength [{}]\".format(all_wavelengths.unit))\n",
    "plt.ylabel(\"SNR\")\n",
    "\n",
    "plt.title(r\"HISPEC Observation of Sonora grid $T_{{eff}}$ = {}K,logg = {}, Exp. Time = {}, $N_{{exp}}$= {}\".format(\n",
    "obj_properties[\"StarTeff\"].value,obj_properties[\"StarLogg\"].value,hispec.exposure_time,hispec.n_exposures))\n",
    "\n",
    "# plt.ylim(-0.01,0.4)\n",
    "plt.xlim(0.9,2.4)\n",
    "plt.grid()\n",
    "plt.ylim(-0.1,2.)"
   ]
  },
  {
   "cell_type": "markdown",
   "metadata": {},
   "source": [
    "### But let's not forget about systematics. We will estimate our ability to remove the host star spectrum and the telluric lines at the 1% level. "
   ]
  },
  {
   "cell_type": "code",
   "execution_count": null,
   "metadata": {},
   "outputs": [],
   "source": [
    "cal = 0.01 #Telluric calibration accuracy of 1%\n",
    "\n",
    "#The photon flux at the object will be the stellar flux multipled by the contrast there: \n",
    "# full_host_spectrum\n",
    "host_flux_at_obj = full_host_spectrum*hispec.get_speckle_noise(0.4*u.arcsecond,host_properties[\"StarAOmag\"],\n",
    "                                                               \"\",all_wavelengths,None,keck)[0]\n",
    "\n",
    "systematics = (cal*(host_flux_at_obj+full_thermal_spec))**2 #Variance of systematics\n",
    "\n",
    "noise_plus_systematics = np.sqrt(full_total_noise**2+systematics)"
   ]
  },
  {
   "cell_type": "code",
   "execution_count": null,
   "metadata": {
    "scrolled": false
   },
   "outputs": [],
   "source": [
    "plt.figure(figsize=(30,10))\n",
    "\n",
    "plt.plot(all_wavelengths,full_obj_spectrum/noise_plus_systematics)\n",
    "\n",
    "plt.xlabel(\"Wavelength [{}]\".format(all_wavelengths.unit))\n",
    "plt.ylabel(\"SNR with systematics\")\n",
    "\n",
    "plt.title(r\"HISPEC Observation of Sonora grid $T_{{eff}}$ = {}K,logg = {}, Exp. Time = {}, $N_{{exp}}$= {}\".format(\n",
    "obj_properties[\"StarTeff\"].value,obj_properties[\"StarLogg\"].value,hispec.exposure_time,hispec.n_exposures))\n",
    "\n",
    "# plt.ylim(-0.01,0.4)\n",
    "plt.xlim(0.9,2.4)\n",
    "plt.grid()\n",
    "plt.ylim(-0.1,2.)"
   ]
  },
  {
   "cell_type": "markdown",
   "metadata": {},
   "source": [
    "## Calculate the CCF-SNR"
   ]
  },
  {
   "cell_type": "markdown",
   "metadata": {},
   "source": [
    "### We'll do this with in the K-band (the last one from when we cycled through the filters above)"
   ]
  },
  {
   "cell_type": "markdown",
   "metadata": {},
   "source": [
    "Since we're doing this in k-band we'll want to recalculate the noise with the systematics just for this band"
   ]
  },
  {
   "cell_type": "code",
   "execution_count": null,
   "metadata": {},
   "outputs": [],
   "source": [
    "cal = 0.01 #Telluric calibration accuracy of 1%\n",
    "\n",
    "#The photon flux at the object will be the stellar flux multipled by the contrast there: \n",
    "# full_host_spectrum\n",
    "host_flux_at_obj = stellar_spec*hispec.get_speckle_noise(0.4*u.arcsecond,host_properties[\"StarAOmag\"],\n",
    "                                                               \"\",wavelengths,None,keck)[0]\n",
    "\n",
    "systematics = (cal*(host_flux_at_obj+thermal_spec))**2 #Variance of systematics\n",
    "\n",
    "noise_plus_systematics = np.sqrt(total_noise**2+systematics)\n"
   ]
  },
  {
   "cell_type": "code",
   "execution_count": null,
   "metadata": {},
   "outputs": [],
   "source": [
    "plt.plot(np.sqrt(systematics),label=\"Systematic Noise\")\n",
    "plt.plot(total_noise,label=\"Random Noise\")\n",
    "plt.legend(fontsize=10)"
   ]
  },
  {
   "cell_type": "markdown",
   "metadata": {},
   "source": [
    "Calculate the sky transmission lines convolved with the line spread function"
   ]
  },
  {
   "cell_type": "code",
   "execution_count": null,
   "metadata": {},
   "outputs": [],
   "source": [
    "#Get the wavelength spacing\n",
    "dwvs = np.abs(wavelengths - np.roll(wavelengths, 1))\n",
    "dwvs[0] = dwvs[1]\n",
    "dwv_mean = np.mean(dwvs)\n",
    "lsf_fwhm = (hispec.lsf_width/dwv_mean).decompose() #Get the lsf_fwhm in units of current wavelength spacing\n",
    "lsf_sigma = lsf_fwhm/(2*np.sqrt(2*np.log(2))) #Convert to sigma\n",
    "\n",
    "#Calculate the \n",
    "sky_transmission_lsf = gaussian_filter(keck.get_atmospheric_transmission(wavelengths),\n",
    "                                                                           lsf_sigma.value)"
   ]
  },
  {
   "cell_type": "markdown",
   "metadata": {},
   "source": [
    "Now get the ccf snr"
   ]
  },
  {
   "cell_type": "code",
   "execution_count": null,
   "metadata": {
    "tags": []
   },
   "outputs": [],
   "source": [
    "ccf_snr = signal.compute_ccf_snr_matchedfilter(obj_spec, obj_spec_no_sky, noise_plus_systematics, \n",
    "                                            sky_transmission_lsf,\n",
    "                                               systematics_residuals = cal, \n",
    "                                               norm_cutoff=0.8)\n",
    "print(ccf_snr)"
   ]
  },
  {
   "cell_type": "markdown",
   "metadata": {},
   "source": [
    "We can also calculate the ccf SNF for all the bands"
   ]
  },
  {
   "cell_type": "markdown",
   "metadata": {},
   "source": [
    "# Some other things we can look at to compare with Dimitri's original notebook \"HISPEC MODHIS ETC HDC v3\""
   ]
  },
  {
   "cell_type": "markdown",
   "metadata": {},
   "source": [
    "#### The thermal spectrum of the sky, telecsope and instrument."
   ]
  },
  {
   "cell_type": "code",
   "execution_count": null,
   "metadata": {},
   "outputs": [],
   "source": [
    "plt.figure(figsize=(30,10))\n",
    "\n",
    "# plt.semilogy(all_wavelengths,full_host_spectrum)\n",
    "plt.semilogy(all_wavelengths,full_thermal_spec)\n",
    "\n",
    "plt.xlabel(\"Wavelength [{}]\".format(all_wavelengths.unit))\n",
    "plt.ylabel('Thermal photon flux [{}]'.format(str((full_thermal_spec).unit)))\n",
    "# plt.ylim(1e,1e7)\n",
    "# plt.ylim(1e4,1e8)\n",
    "plt.xlim(0.9,2.4)\n"
   ]
  },
  {
   "cell_type": "markdown",
   "metadata": {},
   "source": [
    "### What about the relative contributions of the different noise components"
   ]
  },
  {
   "cell_type": "code",
   "execution_count": null,
   "metadata": {},
   "outputs": [],
   "source": [
    "plt.figure(figsize=(30,10))\n",
    "\n",
    "plt.plot(all_wavelengths,full_noise_components[0],label=\"Speckle Noise\")\n",
    "plt.plot(all_wavelengths,full_noise_components[1],label=\"Read Noise\")\n",
    "# plt.plot(all_wavelengths,full_noise_components[2],label=\"Dark Current Noise\")\n",
    "plt.plot(all_wavelengths,full_noise_components[2],label=\"Photon Noise\")\n",
    "\n",
    "plt.plot(all_wavelengths,full_total_noise,linestyle=\"-.\",label=\"Total Noise\",linewidth=0.2)\n",
    "\n",
    "plt.xlabel(\"Wavelength [{}]\".format(all_wavelengths.unit))\n",
    "plt.ylabel(\"Spectrum [{}]\".format(full_obj_spectrum.unit))\n",
    "# plt.ylim(1e0,5e1)\n",
    "plt.grid()\n",
    "plt.legend()"
   ]
  },
  {
   "cell_type": "markdown",
   "metadata": {},
   "source": [
    "## We can also check the throughput of the system: "
   ]
  },
  {
   "cell_type": "code",
   "execution_count": null,
   "metadata": {},
   "outputs": [],
   "source": [
    "th_sky = []\n",
    "th_total = []\n",
    "SR = []\n",
    "\n",
    "fig = plt.figure(figsize=(30,10))\n",
    "\n",
    "for hispec_filter in hispec.filters:    \n",
    "    #Setup the instrument\n",
    "    hispec.set_current_filter(hispec_filter)\n",
    "    wavelengths = hispec.get_wavelength_range()\n",
    "    hispec.set_observing_mode(3600,1,hispec_filter, wavelengths, mode='off-axis') \n",
    "    \n",
    "    \n",
    "    th_sky.append(keck.get_atmospheric_transmission(wavelengths))\n",
    "    th_total.append(keck.get_telescope_throughput(wavelengths,hispec)*hispec.get_inst_throughput(wavelengths)*hispec.get_filter_transmission(wavelengths,hispec.current_filter))\n",
    "    SR.append(hispec.compute_SR(wavelengths))            \n",
    "    \n",
    "    plt.plot(wavelengths,0.95*keck.get_atmospheric_transmission(wavelengths)*keck.get_telescope_throughput(wavelengths,hispec)*hispec.get_inst_throughput(wavelengths)*hispec.get_filter_transmission(wavelengths,hispec.current_filter),label=hispec_filter)\n",
    "    \n",
    "#     print(np.mean(hispec.current_dwvs))\n",
    "\n",
    "th_sky = np.hstack(th_sky)\n",
    "th_total = np.hstack(th_total)\n",
    "SR = np.hstack(SR)\n",
    "\n",
    "plt.xlim(0.9,2.4)\n",
    "plt.ylim(0,0.15)\n",
    "plt.grid()\n",
    "plt.xlabel(\"Wavelength [micron]\")\n",
    "plt.ylabel(\"Throughput\")\n",
    "\n",
    "plt.legend()"
   ]
  },
  {
   "cell_type": "markdown",
   "metadata": {},
   "source": [
    "## And the Strehl Ratio"
   ]
  },
  {
   "cell_type": "code",
   "execution_count": null,
   "metadata": {},
   "outputs": [],
   "source": [
    "plt.figure(figsize=(30,10))\n",
    "\n",
    "plt.plot(all_wavelengths,SR,'o')\n",
    "\n",
    "# plt.ylim(1e-2,0.2)\n",
    "plt.xlabel(\"Wavelength [{}]\".format(all_wavelengths.unit))\n",
    "plt.ylabel(\"Strehl Ratio\")\n",
    "# plt.ylim(1e-4,1e2)\n",
    "plt.grid()\n",
    "plt.ylim(0.3,0.9)\n",
    "plt.xlim(0.9,2.4)"
   ]
  },
  {
   "cell_type": "markdown",
   "metadata": {},
   "source": [
    "## Check the contrasts and mark the 0.4 arcsecond location for each wavelength"
   ]
  },
  {
   "cell_type": "code",
   "execution_count": null,
   "metadata": {
    "scrolled": false
   },
   "outputs": [],
   "source": [
    "separations = np.arange(0,1.,0.001)*u.arcsecond\n",
    "\n",
    "plt.figure(figsize=(30,10))\n",
    "\n",
    "for hispec_filter in hispec.filters:\n",
    "    \n",
    "    hispec.set_current_filter(hispec_filter)\n",
    "    wavelengths = hispec.get_wavelength_range()\n",
    "    hispec.set_observing_mode(3600,1,hispec_filter, wavelengths) \n",
    "    \n",
    "#     print(wavelengths[int(wavelengths.shape[0]/2):int(wavelengths.shape[0]/2)+2])\n",
    "    \n",
    "    contrasts = hispec.get_speckle_noise(separations,host_properties[\"StarAOmag\"],hispec.current_filter,\n",
    "                                       wavelengths[int(wavelengths.shape[0]/2):int(wavelengths.shape[0]/2)+2],\n",
    "                                         host_properties['StarSpT'],keck)[:,0]\n",
    "    \n",
    "    tsts = hispec.get_speckle_noise(np.array([0.4,0.5,0.6])*u.arcsecond,host_properties[\"StarAOmag\"],\n",
    "                                       hispec.current_filter,\n",
    "                                       wavelengths[int(wavelengths.shape[0]/2):int(wavelengths.shape[0]/2)+2],\n",
    "                                       host_properties['StarSpT'],keck)[0]\n",
    "    \n",
    "    plt.semilogy(separations/206265*keck.diameter/np.mean(wavelengths).to(u.m),contrasts,\n",
    "                 label=\"{:.2f}\".format(np.mean(wavelengths)))\n",
    "    plt.axvline(0.4/206265*keck.diameter/np.mean(wavelengths).to(u.m))\n",
    "    plt.plot([0.4/206265*keck.diameter/np.mean(wavelengths).to(u.m)],[tsts],'o')\n",
    "    \n",
    "# plt.xlim([0.01,100])\n",
    "# plt.ylim([1e-7,1])\n",
    "plt.xlabel('Angular separation ($\\lambda$/D)')\n",
    "plt.ylabel('Raw contrast')\n",
    "plt.legend()\n",
    "\n",
    "plt.grid(True)\n",
    "plt.xlim(7.5,20)\n",
    "plt.ylim(1e-5,1e-3)"
   ]
  },
  {
   "cell_type": "markdown",
   "metadata": {},
   "source": [
    "## Cross Correlating Noisy Spectra with Model"
   ]
  },
  {
   "cell_type": "code",
   "execution_count": null,
   "metadata": {},
   "outputs": [],
   "source": [
    "y = 0.94/1e5/3; j = 1.248 / 1e5 /3; h = 1.633 / 1e5 / 3; k = 2.200 / 1e5 / 3\n",
    "exp_time = 3600 * u.s\n",
    "delta_lb = np.array([y, j, h, k])*u.micron\n",
    "samp = np.array([3,3,3,3])\n",
    "\n",
    "## code to split the arrays for nicer plots. not necessary but splits plots into 4 filters\n",
    "wavesplit = np.array([all_wavelengths[97:44205],all_wavelengths[44301:106705],all_wavelengths[106803:168167],all_wavelengths[169262::]]) \n",
    "flux_split = np.array([host_flux_at_obj[97:44205],host_flux_at_obj[44301:106705],host_flux_at_obj[106803:168167],host_flux_at_obj[169262::]]) \n",
    "thermal_flux_split = np.array([full_thermal_spec[97:44205],full_thermal_spec[44301:106705],full_thermal_spec[106803:168167],full_thermal_spec[169262::]]) \n",
    "obj_spec_split = np.array([full_obj_spectrum[97:44205].value,full_obj_spectrum[44301:106705].value,full_obj_spectrum[106803:168167].value,full_obj_spectrum[169262::].value]) \n",
    "ron_split = np.array([full_noise_components[1][97:44205],full_noise_components[1][44301:106705],full_noise_components[1][106803:168167],full_noise_components[1][169262::]]) \n",
    "sky_trans_split = np.array([sky_transmission_lsf[97:44205],sky_transmission_lsf[44301:106705],sky_transmission_lsf[106803:168167],sky_transmission_lsf[169262::]]) \n",
    "model_spec_split= np.array([full_obj_spectrum_nosky[97:44205],full_obj_spectrum_nosky[44301:106705],full_obj_spectrum_nosky[106803:168167],full_obj_spectrum_nosky[169262::]]) "
   ]
  },
  {
   "cell_type": "code",
   "execution_count": null,
   "metadata": {},
   "outputs": [],
   "source": [
    "noisy_spec_filt, model_filt, ccf, ccf_model, velocity= signal.reduce_spec(wavesplit, delta_lb, samp, obj_spec_split, model_spec_split,flux_split, thermal_flux_split, ron_split, exp_time, sky_trans_split,cal, 301, 0.5)\n",
    "for i in range(obj_spec_split.shape[0]):\n",
    "    plt.figure(figsize=(30,10))\n",
    "    plt.plot(wavesplit[i],model_filt[i], label='Model')\n",
    "    plt.plot(wavesplit[i],noisy_spec_filt[i], label='Data',alpha=0.5)\n",
    "    #plt.title(fac+'. Host: '+str(host_mag)+' mag (Vega, ' + host_filt +'), '+str(host_temp)+'K star')\n",
    "    plt.xlabel('Wavelength (micron)')\n",
    "    plt.ylabel('Noisy spectrum reduced, filtered')\n",
    "    plt.legend()\n",
    "    \n",
    "    plt.figure(figsize=(30,10))\n",
    "    plt.plot(velocity[i],ccf_model[i], label='Model ACF')\n",
    "    plt.plot(velocity[i],ccf[i], label='CCF data with model')\n",
    "    plt.xlim([-100,100])\n",
    "    #plt.title(fac+'. Host: '+str(host_mag)+' mag (Vega, ' + host_filt +'), '+str(host_temp)+'K star')\n",
    "    plt.xlabel('Velocity (km/s)')\n",
    "    plt.ylabel('Correlation')\n",
    "    plt.legend()"
   ]
  },
  {
   "cell_type": "markdown",
   "metadata": {},
   "source": [
    "## Plot Spectra with Features"
   ]
  },
  {
   "cell_type": "code",
   "execution_count": null,
   "metadata": {},
   "outputs": [],
   "source": [
    "for i in range(noisy_spec_filt.shape[0]):\n",
    "    signal.plot_features(wavesplit[i],model_filt[i],noisy_spec_filt[i],features=['h2o','ch4','co','na','ca','vo','feh','k','h'])"
   ]
  },
  {
   "cell_type": "markdown",
   "metadata": {},
   "source": [
    "## Compute PRV Accuracy"
   ]
  },
  {
   "cell_type": "code",
   "execution_count": null,
   "metadata": {},
   "outputs": [],
   "source": [
    "for i in range(noisy_spec_filt.shape[0]):\n",
    "    signal.plot_features(wavesplit[i],model_filt[i],noisy_spec_filt[i],features=['h2o','ch4','co','na','ca','vo','feh','k','h'])"
   ]
  },
  {
   "cell_type": "markdown",
   "metadata": {},
   "source": [
    "## Compute PRV Accuracy"
   ]
  },
  {
   "cell_type": "code",
   "execution_count": null,
   "metadata": {},
   "outputs": [],
   "source": [
    "#need to double check math\n",
    "snr = full_obj_spectrum/full_total_noise\n",
    "sigma_rv = signal.compute_prv_sigma(wavesplit, delta_lb, snr, model_spec_split, sky_trans_split, cal, 101)"
   ]
  }
 ],
 "metadata": {
  "kernelspec": {
   "display_name": "Python 3",
   "language": "python",
   "name": "python3"
  },
  "language_info": {
   "codemirror_mode": {
    "name": "ipython",
    "version": 3
   },
   "file_extension": ".py",
   "mimetype": "text/x-python",
   "name": "python",
   "nbconvert_exporter": "python",
   "pygments_lexer": "ipython3",
   "version": "3.6.9"
  }
 },
 "nbformat": 4,
 "nbformat_minor": 2
}
