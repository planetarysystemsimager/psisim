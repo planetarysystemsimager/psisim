{
 "cells": [
  {
   "cell_type": "markdown",
   "id": "35b95dd7",
   "metadata": {},
   "source": [
    "## Simulate some reflected light planets"
   ]
  },
  {
   "cell_type": "code",
   "execution_count": 1,
   "id": "e0d3cbae",
   "metadata": {
    "scrolled": true
   },
   "outputs": [
    {
     "name": "stdout",
     "output_type": "stream",
     "text": [
      "Tried importing picaso, but couldn't do it\n"
     ]
    }
   ],
   "source": [
    "%load_ext autoreload\n",
    "%autoreload 2\n",
    "from psisim import telescope,instrument,observation,spectrum,universe,plots\n",
    "import numpy as np\n",
    "import matplotlib.pylab as plt\n",
    "%matplotlib inline\n",
    "import copy\n",
    "import time\n",
    "from astropy.io import fits\n",
    "import astropy.units as u"
   ]
  },
  {
   "cell_type": "markdown",
   "id": "951403a7",
   "metadata": {},
   "source": [
    "### Set up the telescope and instrument configuration"
   ]
  },
  {
   "cell_type": "code",
   "execution_count": 2,
   "id": "5664f53d",
   "metadata": {},
   "outputs": [],
   "source": [
    "gemini = telescope.GeminiSouth()\n",
    "gpi = instrument.GPI()\n",
    "wvs,dwvs = gpi.get_effective_wavelength('H')\n",
    "R = wvs/dwvs\n",
    "gpi.set_observing_mode(60,38,'H',R,wvs,dwvs)"
   ]
  },
  {
   "cell_type": "markdown",
   "id": "c0187576",
   "metadata": {},
   "source": [
    "### Generate planets and host stars with EXOSIMS\n",
    "\n",
    "We will make some cuts to limit to realistically detected planets.\n",
    "\n",
    "The planet table has all the planet and host star properties, which we will use going forward"
   ]
  },
  {
   "cell_type": "code",
   "execution_count": 3,
   "id": "f96825bf",
   "metadata": {
    "scrolled": true
   },
   "outputs": [
    {
     "name": "stdout",
     "output_type": "stream",
     "text": [
      "Imported TargetList (prototype module) from EXOSIMS.Prototypes.TargetList\n",
      "Imported EXOCAT1 (specific module) from EXOSIMS.StarCatalog.EXOCAT1\n",
      "Imported Nemati (specific module) from EXOSIMS.OpticalSystem.Nemati\n",
      "Imported Stark (specific module) from EXOSIMS.ZodiacalLight.Stark\n",
      "Imported PostProcessing (prototype module) from EXOSIMS.Prototypes.PostProcessing\n",
      "Imported BackgroundSources (prototype module) from EXOSIMS.Prototypes.BackgroundSources\n",
      "Imported Completeness (prototype module) from EXOSIMS.Prototypes.Completeness\n",
      "Imported SAG13 (specific module) from EXOSIMS.PlanetPopulation.SAG13\n",
      "Imported Forecaster (specific module) from EXOSIMS.PlanetPhysicalModel.Forecaster\n",
      "Calculating target stellar masses.\n"
     ]
    }
   ],
   "source": [
    "exosims_config_filename = \"forBruceandDimitri_EXOCAT1.json\" #Some filename here\n",
    "uni = universe.ExoSims_Universe(exosims_config_filename)\n",
    "uni.simulate_EXOSIMS_Universe()\n",
    "\n",
    "planet_table = uni.planets\n",
    "full_planet_table = copy.deepcopy(uni.planets)\n",
    "#Down select the planets whose separations are less than lambda/D\n",
    "\n",
    "##This step expects wvs in\n",
    "min_iwa = np.min(gpi.current_wvs)*1e-6/gemini.diameter*206265\n",
    "planet_table = planet_table[planet_table['AngSep'].to(u.arcsec).value > min_iwa]\n",
    "planet_table = planet_table[planet_table['Flux Ratio'] > 1e-10] # this is a rough planet contrast estimated by EXOSIMS\n",
    "n_planets = len(planet_table)"
   ]
  },
  {
   "cell_type": "code",
   "execution_count": 4,
   "id": "99d8d040",
   "metadata": {},
   "outputs": [
    {
     "data": {
      "text/html": [
       "<i>QTable length=6506</i>\n",
       "<table id=\"table140718218875424\" class=\"table-striped table-bordered table-condensed\">\n",
       "<thead><tr><th>StarName</th><th>RA</th><th>Dec</th><th>Distance</th><th>Flux Ratio</th><th>AngSep</th><th>ProjAU</th><th>Phase</th><th>SMA</th><th>Ecc</th><th>Inc</th><th>PlanetMass</th><th>PlanetRadius</th><th>PlanetLogg</th><th>StarSpT</th><th>StarMass</th><th>StarTeff</th><th>StarRad</th><th>StarLogg</th><th>StarBMag</th><th>StarVmag</th><th>StarRmag</th><th>StarImag</th><th>StarJmag</th><th>StarHmag</th><th>StarKmag</th></tr></thead>\n",
       "<thead><tr><th></th><th></th><th></th><th></th><th></th><th>mas</th><th>AU</th><th>rad</th><th>AU</th><th></th><th>deg</th><th>earthMass</th><th>earthRad</th><th>dex(cm / s2)</th><th></th><th>solMass</th><th>K</th><th>solRad</th><th>dex(cm / s2)</th><th></th><th></th><th></th><th></th><th></th><th></th><th></th></tr></thead>\n",
       "<thead><tr><th>str12</th><th>float64</th><th>float64</th><th>float64</th><th>float64</th><th>float64</th><th>float64</th><th>float64</th><th>float64</th><th>float64</th><th>float64</th><th>float64</th><th>float64</th><th>float64</th><th>str14</th><th>float64</th><th>float64</th><th>float64</th><th>float64</th><th>float64</th><th>float64</th><th>float64</th><th>float64</th><th>float64</th><th>float64</th><th>float64</th></tr></thead>\n",
       "<tr><td>HIP 57</td><td>0.16828599572181702</td><td>-69.6758041381836</td><td>29.87</td><td>1.2305761798026393e-07</td><td>4.098311764756113</td><td>0.15064648792925456</td><td>0.948613478001788</td><td>0.11014709344808045</td><td>0.5189181948906424</td><td>70.31961361751192</td><td>11.608729681501044</td><td>2.6967575475435632</td><td>3.1942559746075863</td><td>K2V</td><td>0.9491653815799038</td><td>5050.64469616304</td><td>0.8192143935707238</td><td>4.588614368860404</td><td>9.120000000000001</td><td>8.24</td><td>0.0</td><td>0.0</td><td>6.773</td><td>6.341</td><td>6.23</td></tr>\n",
       "<tr><td>HIP 263</td><td>0.8292379975318909</td><td>4.687136173248291</td><td>29.21</td><td>8.347144532936679e-10</td><td>25.75804063605507</td><td>0.8118345643203013</td><td>1.9558443239922725</td><td>0.8438785654146584</td><td>0.08570960540884834</td><td>34.469747141197075</td><td>12.190986153182173</td><td>2.6795559801959903</td><td>3.2210682507899686</td><td>M1</td><td>0.5045692274242577</td><td>3839.195017835037</td><td>0.24093905210837854</td><td>5.377173992765379</td><td>13.51</td><td>12.04</td><td>0.0</td><td>0.0</td><td>8.833</td><td>8.183</td><td>7.9799999999999995</td></tr>\n",
       "<tr><td>HIP 263</td><td>0.8292379975318909</td><td>4.687136173248291</td><td>29.21</td><td>1.2156149762472459e-10</td><td>136.75483600604082</td><td>4.502872541931168</td><td>1.091077106560874</td><td>3.3488893379673925</td><td>0.4061162193383995</td><td>96.50435328014949</td><td>4.603468307837776</td><td>1.8239971269558113</td><td>3.132191939757574</td><td>M1</td><td>0.5045692274242577</td><td>3839.195017835037</td><td>0.24093905210837854</td><td>5.377173992765379</td><td>13.51</td><td>12.04</td><td>0.0</td><td>0.0</td><td>8.833</td><td>8.183</td><td>7.9799999999999995</td></tr>\n",
       "<tr><td>HIP 263</td><td>0.8292379975318909</td><td>4.687136173248291</td><td>29.21</td><td>1.0626881953888632e-10</td><td>81.5566298721096</td><td>6.7201472471521155</td><td>0.3623756190025811</td><td>8.466245564927327</td><td>0.2127037390110487</td><td>87.91258124991127</td><td>65.46584633520808</td><td>3.886922507716857</td><td>3.6279581040562587</td><td>M1</td><td>0.5045692274242577</td><td>3839.195017835037</td><td>0.24093905210837854</td><td>5.377173992765379</td><td>13.51</td><td>12.04</td><td>0.0</td><td>0.0</td><td>8.833</td><td>8.183</td><td>7.9799999999999995</td></tr>\n",
       "<tr><td>HIP 263</td><td>0.8292379975318909</td><td>4.687136173248291</td><td>29.21</td><td>1.2226542275643859e-09</td><td>9.90465619487413</td><td>0.34661125019709305</td><td>2.1540122003541264</td><td>0.3276087466873865</td><td>0.08461075949420604</td><td>143.74855673192832</td><td>4.125183872534621</td><td>2.3317055751050444</td><td>2.871250970952797</td><td>M1</td><td>0.5045692274242577</td><td>3839.195017835037</td><td>0.24093905210837854</td><td>5.377173992765379</td><td>13.51</td><td>12.04</td><td>0.0</td><td>0.0</td><td>8.833</td><td>8.183</td><td>7.9799999999999995</td></tr>\n",
       "<tr><td>HIP 263</td><td>0.8292379975318909</td><td>4.687136173248291</td><td>29.21</td><td>5.7325776778035484e-08</td><td>2.466698719947956</td><td>0.14270758648071127</td><td>0.5292596906231394</td><td>0.1232218983264864</td><td>0.2103599494567942</td><td>68.44507996368414</td><td>2.451509086757371</td><td>2.032054385000131</td><td>2.7647179352370683</td><td>M1</td><td>0.5045692274242577</td><td>3839.195017835037</td><td>0.24093905210837854</td><td>5.377173992765379</td><td>13.51</td><td>12.04</td><td>0.0</td><td>0.0</td><td>8.833</td><td>8.183</td><td>7.9799999999999995</td></tr>\n",
       "<tr><td>HIP 263</td><td>0.8292379975318909</td><td>4.687136173248291</td><td>29.21</td><td>3.3609744561101914e-10</td><td>24.618140454342225</td><td>0.7209386700862088</td><td>1.6423111398399362</td><td>0.9189259380442404</td><td>0.2611908539272478</td><td>106.11519482925787</td><td>2.1599753281765173</td><td>1.1055578979912675</td><td>3.238440889545732</td><td>M1</td><td>0.5045692274242577</td><td>3839.195017835037</td><td>0.24093905210837854</td><td>5.377173992765379</td><td>13.51</td><td>12.04</td><td>0.0</td><td>0.0</td><td>8.833</td><td>8.183</td><td>7.9799999999999995</td></tr>\n",
       "<tr><td>HIP 263</td><td>0.8292379975318909</td><td>4.687136173248291</td><td>29.21</td><td>1.8098674915161994e-09</td><td>14.943253794228818</td><td>0.5982646037333126</td><td>0.8177334149789507</td><td>0.5089694182024243</td><td>0.4526799052328969</td><td>118.40778098874284</td><td>7.380362399037381</td><td>1.5794587954694788</td><td>3.462216168290443</td><td>M1</td><td>0.5045692274242577</td><td>3839.195017835037</td><td>0.24093905210837854</td><td>5.377173992765379</td><td>13.51</td><td>12.04</td><td>0.0</td><td>0.0</td><td>8.833</td><td>8.183</td><td>7.9799999999999995</td></tr>\n",
       "<tr><td>HIP 263</td><td>0.8292379975318909</td><td>4.687136173248291</td><td>29.21</td><td>4.037037780638239e-10</td><td>18.382078234878165</td><td>0.587126206091307</td><td>1.1543275713806018</td><td>0.5406886336622682</td><td>0.16942397676342613</td><td>55.70456361939487</td><td>0.16232006694849763</td><td>0.8086005439615537</td><td>2.3860592367972946</td><td>M1</td><td>0.5045692274242577</td><td>3839.195017835037</td><td>0.24093905210837854</td><td>5.377173992765379</td><td>13.51</td><td>12.04</td><td>0.0</td><td>0.0</td><td>8.833</td><td>8.183</td><td>7.9799999999999995</td></tr>\n",
       "<tr><td>...</td><td>...</td><td>...</td><td>...</td><td>...</td><td>...</td><td>...</td><td>...</td><td>...</td><td>...</td><td>...</td><td>...</td><td>...</td><td>...</td><td>...</td><td>...</td><td>...</td><td>...</td><td>...</td><td>...</td><td>...</td><td>...</td><td>...</td><td>...</td><td>...</td><td>...</td></tr>\n",
       "<tr><td>HIP 118200</td><td>359.6358337402344</td><td>7.6594061851501465</td><td>16.82</td><td>2.0491456523403895e-10</td><td>3.8017479505005984</td><td>0.18514216082936785</td><td>2.788943219907106</td><td>0.15003092804411236</td><td>0.25954827914348516</td><td>71.64482058052221</td><td>16.152730129585333</td><td>1.9126101503357702</td><td>3.6361481066087094</td><td>M2V:</td><td>0.45155782723088184</td><td>3763.6701294642344</td><td>0.1657520368935527</td><td>5.653863253838034</td><td>13.26</td><td>11.74</td><td>0.0</td><td>0.0</td><td>7.907</td><td>7.29</td><td>7.0200000000000005</td></tr>\n",
       "<tr><td>HIP 118212</td><td>359.6789245605469</td><td>46.72917175292969</td><td>17.54</td><td>2.178121755205336e-09</td><td>215.97042506002728</td><td>3.8537384157878174</td><td>1.385996843126047</td><td>3.951257353136981</td><td>0.22887542155321505</td><td>34.251395133973126</td><td>26.87338388717441</td><td>8.562217127563148</td><td>2.5553049643968873</td><td>M0</td><td>0.6323220813286989</td><td>3934.098141087187</td><td>0.41418579166217284</td><td>5.004615582062429</td><td>11.06</td><td>9.65</td><td>0.0</td><td>0.0</td><td>6.659</td><td>6.021</td><td>5.83</td></tr>\n",
       "<tr><td>HIP 118278</td><td>359.8671569824219</td><td>-20.03402328491211</td><td>25.09</td><td>6.276341176757581e-10</td><td>110.56699653372296</td><td>2.774354711756598</td><td>1.583638405137328</td><td>2.966061243742257</td><td>0.29715773109284954</td><td>117.81401802509957</td><td>21.79097971029123</td><td>3.197502846767238</td><td>3.3198099586688437</td><td>G8V</td><td>0.9238692434424511</td><td>5468.4090187676065</td><td>0.8368250394453963</td><td>4.558408803223436</td><td>8.209999999999999</td><td>7.47</td><td>0.0</td><td>0.0</td><td>6.128</td><td>5.77</td><td>5.71</td></tr>\n",
       "<tr><td>HIP 118278</td><td>359.8671569824219</td><td>-20.03402328491211</td><td>25.09</td><td>7.113967958752429e-10</td><td>91.76232756406588</td><td>2.3766422159563403</td><td>1.3200467917812455</td><td>1.8884191362125686</td><td>0.27570140258812414</td><td>80.78379103180816</td><td>6.3799790196150505</td><td>2.5378400939995935</td><td>2.9870458239372</td><td>G8V</td><td>0.9238692434424511</td><td>5468.4090187676065</td><td>0.8368250394453963</td><td>4.558408803223436</td><td>8.209999999999999</td><td>7.47</td><td>0.0</td><td>0.0</td><td>6.128</td><td>5.77</td><td>5.71</td></tr>\n",
       "<tr><td>HIP 118278</td><td>359.8671569824219</td><td>-20.03402328491211</td><td>25.09</td><td>1.5052284303763715e-09</td><td>189.19000383414055</td><td>4.755685715633967</td><td>1.632014308691696</td><td>3.7098769257921655</td><td>0.2940866208898083</td><td>80.91308604693276</td><td>161.4941732654075</td><td>9.606042762441367</td><td>3.234222908257381</td><td>G8V</td><td>0.9238692434424511</td><td>5468.4090187676065</td><td>0.8368250394453963</td><td>4.558408803223436</td><td>8.209999999999999</td><td>7.47</td><td>0.0</td><td>0.0</td><td>6.128</td><td>5.77</td><td>5.71</td></tr>\n",
       "<tr><td>HIP 118278</td><td>359.8671569824219</td><td>-20.03402328491211</td><td>25.09</td><td>6.105637389036921e-09</td><td>5.026558868541</td><td>0.12958897572273181</td><td>1.8028208174013636</td><td>0.1684150763358973</td><td>0.2939882732068276</td><td>63.98803604126252</td><td>1.6114810612337274</td><td>1.2072907280537244</td><td>3.0347565572772606</td><td>G8V</td><td>0.9238692434424511</td><td>5468.4090187676065</td><td>0.8368250394453963</td><td>4.558408803223436</td><td>8.209999999999999</td><td>7.47</td><td>0.0</td><td>0.0</td><td>6.128</td><td>5.77</td><td>5.71</td></tr>\n",
       "<tr><td>HIP 118278</td><td>359.8671569824219</td><td>-20.03402328491211</td><td>25.09</td><td>2.2991344310610935e-10</td><td>112.99471985151416</td><td>2.847950057006139</td><td>1.6660581329508362</td><td>3.2469465302604275</td><td>0.12776116259681752</td><td>52.52268854516678</td><td>4.006394784000349</td><td>2.1941749159566997</td><td>2.9113663320416077</td><td>G8V</td><td>0.9238692434424511</td><td>5468.4090187676065</td><td>0.8368250394453963</td><td>4.558408803223436</td><td>8.209999999999999</td><td>7.47</td><td>0.0</td><td>0.0</td><td>6.128</td><td>5.77</td><td>5.71</td></tr>\n",
       "<tr><td>HIP 120148</td><td>300.7533874511719</td><td>20.09716033935547</td><td>26.14</td><td>1.1026041744801562e-10</td><td>88.78668225328272</td><td>2.3212369566588427</td><td>1.5882384318076384</td><td>2.5675334154069973</td><td>0.4064796684970498</td><td>127.10024983011846</td><td>1.6465139571587313</td><td>1.113995438429818</td><td>3.1139536734500104</td><td></td><td>0.6431863545432508</td><td>3983.407818476451</td><td>0.39414137513003006</td><td>5.055100394458887</td><td>11.95</td><td>10.57</td><td>0.0</td><td>0.0</td><td>8.059</td><td>7.462</td><td>7.2700000000000005</td></tr>\n",
       "<tr><td>HIP 120148</td><td>300.7533874511719</td><td>20.09716033935547</td><td>26.14</td><td>1.0147151086231557e-09</td><td>17.810885330913454</td><td>0.495176524135011</td><td>1.9183070338531027</td><td>0.37073044683984613</td><td>0.46170768001430235</td><td>96.28033941056327</td><td>4.507954386203005</td><td>2.1440940806116395</td><td>2.982646919287202</td><td></td><td>0.6431863545432508</td><td>3983.407818476451</td><td>0.39414137513003006</td><td>5.055100394458887</td><td>11.95</td><td>10.57</td><td>0.0</td><td>0.0</td><td>8.059</td><td>7.462</td><td>7.2700000000000005</td></tr>\n",
       "<tr><td>HIP 120148</td><td>300.7533874511719</td><td>20.09716033935547</td><td>26.14</td><td>5.092818866333608e-10</td><td>128.74224286763035</td><td>3.537802281297976</td><td>1.884340034334877</td><td>2.525368700319734</td><td>0.5233490211888453</td><td>44.61158936907896</td><td>46.994311604285954</td><td>4.792145742216909</td><td>3.3021403388636354</td><td></td><td>0.6431863545432508</td><td>3983.407818476451</td><td>0.39414137513003006</td><td>5.055100394458887</td><td>11.95</td><td>10.57</td><td>0.0</td><td>0.0</td><td>8.059</td><td>7.462</td><td>7.2700000000000005</td></tr>\n",
       "</table>"
      ],
      "text/plain": [
       "<QTable length=6506>\n",
       " StarName           RA         ... StarHmag      StarKmag     \n",
       "                               ...                            \n",
       "  str12          float64       ... float64       float64      \n",
       "---------- ------------------- ... -------- ------------------\n",
       "    HIP 57 0.16828599572181702 ...    6.341               6.23\n",
       "   HIP 263  0.8292379975318909 ...    8.183 7.9799999999999995\n",
       "   HIP 263  0.8292379975318909 ...    8.183 7.9799999999999995\n",
       "   HIP 263  0.8292379975318909 ...    8.183 7.9799999999999995\n",
       "   HIP 263  0.8292379975318909 ...    8.183 7.9799999999999995\n",
       "   HIP 263  0.8292379975318909 ...    8.183 7.9799999999999995\n",
       "   HIP 263  0.8292379975318909 ...    8.183 7.9799999999999995\n",
       "   HIP 263  0.8292379975318909 ...    8.183 7.9799999999999995\n",
       "   HIP 263  0.8292379975318909 ...    8.183 7.9799999999999995\n",
       "       ...                 ... ...      ...                ...\n",
       "HIP 118200   359.6358337402344 ...     7.29 7.0200000000000005\n",
       "HIP 118212   359.6789245605469 ...    6.021               5.83\n",
       "HIP 118278   359.8671569824219 ...     5.77               5.71\n",
       "HIP 118278   359.8671569824219 ...     5.77               5.71\n",
       "HIP 118278   359.8671569824219 ...     5.77               5.71\n",
       "HIP 118278   359.8671569824219 ...     5.77               5.71\n",
       "HIP 118278   359.8671569824219 ...     5.77               5.71\n",
       "HIP 120148   300.7533874511719 ...    7.462 7.2700000000000005\n",
       "HIP 120148   300.7533874511719 ...    7.462 7.2700000000000005\n",
       "HIP 120148   300.7533874511719 ...    7.462 7.2700000000000005"
      ]
     },
     "execution_count": 4,
     "metadata": {},
     "output_type": "execute_result"
    }
   ],
   "source": [
    "planet_table"
   ]
  },
  {
   "cell_type": "markdown",
   "id": "a760adeb",
   "metadata": {},
   "source": [
    "### We'll pick random planets, since many systems are multi-planet systems and they show up  sequentially in EXOSIMS\n",
    "\n",
    "This example will only generate 2 planets for speed"
   ]
  },
  {
   "cell_type": "code",
   "execution_count": 4,
   "id": "ea88ee72",
   "metadata": {},
   "outputs": [],
   "source": [
    "planet_types = []\n",
    "planet_spectra = []\n",
    "\n",
    "n_planets_now = 2 # how many \n",
    "\n",
    "rand_planets = np.random.randint(0, n_planets, n_planets_now)"
   ]
  },
  {
   "cell_type": "markdown",
   "id": "931098a2",
   "metadata": {},
   "source": [
    "## Model spectrum wavelength choice based on instrument setup"
   ]
  },
  {
   "cell_type": "code",
   "execution_count": 5,
   "id": "bfbfda4b",
   "metadata": {},
   "outputs": [],
   "source": [
    "# We're going to generate a model spectrum at a resolution twice the \n",
    "# requested resolution\n",
    "intermediate_R = gpi.current_R*2\n",
    "#Choose the model wavelength range to be just a little bigger than \n",
    "#the observation wavelengths\n",
    "model_wv_low = 0.9*np.min(gpi.current_wvs.to(u.micron)) \n",
    "model_wv_high = 1.1*np.max(gpi.current_wvs.to(u.micron))\n",
    "\n",
    "#Figure out a good wavelength spacing for the model\n",
    "wv_c = 0.5*(model_wv_low+model_wv_high) \n",
    "dwv_c = wv_c/intermediate_R \n",
    "#The number of wavelengths to generate. Divide by two for nyquist in the d_wv. \n",
    "#Multiply the final number by 2 just to be safe.\n",
    "n_model_wv = int((model_wv_high-model_wv_low)/(dwv_c/2))*2\n",
    "#Generate the model wavelenths\n",
    "model_wvs = np.linspace(model_wv_low, model_wv_high, n_model_wv) "
   ]
  },
  {
   "cell_type": "markdown",
   "id": "823b74f9",
   "metadata": {},
   "source": [
    "## Generate spectra\n",
    "\n",
    "We will use a simple cloudy Jupiter model right now."
   ]
  },
  {
   "cell_type": "code",
   "execution_count": 6,
   "id": "4961d721-66c5-4f47-807b-dee3a718f405",
   "metadata": {},
   "outputs": [
    {
     "name": "stdout",
     "output_type": "stream",
     "text": [
      "\n",
      " Starting to generate planet spectra\n",
      "[1.36781808] ph / (Angstrom cm2 s)\n",
      "Spectrum took 0.181 s\n",
      "[0.12957507] ph / (Angstrom cm2 s)\n",
      "Spectrum took 0.069 s\n",
      "Done generating planet spectra\n"
     ]
    }
   ],
   "source": [
    "print(\"\\n Starting to generate planet spectra\")\n",
    "for planet in planet_table[rand_planets]:\n",
    "\n",
    "    #INSERT PLANET SELECTION RULES HERE\n",
    "    planet_type = \"Gas\"\n",
    "    planet_types.append(planet_type)\n",
    "\n",
    "    time1 = time.time()\n",
    "    #Generate the spectrum and downsample to intermediate resolution\n",
    "    \n",
    "    ## get_stellar_spectrum expects wvs in microns\n",
    "    planet_spectrum = spectrum.get_stellar_spectrum(planet,[gpi.current_wvs.to(u.micron)],R,model='Castelli-Kurucz',verbose=False,user_params = None,doppler_shift=False,broaden=False,delta_wv=None)\n",
    "    planet_spectra.append(planet_spectrum)\n",
    "    print(planet_spectrum)\n",
    "    time2 = time.time()\n",
    "    print('Spectrum took {0:.3f} s'.format((time2-time1)))\n",
    "\n",
    "print(\"Done generating planet spectra\")"
   ]
  },
  {
   "cell_type": "markdown",
   "id": "54c46cbd",
   "metadata": {},
   "source": [
    "## Simulate the observations and calculate the SNR of the observation"
   ]
  },
  {
   "cell_type": "code",
   "execution_count": null,
   "id": "dd759725",
   "metadata": {},
   "outputs": [],
   "source": []
  },
  {
   "cell_type": "code",
   "execution_count": 7,
   "id": "0badcd25-070e-48d1-9abd-7683d8d34d52",
   "metadata": {
    "scrolled": true
   },
   "outputs": [
    {
     "name": "stdout",
     "output_type": "stream",
     "text": [
      "\n",
      " Starting to simulate observations\n",
      "electron\n",
      "electron\n",
      "electron\n",
      "electron\n",
      "electron\n",
      "electron\n",
      "flux\n",
      "[1.36781808 0.12957507]\n",
      "[[672054.47803923]\n",
      " [ 52269.92755032]]\n",
      "[<Quantity 0.04372443 arcsec>]\n",
      "23.0569930559171 mas\n",
      "0.023056993055917102 arcsec\n",
      "113.62808306265313 mas\n",
      "0.11362808306265314 arcsec\n",
      "[[False]\n",
      " [ True]]\n"
     ]
    }
   ],
   "source": [
    "print(\"\\n Starting to simulate observations\")\n",
    "\n",
    "planet_spectra = np.array(planet_spectra)\n",
    "planet_table['StarAOmag'] = planet_table['StarImag']\n",
    "post_processing_gain=1000\n",
    "\n",
    "sim_F_lambda, sim_F_lambda_errs, sim_F_lambda_stellar, noise_components = observation.simulate_observation_set(gemini,gpi, planet_table[rand_planets], planet_spectra, model_wvs, intermediate_R, inject_noise=False,post_processing_gain=post_processing_gain,return_noise_components=True)\n",
    "\n",
    "speckle_noises = noise_components[:,0]\n",
    "photon_noises = noise_components[:,2]\n",
    "\n",
    "flux_ratios = np.divide(sim_F_lambda,sim_F_lambda_stellar)\n",
    "print('flux')\n",
    "print(flux_ratios)\n",
    "detection_limits = np.divide(sim_F_lambda_errs,sim_F_lambda_stellar)\n",
    "\n",
    "snrs = np.divide(sim_F_lambda,sim_F_lambda_errs)\n",
    "snrs = snrs[:,None]\n",
    "print(snrs)\n",
    "\n",
    "detected = gpi.detect_planets(planet_table[rand_planets],snrs)\n",
    "print(detected)"
   ]
  },
  {
   "cell_type": "code",
   "execution_count": 8,
   "id": "b2cd0bd6",
   "metadata": {},
   "outputs": [
    {
     "data": {
      "text/html": [
       "<i>QTable length=2</i>\n",
       "<table id=\"table140247203137616\" class=\"table-striped table-bordered table-condensed\">\n",
       "<thead><tr><th>StarName</th><th>RA</th><th>Dec</th><th>Distance</th><th>Flux Ratio</th><th>AngSep</th><th>ProjAU</th><th>Phase</th><th>SMA</th><th>Ecc</th><th>Inc</th><th>PlanetMass</th><th>PlanetRadius</th><th>PlanetLogg</th><th>StarSpT</th><th>StarMass</th><th>StarTeff</th><th>StarRad</th><th>StarLogg</th><th>StarBMag</th><th>StarVmag</th><th>StarRmag</th><th>StarImag</th><th>StarJmag</th><th>StarHmag</th><th>StarKmag</th><th>StarAOmag</th></tr></thead>\n",
       "<thead><tr><th></th><th></th><th></th><th></th><th></th><th>mas</th><th>AU</th><th>rad</th><th>AU</th><th></th><th>deg</th><th>earthMass</th><th>earthRad</th><th>dex(cm / s2)</th><th></th><th>solMass</th><th>K</th><th>solRad</th><th>dex(cm / s2)</th><th></th><th></th><th></th><th></th><th></th><th></th><th></th><th></th></tr></thead>\n",
       "<thead><tr><th>str12</th><th>float64</th><th>float64</th><th>float64</th><th>float64</th><th>float64</th><th>float64</th><th>float64</th><th>float64</th><th>float64</th><th>float64</th><th>float64</th><th>float64</th><th>float64</th><th>str14</th><th>float64</th><th>float64</th><th>float64</th><th>float64</th><th>float64</th><th>float64</th><th>float64</th><th>float64</th><th>float64</th><th>float64</th><th>float64</th><th>float64</th></tr></thead>\n",
       "<tr><td>HIP 44897</td><td>137.21334838867188</td><td>33.88249588012695</td><td>19.19</td><td>3.922403907867668e-10</td><td>23.0569930559171</td><td>0.6913950715216013</td><td>0.6944433981809878</td><td>0.7160356415840974</td><td>0.10448049878917415</td><td>90.51550904311462</td><td>0.17047122987176952</td><td>0.7723011407040433</td><td>2.4472328237605043</td><td>F9V</td><td>1.1485428031017217</td><td>6006.976021238379</td><td>1.0780010036950418</td><td>4.432976481703784</td><td>6.52</td><td>5.93</td><td>0.0</td><td>0.0</td><td>4.844</td><td>4.601</td><td>4.54</td><td>0.0</td></tr>\n",
       "<tr><td>HIP 93899</td><td>286.8062744140625</td><td>20.877824783325195</td><td>8.75</td><td>5.067356178029378e-09</td><td>113.62808306265313</td><td>1.0563040912932362</td><td>1.2263114108443052</td><td>0.9717480174284788</td><td>0.08808228300028986</td><td>26.423706980704644</td><td>100.32484394006667</td><td>4.445415357330881</td><td>3.696738883798422</td><td>M2</td><td>0.4887434651241529</td><td>3635.2204265737964</td><td>0.1444782724524555</td><td>5.807543510737373</td><td>12.379999999999999</td><td>10.77</td><td>0.0</td><td>0.0</td><td>7.278</td><td>6.752</td><td>6.529999999999999</td><td>0.0</td></tr>\n",
       "</table>"
      ],
      "text/plain": [
       "<QTable length=2>\n",
       " StarName         RA                Dec         ...      StarKmag     StarAOmag\n",
       "                                                ...                            \n",
       "  str12        float64            float64       ...      float64       float64 \n",
       "--------- ------------------ ------------------ ... ----------------- ---------\n",
       "HIP 44897 137.21334838867188  33.88249588012695 ...              4.54       0.0\n",
       "HIP 93899  286.8062744140625 20.877824783325195 ... 6.529999999999999       0.0"
      ]
     },
     "execution_count": 8,
     "metadata": {},
     "output_type": "execute_result"
    }
   ],
   "source": [
    "planet_table[rand_planets]"
   ]
  },
  {
   "cell_type": "code",
   "execution_count": 9,
   "id": "67044f57",
   "metadata": {},
   "outputs": [
    {
     "name": "stdout",
     "output_type": "stream",
     "text": [
      "1.6322600000000004e-06 m\n"
     ]
    }
   ],
   "source": [
    "print(gpi.current_wvs)"
   ]
  },
  {
   "cell_type": "markdown",
   "id": "76663f6f",
   "metadata": {},
   "source": [
    "## Plot the Planets.\n",
    "\n",
    "This will be sparse since we only have 2 planets"
   ]
  },
  {
   "cell_type": "code",
   "execution_count": 10,
   "id": "d5810870",
   "metadata": {},
   "outputs": [
    {
     "data": {
      "text/plain": [
       "Text(0.04, 2.5e-06, 'Post-processing gain: 1000')"
      ]
     },
     "execution_count": 10,
     "metadata": {},
     "output_type": "execute_result"
    },
    {
     "data": {
      "image/png": "[encoded data removed]",
      "text/plain": [
       "<Figure size 504x360 with 2 Axes>"
      ]
     },
     "metadata": {
      "needs_background": "light"
     },
     "output_type": "display_data"
    }
   ],
   "source": [
    "#Choose which wavelength you want to plot the detections at:\n",
    "wv_index = 0\n",
    "gpi.current_wvs = gpi.current_wvs[None]\n",
    "detection_limits = detection_limits[:,None]\n",
    "fig, ax = plots.plot_detected_planet_contrasts(planet_table[rand_planets],wv_index,\n",
    "    detected,flux_ratios[:,None],gpi,gemini,ymin=1e-13,alt_data=5*detection_limits,alt_label=r\"5-$\\sigma$ Detection Limits\", show=False)\n",
    "\n",
    "#The user can now adjust the plot as they see fit. \n",
    "#e.g. Annotate the plot\n",
    "ax.text(4e-2,1e-5,\"Planets detected: {}\".format(len(np.where(detected[:,wv_index])[0])),color='k')\n",
    "ax.text(4e-2,0.5e-5,\"Planets not detected: {}\".format(len(np.where(~detected[:,wv_index])[0])),color='k')\n",
    "ax.text(4e-2,0.25e-5,\"Post-processing gain: {}\".format(post_processing_gain),color='k')"
   ]
  },
  {
   "cell_type": "code",
   "execution_count": 11,
   "id": "de3667e5",
   "metadata": {},
   "outputs": [
    {
     "data": {
      "text/plain": [
       "137.21334838867188"
      ]
     },
     "execution_count": 11,
     "metadata": {},
     "output_type": "execute_result"
    }
   ],
   "source": [
    "planet_table[rand_planets][0][1]"
   ]
  },
  {
   "cell_type": "code",
   "execution_count": 13,
   "id": "c94acb38",
   "metadata": {},
   "outputs": [
    {
     "data": {
      "text/html": [
       "<i>QTable length=6578</i>\n",
       "<table id=\"table140247177260336\" class=\"table-striped table-bordered table-condensed\">\n",
       "<thead><tr><th>StarName</th><th>RA</th><th>Dec</th><th>Distance</th><th>Flux Ratio</th><th>AngSep</th><th>ProjAU</th><th>Phase</th><th>SMA</th><th>Ecc</th><th>Inc</th><th>PlanetMass</th><th>PlanetRadius</th><th>PlanetLogg</th><th>StarSpT</th><th>StarMass</th><th>StarTeff</th><th>StarRad</th><th>StarLogg</th><th>StarBMag</th><th>StarVmag</th><th>StarRmag</th><th>StarImag</th><th>StarJmag</th><th>StarHmag</th><th>StarKmag</th><th>StarAOmag</th></tr></thead>\n",
       "<thead><tr><th></th><th></th><th></th><th></th><th></th><th>mas</th><th>AU</th><th>rad</th><th>AU</th><th></th><th>deg</th><th>earthMass</th><th>earthRad</th><th>dex(cm / s2)</th><th></th><th>solMass</th><th>K</th><th>solRad</th><th>dex(cm / s2)</th><th></th><th></th><th></th><th></th><th></th><th></th><th></th><th></th></tr></thead>\n",
       "<thead><tr><th>str12</th><th>float64</th><th>float64</th><th>float64</th><th>float64</th><th>float64</th><th>float64</th><th>float64</th><th>float64</th><th>float64</th><th>float64</th><th>float64</th><th>float64</th><th>float64</th><th>str14</th><th>float64</th><th>float64</th><th>float64</th><th>float64</th><th>float64</th><th>float64</th><th>float64</th><th>float64</th><th>float64</th><th>float64</th><th>float64</th><th>float64</th></tr></thead>\n",
       "<tr><td>HIP 263</td><td>0.8292379975318909</td><td>4.687136173248291</td><td>29.21</td><td>4.033515779747765e-10</td><td>16.645490312265874</td><td>0.48921555915454373</td><td>1.4599797566685684</td><td>0.4464116852882999</td><td>0.18832871742669402</td><td>134.37838258584915</td><td>0.7256250312965433</td><td>0.7984079757387531</td><td>3.0474176043573253</td><td>M1</td><td>0.5484326126868583</td><td>3839.195017835037</td><td>0.24093905210837854</td><td>5.413376504767409</td><td>13.51</td><td>12.04</td><td>0.0</td><td>0.0</td><td>8.833</td><td>8.183</td><td>7.9799999999999995</td><td>0.0</td></tr>\n",
       "<tr><td>HIP 263</td><td>0.8292379975318909</td><td>4.687136173248291</td><td>29.21</td><td>2.687888451144109e-10</td><td>69.08797765275247</td><td>2.01836205965442</td><td>1.588102115735921</td><td>2.357992710746616</td><td>0.1458496979181811</td><td>83.55083070688147</td><td>11.332461805069995</td><td>1.6204958536969138</td><td>3.6261834976351204</td><td>M1</td><td>0.5484326126868583</td><td>3839.195017835037</td><td>0.24093905210837854</td><td>5.413376504767409</td><td>13.51</td><td>12.04</td><td>0.0</td><td>0.0</td><td>8.833</td><td>8.183</td><td>7.9799999999999995</td><td>0.0</td></tr>\n",
       "<tr><td>HIP 400</td><td>1.2336599826812744</td><td>23.2696475982666</td><td>26.39</td><td>6.653354674100825e-09</td><td>39.20145376498934</td><td>1.118345481568613</td><td>1.9604233833416393</td><td>1.0011492520528018</td><td>0.12190702160654489</td><td>140.40701846624322</td><td>168.2336022988098</td><td>10.17465496875907</td><td>3.2020284446086</td><td>G9V</td><td>0.9538688335928661</td><td>5372.794136511371</td><td>0.7796415502055799</td><td>4.6337663336299855</td><td>8.58</td><td>7.81</td><td>0.0</td><td>0.0</td><td>6.398</td><td>6.027</td><td>5.93</td><td>0.0</td></tr>\n",
       "<tr><td>HIP 400</td><td>1.2336599826812744</td><td>23.2696475982666</td><td>26.39</td><td>1.409970776385394e-09</td><td>17.641008028672243</td><td>0.9855802036552924</td><td>2.6496290850356203</td><td>0.9663643046024399</td><td>0.13693255373085272</td><td>111.54547571545247</td><td>3594.0</td><td>16.175515164285425</td><td>4.1290169124425296</td><td>G9V</td><td>0.9538688335928661</td><td>5372.794136511371</td><td>0.7796415502055799</td><td>4.6337663336299855</td><td>8.58</td><td>7.81</td><td>0.0</td><td>0.0</td><td>6.398</td><td>6.027</td><td>5.93</td><td>0.0</td></tr>\n",
       "<tr><td>HIP 400</td><td>1.2336599826812744</td><td>23.2696475982666</td><td>26.39</td><td>4.414988432154103e-09</td><td>5.05706514612448</td><td>0.17702287469018482</td><td>2.2876281739144333</td><td>0.19558917276749915</td><td>0.09535270468385447</td><td>75.05081432964279</td><td>5.9505061940330854</td><td>2.3443223503464985</td><td>3.0256743374407433</td><td>G9V</td><td>0.9538688335928661</td><td>5372.794136511371</td><td>0.7796415502055799</td><td>4.6337663336299855</td><td>8.58</td><td>7.81</td><td>0.0</td><td>0.0</td><td>6.398</td><td>6.027</td><td>5.93</td><td>0.0</td></tr>\n",
       "<tr><td>HIP 428</td><td>1.2923359870910645</td><td>45.78693389892578</td><td>11.25</td><td>4.733676871039638e-09</td><td>19.440230298505256</td><td>0.2243382153039655</td><td>1.7954159887525687</td><td>0.23507642351894464</td><td>0.33366866125189387</td><td>78.8006309819076</td><td>2.2200696753043423</td><td>1.6406227719095565</td><td>2.907504216084998</td><td>M2</td><td>0.5639554104203458</td><td>3839.195017835037</td><td>0.24295629879403066</td><td>5.418256069005674</td><td>11.42</td><td>9.95</td><td>0.0</td><td>0.0</td><td>6.704</td><td>6.098</td><td>5.85</td><td>0.0</td></tr>\n",
       "<tr><td>HIP 428</td><td>1.2923359870910645</td><td>45.78693389892578</td><td>11.25</td><td>3.2368419828217466e-09</td><td>36.93914686488364</td><td>0.41565419691214156</td><td>1.5501258676696996</td><td>0.3699801630531343</td><td>0.35302152687540944</td><td>124.94391098602689</td><td>4.289825409901461</td><td>2.306616196968927</td><td>2.897644024703133</td><td>M2</td><td>0.5639554104203458</td><td>3839.195017835037</td><td>0.24295629879403066</td><td>5.418256069005674</td><td>11.42</td><td>9.95</td><td>0.0</td><td>0.0</td><td>6.704</td><td>6.098</td><td>5.85</td><td>0.0</td></tr>\n",
       "<tr><td>HIP 428</td><td>1.2923359870910645</td><td>45.78693389892578</td><td>11.25</td><td>2.1222779489513625e-10</td><td>80.4038189526047</td><td>0.9695062261084295</td><td>1.9389498935990481</td><td>1.1665096749731163</td><td>0.2505385822964598</td><td>149.0707521584252</td><td>1.3278644933343218</td><td>1.264260978564397</td><td>2.910635372847907</td><td>M2</td><td>0.5639554104203458</td><td>3839.195017835037</td><td>0.24295629879403066</td><td>5.418256069005674</td><td>11.42</td><td>9.95</td><td>0.0</td><td>0.0</td><td>6.704</td><td>6.098</td><td>5.85</td><td>0.0</td></tr>\n",
       "<tr><td>HIP 428</td><td>1.2923359870910645</td><td>45.78693389892578</td><td>11.25</td><td>3.990000412403306e-09</td><td>84.18269015302923</td><td>0.9606242124123733</td><td>1.4025196757601894</td><td>1.187604626601149</td><td>0.21243852755276044</td><td>154.6092990713343</td><td>35.91921838501904</td><td>3.374102147758937</td><td>3.4901655070407105</td><td>M2</td><td>0.5639554104203458</td><td>3839.195017835037</td><td>0.24295629879403066</td><td>5.418256069005674</td><td>11.42</td><td>9.95</td><td>0.0</td><td>0.0</td><td>6.704</td><td>6.098</td><td>5.85</td><td>0.0</td></tr>\n",
       "<tr><td>...</td><td>...</td><td>...</td><td>...</td><td>...</td><td>...</td><td>...</td><td>...</td><td>...</td><td>...</td><td>...</td><td>...</td><td>...</td><td>...</td><td>...</td><td>...</td><td>...</td><td>...</td><td>...</td><td>...</td><td>...</td><td>...</td><td>...</td><td>...</td><td>...</td><td>...</td><td>...</td></tr>\n",
       "<tr><td>HIP 118212</td><td>359.6789245605469</td><td>46.72917175292969</td><td>17.54</td><td>5.26539502450022e-10</td><td>54.41479281534515</td><td>0.9726418483728064</td><td>1.3770068752368698</td><td>1.1303376614788583</td><td>0.3358850761452249</td><td>85.21070462644475</td><td>4.310193338514991</td><td>1.25994371869867</td><td>3.424949541822542</td><td>M0</td><td>0.6134238513242116</td><td>3934.098141087187</td><td>0.41418579166217284</td><td>4.99143789231926</td><td>11.06</td><td>9.65</td><td>0.0</td><td>0.0</td><td>6.659</td><td>6.021</td><td>5.83</td><td>0.0</td></tr>\n",
       "<tr><td>HIP 118261</td><td>359.8077087402344</td><td>-26.048776626586914</td><td>22.99</td><td>1.6991040152939081e-10</td><td>29.542403478834146</td><td>1.139255510535074</td><td>2.502881542804278</td><td>1.607930483600571</td><td>0.30163280484652827</td><td>118.14686191591576</td><td>7.887634238091591</td><td>2.667073548945405</td><td>3.036031860966852</td><td>K3/4V</td><td>0.8037513012312133</td><td>4648.70706545726</td><td>0.6021859212400559</td><td>4.78372812085473</td><td>9.739999999999998</td><td>8.7</td><td>0.0</td><td>0.0</td><td>6.799</td><td>6.289</td><td>6.109999999999999</td><td>0.0</td></tr>\n",
       "<tr><td>HIP 118261</td><td>359.8077087402344</td><td>-26.048776626586914</td><td>22.99</td><td>4.064315889011655e-09</td><td>12.741877855636586</td><td>0.706505747609221</td><td>0.4275319581367993</td><td>0.5942703987481884</td><td>0.3606136518793434</td><td>103.1788341250608</td><td>9.467522252394847</td><td>2.5566854952610343</td><td>3.1520368013511812</td><td>K3/4V</td><td>0.8037513012312133</td><td>4648.70706545726</td><td>0.6021859212400559</td><td>4.78372812085473</td><td>9.739999999999998</td><td>8.7</td><td>0.0</td><td>0.0</td><td>6.799</td><td>6.289</td><td>6.109999999999999</td><td>0.0</td></tr>\n",
       "<tr><td>HIP 118278</td><td>359.8671569824219</td><td>-20.03402328491211</td><td>25.09</td><td>2.4843728712863105e-10</td><td>57.893711138693725</td><td>1.454799913247899</td><td>1.6263793148003935</td><td>1.3810653010084153</td><td>0.17254291160592117</td><td>136.33945578665958</td><td>1.977076291584958</td><td>1.44032184030825</td><td>2.970259417870464</td><td>G8V</td><td>0.9297303984610565</td><td>5468.4090187676065</td><td>0.8368250394453963</td><td>4.561155324865196</td><td>8.209999999999999</td><td>7.47</td><td>0.0</td><td>0.0</td><td>6.128</td><td>5.77</td><td>5.71</td><td>0.0</td></tr>\n",
       "<tr><td>HIP 118278</td><td>359.8671569824219</td><td>-20.03402328491211</td><td>25.09</td><td>3.15817928037835e-10</td><td>65.51384244917145</td><td>2.03283689172929</td><td>0.9417606793663529</td><td>1.8124085023422825</td><td>0.12883952117686825</td><td>143.95852612450113</td><td>2.361571630145409</td><td>1.2234419404827</td><td>3.189189476203666</td><td>G8V</td><td>0.9297303984610565</td><td>5468.4090187676065</td><td>0.8368250394453963</td><td>4.561155324865196</td><td>8.209999999999999</td><td>7.47</td><td>0.0</td><td>0.0</td><td>6.128</td><td>5.77</td><td>5.71</td><td>0.0</td></tr>\n",
       "<tr><td>HIP 118278</td><td>359.8671569824219</td><td>-20.03402328491211</td><td>25.09</td><td>1.1480434296734898e-08</td><td>12.137974141311744</td><td>0.5060790358361624</td><td>0.6457119604169893</td><td>0.42767169798457605</td><td>0.20375412957684072</td><td>92.83855574976995</td><td>26.023762877759367</td><td>3.1807503319398216</td><td>3.401466012718322</td><td>G8V</td><td>0.9297303984610565</td><td>5468.4090187676065</td><td>0.8368250394453963</td><td>4.561155324865196</td><td>8.209999999999999</td><td>7.47</td><td>0.0</td><td>0.0</td><td>6.128</td><td>5.77</td><td>5.71</td><td>0.0</td></tr>\n",
       "<tr><td>HIP 118278</td><td>359.8671569824219</td><td>-20.03402328491211</td><td>25.09</td><td>1.5181261306350217e-09</td><td>65.99854495586222</td><td>1.8296705091452878</td><td>2.0101465290213953</td><td>2.933551758374572</td><td>0.37936468559398245</td><td>134.40581981486676</td><td>31.59530343193546</td><td>4.9441427120865775</td><td>3.1025956162767034</td><td>G8V</td><td>0.9297303984610565</td><td>5468.4090187676065</td><td>0.8368250394453963</td><td>4.561155324865196</td><td>8.209999999999999</td><td>7.47</td><td>0.0</td><td>0.0</td><td>6.128</td><td>5.77</td><td>5.71</td><td>0.0</td></tr>\n",
       "<tr><td>HIP 120148</td><td>300.7533874511719</td><td>20.09716033935547</td><td>26.14</td><td>6.614358006240578e-09</td><td>35.88061552616252</td><td>1.4135413050011392</td><td>0.7255199049445002</td><td>1.2413119583621517</td><td>0.14729016367798722</td><td>60.95114469079515</td><td>34.46624017975779</td><td>4.797682843182856</td><td>3.1664859220485218</td><td></td><td>0.6181862471491986</td><td>3983.407818476451</td><td>0.39414137513003006</td><td>5.03788291139487</td><td>11.95</td><td>10.57</td><td>0.0</td><td>0.0</td><td>8.059</td><td>7.462</td><td>7.2700000000000005</td><td>0.0</td></tr>\n",
       "<tr><td>HIP 120148</td><td>300.7533874511719</td><td>20.09716033935547</td><td>26.14</td><td>4.5374300891102664e-10</td><td>38.65726725595396</td><td>1.292820752829163</td><td>2.2443259240309366</td><td>1.2270620769116936</td><td>0.05364004775487007</td><td>40.28543738839926</td><td>49.56566333063932</td><td>3.811896870366401</td><td>3.524053719761209</td><td></td><td>0.6181862471491986</td><td>3983.407818476451</td><td>0.39414137513003006</td><td>5.03788291139487</td><td>11.95</td><td>10.57</td><td>0.0</td><td>0.0</td><td>8.059</td><td>7.462</td><td>7.2700000000000005</td><td>0.0</td></tr>\n",
       "<tr><td>HIP 120148</td><td>300.7533874511719</td><td>20.09716033935547</td><td>26.14</td><td>2.2319028077809816e-10</td><td>39.235739344474275</td><td>1.8054920155678762</td><td>2.537449735063619</td><td>1.5522497748254116</td><td>0.26009540674376735</td><td>124.32082632792971</td><td>90.68230481127829</td><td>5.566493264822782</td><td>3.4575142558663394</td><td></td><td>0.6181862471491986</td><td>3983.407818476451</td><td>0.39414137513003006</td><td>5.03788291139487</td><td>11.95</td><td>10.57</td><td>0.0</td><td>0.0</td><td>8.059</td><td>7.462</td><td>7.2700000000000005</td><td>0.0</td></tr>\n",
       "</table>"
      ],
      "text/plain": [
       "<QTable length=6578>\n",
       " StarName          RA         ...      StarKmag      StarAOmag\n",
       "                              ...                             \n",
       "  str12         float64       ...      float64        float64 \n",
       "---------- ------------------ ... ------------------ ---------\n",
       "   HIP 263 0.8292379975318909 ... 7.9799999999999995       0.0\n",
       "   HIP 263 0.8292379975318909 ... 7.9799999999999995       0.0\n",
       "   HIP 400 1.2336599826812744 ...               5.93       0.0\n",
       "   HIP 400 1.2336599826812744 ...               5.93       0.0\n",
       "   HIP 400 1.2336599826812744 ...               5.93       0.0\n",
       "   HIP 428 1.2923359870910645 ...               5.85       0.0\n",
       "   HIP 428 1.2923359870910645 ...               5.85       0.0\n",
       "   HIP 428 1.2923359870910645 ...               5.85       0.0\n",
       "   HIP 428 1.2923359870910645 ...               5.85       0.0\n",
       "       ...                ... ...                ...       ...\n",
       "HIP 118212  359.6789245605469 ...               5.83       0.0\n",
       "HIP 118261  359.8077087402344 ...  6.109999999999999       0.0\n",
       "HIP 118261  359.8077087402344 ...  6.109999999999999       0.0\n",
       "HIP 118278  359.8671569824219 ...               5.71       0.0\n",
       "HIP 118278  359.8671569824219 ...               5.71       0.0\n",
       "HIP 118278  359.8671569824219 ...               5.71       0.0\n",
       "HIP 118278  359.8671569824219 ...               5.71       0.0\n",
       "HIP 120148  300.7533874511719 ... 7.2700000000000005       0.0\n",
       "HIP 120148  300.7533874511719 ... 7.2700000000000005       0.0\n",
       "HIP 120148  300.7533874511719 ... 7.2700000000000005       0.0"
      ]
     },
     "execution_count": 13,
     "metadata": {},
     "output_type": "execute_result"
    }
   ],
   "source": [
    "planet_table"
   ]
  },
  {
   "cell_type": "code",
   "execution_count": 17,
   "id": "80714759",
   "metadata": {},
   "outputs": [
    {
     "data": {
      "text/plain": [
       "1.0"
      ]
     },
     "execution_count": 17,
     "metadata": {},
     "output_type": "execute_result"
    }
   ],
   "source": [
    "import math\n",
    "math.log10(10)"
   ]
  },
  {
   "cell_type": "code",
   "execution_count": 5,
   "id": "bc8e7e42",
   "metadata": {},
   "outputs": [
    {
     "data": {
      "text/latex": [
       "$1.63226 \\times 10^{-6} \\; \\mathrm{m}$"
      ],
      "text/plain": [
       "<Quantity 1.63226e-06 m>"
      ]
     },
     "execution_count": 5,
     "metadata": {},
     "output_type": "execute_result"
    }
   ],
   "source": [
    "wvs"
   ]
  },
  {
   "cell_type": "code",
   "execution_count": null,
   "id": "27323a3f",
   "metadata": {},
   "outputs": [],
   "source": []
  }
 ],
 "metadata": {
  "kernelspec": {
   "display_name": "Python 3",
   "language": "python",
   "name": "python3"
  },
  "language_info": {
   "codemirror_mode": {
    "name": "ipython",
    "version": 3
   },
   "file_extension": ".py",
   "mimetype": "text/x-python",
   "name": "python",
   "nbconvert_exporter": "python",
   "pygments_lexer": "ipython3",
   "version": "3.8.8"
  }
 },
 "nbformat": 4,
 "nbformat_minor": 5
}
