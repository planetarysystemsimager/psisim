{
 "cells": [
  {
   "cell_type": "code",
   "execution_count": 1,
   "metadata": {},
   "outputs": [],
   "source": [
    "from psisim import universe\n",
    "import matplotlib.pyplot as plt\n",
    "import numpy as np\n",
    "\n",
    "%load_ext autoreload\n",
    "%autoreload 2"
   ]
  },
  {
   "cell_type": "code",
   "execution_count": 2,
   "metadata": {},
   "outputs": [],
   "source": [
    "known_planets = universe.ExoArchive_Universe(\"Exoplane_Table\")"
   ]
  },
  {
   "cell_type": "code",
   "execution_count": 3,
   "metadata": {},
   "outputs": [
    {
     "name": "stdout",
     "output_type": "stream",
     "text": [
      "Exoplane_Table already exists:\n",
      "    we'll attempt to read this file as an astropy QTable\n"
     ]
    }
   ],
   "source": [
    "known_planets.Load_ExoArchive_Universe()"
   ]
  },
  {
   "cell_type": "code",
   "execution_count": 4,
   "metadata": {
    "scrolled": true
   },
   "outputs": [
    {
     "data": {
      "text/html": [
       "<i>QTable length=4367</i>\n",
       "<table id=\"table140375510820800\" class=\"table-striped table-bordered table-condensed\">\n",
       "<thead><tr><th>PlanetName</th><th>StarName</th><th>SMA</th><th>Ecc</th><th>Inc</th><th>PlanetMass</th><th>PlanetRadius</th><th>PlanetTeq</th><th>RA</th><th>Dec</th><th>Distance</th><th>StarSpT</th><th>StarMass</th><th>StarTeff</th><th>StarRad</th><th>StarLogg</th><th>StarLum</th><th>StarAge</th><th>StarVsini</th><th>StarRadialVelocity</th><th>StarZ</th><th>StarParallax</th><th>StarBMag</th><th>StarVmag</th><th>StarRmag</th><th>StarImag</th><th>StarJmag</th><th>StarHmag</th><th>StarKmag</th><th>DiscoveryMethod</th><th>Flux Ratio</th><th>ProjAU</th><th>Phase</th><th>AngSep</th><th>PlanetLogg</th></tr></thead>\n",
       "<thead><tr><th></th><th></th><th>AU</th><th></th><th>deg</th><th></th><th></th><th></th><th></th><th></th><th></th><th></th><th></th><th></th><th></th><th></th><th>solLum</th><th>Gyr</th><th>km / s</th><th>km / s</th><th>dex</th><th>mas</th><th></th><th></th><th></th><th></th><th></th><th></th><th></th><th></th><th></th><th>AU</th><th></th><th>mas</th><th></th></tr></thead>\n",
       "<thead><tr><th>object</th><th>object</th><th>float64</th><th>float64</th><th>float64</th><th>float64</th><th>float64</th><th>float64</th><th>float64</th><th>float64</th><th>float64</th><th>object</th><th>float64</th><th>float64</th><th>float64</th><th>float64</th><th>float64</th><th>float64</th><th>float64</th><th>float64</th><th>float64</th><th>float64</th><th>float64</th><th>float64</th><th>float64</th><th>float64</th><th>float64</th><th>float64</th><th>float64</th><th>object</th><th>float64</th><th>float64</th><th>float64</th><th>float64</th><th>float64</th></tr></thead>\n",
       "<tr><td>HD 20794 c</td><td>HD 20794</td><td>0.2036</td><td>0.0</td><td>90.0</td><td>2.4</td><td>1.35</td><td>508.0</td><td>49.9997666</td><td>-43.0666533</td><td>6.00278</td><td>G8 V</td><td>0.7</td><td>5401.0</td><td>0.92</td><td>4.22</td><td>0.6870684400142322</td><td>5.76</td><td>3.0</td><td>87.95</td><td>-0.4</td><td>166.561</td><td>4.966</td><td>4.26</td><td>nan</td><td>3.465</td><td>3.032</td><td>2.709</td><td>2.636</td><td>Radial Velocity</td><td>nan</td><td>nan</td><td>nan</td><td>33.91761817024779</td><td>3.110698786682366</td></tr>\n",
       "<tr><td>HD 20794 d</td><td>HD 20794</td><td>0.3499</td><td>0.0</td><td>90.0</td><td>4.8</td><td>2.04</td><td>388.0</td><td>49.9997666</td><td>-43.0666533</td><td>6.00278</td><td>G8 V</td><td>0.7</td><td>5401.0</td><td>0.92</td><td>4.22</td><td>0.6870684400142322</td><td>5.76</td><td>3.0</td><td>87.95</td><td>-0.4</td><td>166.561</td><td>4.966</td><td>4.26</td><td>nan</td><td>3.465</td><td>3.032</td><td>2.709</td><td>2.636</td><td>Radial Velocity</td><td>nan</td><td>nan</td><td>nan</td><td>58.289659124605606</td><td>3.053135984484562</td></tr>\n",
       "<tr><td>HD 208487 b</td><td>HD 208487</td><td>0.524</td><td>0.24</td><td>nan</td><td>165.265</td><td>14.2</td><td>nan</td><td>329.3332489</td><td>-37.7641354</td><td>45.147</td><td>G2 V</td><td>1.13</td><td>6067.0</td><td>1.2</td><td>4.33</td><td>1.7538805018417611</td><td>8.15</td><td>4.61</td><td>5.49</td><td>0.022</td><td>22.1214</td><td>8.023</td><td>7.47</td><td>nan</td><td>nan</td><td>6.477</td><td>6.213</td><td>6.159</td><td>Radial Velocity</td><td>nan</td><td>nan</td><td>nan</td><td>11.60652978049483</td><td>2.9047592811501257</td></tr>\n",
       "<tr><td>HD 20868 b</td><td>HD 20868</td><td>0.95</td><td>0.75</td><td>nan</td><td>397.2875</td><td>13.7</td><td>nan</td><td>50.1794053</td><td>-33.72969</td><td>47.7223</td><td>K3/4 IV</td><td>0.39</td><td>4802.0</td><td>0.76</td><td>4.26</td><td>0.29580124665515456</td><td>4.5</td><td>1.1</td><td>46.12</td><td>0.05</td><td>20.9257</td><td>10.935</td><td>9.92</td><td>nan</td><td>nan</td><td>8.138</td><td>7.641</td><td>7.543</td><td>Radial Velocity</td><td>nan</td><td>nan</td><td>nan</td><td>19.906836007484973</td><td>3.3168188485542527</td></tr>\n",
       "<tr><td>HD 209458 b</td><td>HD 209458</td><td>0.04707</td><td>0.0</td><td>86.71</td><td>232.0159</td><td>15.581</td><td>1459.0</td><td>330.7950219</td><td>18.8842419</td><td>48.3016</td><td>G0 V</td><td>1.23</td><td>6091.0</td><td>1.19</td><td>4.45</td><td>1.7021585083949506</td><td>3.1</td><td>4.4</td><td>-14.74</td><td>0.01</td><td>20.6745</td><td>8.168</td><td>7.65</td><td>nan</td><td>7.037</td><td>6.591</td><td>6.366</td><td>6.308</td><td>Radial Velocity</td><td>nan</td><td>nan</td><td>nan</td><td>0.9745018798549115</td><td>2.971482174841042</td></tr>\n",
       "<tr><td>HD 210277 b</td><td>HD 210277</td><td>1.13</td><td>0.48</td><td>nan</td><td>410.0007</td><td>13.6</td><td>nan</td><td>332.3748117</td><td>-7.5505962</td><td>21.2985</td><td>G0 V</td><td>1.01</td><td>5538.0</td><td>1.07</td><td>4.38</td><td>0.9289663867799364</td><td>12.0</td><td>1.8</td><td>-21.1</td><td>0.22</td><td>46.9229</td><td>7.296</td><td>6.54348</td><td>nan</td><td>5.765</td><td>5.275</td><td>4.957</td><td>4.799</td><td>Radial Velocity</td><td>nan</td><td>nan</td><td>nan</td><td>53.05537948681832</td><td>3.3368618634178238</td></tr>\n",
       "<tr><td>HD 210702 b</td><td>HD 210702</td><td>1.148</td><td>0.028</td><td>nan</td><td>574.63664</td><td>13.4</td><td>nan</td><td>332.9638643</td><td>16.0404806</td><td>54.1963</td><td>K1 III</td><td>1.61</td><td>4951.0</td><td>4.92</td><td>3.28</td><td>14.092887984218748</td><td>2.1</td><td>1.99</td><td>16.39</td><td>0.04</td><td>18.4231</td><td>6.895</td><td>5.93022</td><td>nan</td><td>nan</td><td>4.508</td><td>3.995</td><td>3.984</td><td>Radial Velocity</td><td>nan</td><td>nan</td><td>nan</td><td>21.182257829409018</td><td>3.496338799268739</td></tr>\n",
       "<tr><td>HD 212301 b</td><td>HD 212301</td><td>0.03</td><td>0.0</td><td>nan</td><td>162.0933</td><td>14.2</td><td>nan</td><td>336.8803957</td><td>-77.7183219</td><td>54.2304</td><td>F8 V</td><td>1.55</td><td>6239.0</td><td>1.16</td><td>4.5</td><td>1.7498466886246569</td><td>1.0</td><td>7.0</td><td>4.87</td><td>0.18</td><td>18.4109</td><td>8.314</td><td>7.76</td><td>nan</td><td>nan</td><td>6.765</td><td>6.522</td><td>6.466</td><td>Radial Velocity</td><td>nan</td><td>nan</td><td>nan</td><td>0.5531952557974862</td><td>2.896343457190833</td></tr>\n",
       "<tr><td>HD 212771 b</td><td>HD 212771</td><td>1.19</td><td>0.076</td><td>nan</td><td>759.6137</td><td>13.3</td><td>nan</td><td>336.762413</td><td>-17.2641046</td><td>111.155</td><td>G8 IV</td><td>1.56</td><td>5003.0</td><td>5.27</td><td>3.31</td><td>15.417004529495593</td><td>6.0</td><td>1.79</td><td>14.99</td><td>-0.21</td><td>8.96785</td><td>8.479</td><td>7.6</td><td>7.886</td><td>nan</td><td>6.025</td><td>5.578</td><td>5.496</td><td>Radial Velocity</td><td>nan</td><td>nan</td><td>nan</td><td>10.705771220367954</td><td>3.6240445888729758</td></tr>\n",
       "<tr><td>...</td><td>...</td><td>...</td><td>...</td><td>...</td><td>...</td><td>...</td><td>...</td><td>...</td><td>...</td><td>...</td><td>...</td><td>...</td><td>...</td><td>...</td><td>...</td><td>...</td><td>...</td><td>...</td><td>...</td><td>...</td><td>...</td><td>...</td><td>...</td><td>...</td><td>...</td><td>...</td><td>...</td><td>...</td><td>...</td><td>...</td><td>...</td><td>...</td><td>...</td><td>...</td></tr>\n",
       "<tr><td>Kepler-174 c</td><td>Kepler-174</td><td>0.214</td><td>0.0</td><td>89.97</td><td>2.83</td><td>1.49</td><td>377.0</td><td>287.4389454</td><td>43.8320052</td><td>384.757</td><td>?</td><td>0.6</td><td>4880.0</td><td>0.62</td><td>4.68</td><td>0.2691534803926916</td><td>4.9</td><td>nan</td><td>nan</td><td>-0.44</td><td>2.57024</td><td>15.539</td><td>14.53</td><td>14.237</td><td>nan</td><td>12.791</td><td>12.293</td><td>12.184</td><td>Transit</td><td>nan</td><td>nan</td><td>nan</td><td>0.5561952089240741</td><td>3.0965689806605146</td></tr>\n",
       "<tr><td>Kepler-186 d</td><td>Kepler-186</td><td>0.0781</td><td>0.0</td><td>89.1</td><td>2.54</td><td>1.4</td><td>379.0</td><td>298.652736</td><td>43.9549884</td><td>177.594</td><td>M1</td><td>0.48</td><td>3788.0</td><td>0.47</td><td>4.77</td><td>0.04120975190973302</td><td>4.0</td><td>nan</td><td>nan</td><td>-0.28</td><td>5.60203</td><td>16.867</td><td>15.138</td><td>14.679</td><td>nan</td><td>12.473</td><td>11.824</td><td>11.605</td><td>Transit</td><td>nan</td><td>nan</td><td>nan</td><td>0.4397671092491864</td><td>3.1037327272242345</td></tr>\n",
       "<tr><td>Kepler-55 b</td><td>Kepler-55</td><td>0.1593</td><td>0.0</td><td>89.94</td><td>473.55</td><td>2.43</td><td>400.0</td><td>285.1683291</td><td>44.0264898</td><td>578.796</td><td>?</td><td>0.62</td><td>4362.0</td><td>0.58</td><td>4.7</td><td>0.17258378919902034</td><td>2.34</td><td>nan</td><td>nan</td><td>-0.01</td><td>1.69932</td><td>17.085</td><td>15.746</td><td>15.719</td><td>nan</td><td>13.97</td><td>13.359</td><td>13.289</td><td>Transit</td><td>nan</td><td>nan</td><td>nan</td><td>0.27522650467522236</td><td>4.895308375712046</td></tr>\n",
       "<tr><td>Kepler-251 d</td><td>Kepler-251</td><td>0.182</td><td>0.0</td><td>88.21</td><td>8.1</td><td>2.77</td><td>536.0</td><td>296.5662171</td><td>44.1058077</td><td>924.625</td><td>?</td><td>0.95</td><td>5526.0</td><td>0.89</td><td>4.49</td><td>0.6729766562843178</td><td>3.63</td><td>nan</td><td>nan</td><td>-0.02</td><td>1.05376</td><td>16.292</td><td>15.541</td><td>15.187</td><td>nan</td><td>13.96</td><td>13.596</td><td>13.632</td><td>Transit</td><td>nan</td><td>nan</td><td>nan</td><td>0.1968365553602812</td><td>3.014680562710525</td></tr>\n",
       "<tr><td>Kepler-253 d</td><td>Kepler-253</td><td>0.13</td><td>0.0</td><td>89.64</td><td>10.2</td><td>3.17</td><td>563.0</td><td>291.8419337</td><td>44.858124</td><td>838.595</td><td>?</td><td>0.85</td><td>5208.0</td><td>0.79</td><td>4.6</td><td>0.4102041029866068</td><td>0.7</td><td>nan</td><td>nan</td><td>0.03</td><td>1.16424</td><td>16.653</td><td>15.778</td><td>15.471</td><td>nan</td><td>14.055</td><td>13.632</td><td>13.534</td><td>Transit</td><td>nan</td><td>nan</td><td>nan</td><td>0.15502119616739904</td><td>2.997636729287187</td></tr>\n",
       "<tr><td>Kepler-561 c</td><td>Kepler-561</td><td>0.0593</td><td>0.0</td><td>89.98</td><td>7.65</td><td>2.68</td><td>989.0</td><td>293.7471107</td><td>45.1071981</td><td>621.378</td><td>?</td><td>0.96</td><td>5646.0</td><td>0.94</td><td>4.48</td><td>0.660693448007596</td><td>4.27</td><td>nan</td><td>nan</td><td>0.02</td><td>1.58085</td><td>15.371</td><td>14.427</td><td>14.276</td><td>nan</td><td>13.061</td><td>12.69</td><td>12.585</td><td>Transit</td><td>nan</td><td>nan</td><td>nan</td><td>0.09543305363241053</td><td>3.018546929056812</td></tr>\n",
       "<tr><td>Kepler-215 b</td><td>Kepler-215</td><td>0.084</td><td>0.0</td><td>86.69</td><td>3.26</td><td>1.62</td><td>784.0</td><td>294.9735313</td><td>45.2136867</td><td>485.997</td><td>?</td><td>0.94</td><td>5739.0</td><td>1.03</td><td>4.36</td><td>0.7638357835776907</td><td>1.62</td><td>nan</td><td>nan</td><td>-0.443</td><td>2.02881</td><td>14.3</td><td>13.678</td><td>13.541</td><td>nan</td><td>12.417</td><td>12.065</td><td>11.996</td><td>Transit</td><td>nan</td><td>nan</td><td>nan</td><td>0.17284057308995734</td><td>3.0853426529434493</td></tr>\n",
       "<tr><td>Kepler-62 b</td><td>Kepler-62</td><td>0.0553</td><td>0.0</td><td>89.2</td><td>9.0</td><td>1.31</td><td>750.0</td><td>283.2125621</td><td>45.3496992</td><td>300.874</td><td>K2 V</td><td>0.69</td><td>4925.0</td><td>0.64</td><td>4.68</td><td>0.2098939883623524</td><td>7.0</td><td>0.4</td><td>nan</td><td>-0.37</td><td>3.29474</td><td>15.027</td><td>13.965</td><td>13.654</td><td>nan</td><td>12.256</td><td>11.739</td><td>11.659</td><td>Transit</td><td>nan</td><td>nan</td><td>nan</td><td>0.18379786887534316</td><td>3.7108550000885687</td></tr>\n",
       "<tr><td>Kepler-192 c</td><td>Kepler-192</td><td>0.15</td><td>0.0</td><td>87.86</td><td>8.2</td><td>2.79</td><td>623.0</td><td>287.9179379</td><td>45.5928829</td><td>651.674</td><td>?</td><td>0.94</td><td>5479.0</td><td>1.01</td><td>4.43</td><td>0.8053784411990667</td><td>0.5</td><td>nan</td><td>nan</td><td>0.357</td><td>1.50571</td><td>15.237</td><td>14.308</td><td>14.064</td><td>nan</td><td>12.892</td><td>12.512</td><td>12.427</td><td>Transit</td><td>nan</td><td>nan</td><td>nan</td><td>0.23017643791220765</td><td>3.013760527797294</td></tr>\n",
       "<tr><td>Kepler-33 f</td><td>Kepler-33</td><td>0.2535</td><td>0.0</td><td>89.17</td><td>9.6</td><td>4.46</td><td>691.0</td><td>289.0775348</td><td>46.0051696</td><td>1209.16</td><td>?</td><td>1.29</td><td>5904.0</td><td>1.82</td><td>4.03</td><td>3.5974933515574232</td><td>4.27</td><td>3.4</td><td>14.09</td><td>0.025</td><td>0.798185</td><td>14.823</td><td>14.099</td><td>13.943</td><td>nan</td><td>12.871</td><td>12.62</td><td>12.591</td><td>Transit</td><td>nan</td><td>nan</td><td>nan</td><td>0.20964967415395813</td><td>2.674756597576057</td></tr>\n",
       "</table>"
      ],
      "text/plain": [
       "<QTable length=4367>\n",
       " PlanetName   StarName    SMA   ...        AngSep           PlanetLogg    \n",
       "                           AU   ...         mas                           \n",
       "   object      object   float64 ...       float64            float64      \n",
       "------------ ---------- ------- ... ------------------- ------------------\n",
       "  HD 20794 c   HD 20794  0.2036 ...   33.91761817024779  3.110698786682366\n",
       "  HD 20794 d   HD 20794  0.3499 ...  58.289659124605606  3.053135984484562\n",
       " HD 208487 b  HD 208487   0.524 ...   11.60652978049483 2.9047592811501257\n",
       "  HD 20868 b   HD 20868    0.95 ...  19.906836007484973 3.3168188485542527\n",
       " HD 209458 b  HD 209458 0.04707 ...  0.9745018798549115  2.971482174841042\n",
       " HD 210277 b  HD 210277    1.13 ...   53.05537948681832 3.3368618634178238\n",
       " HD 210702 b  HD 210702   1.148 ...  21.182257829409018  3.496338799268739\n",
       " HD 212301 b  HD 212301    0.03 ...  0.5531952557974862  2.896343457190833\n",
       " HD 212771 b  HD 212771    1.19 ...  10.705771220367954 3.6240445888729758\n",
       "         ...        ...     ... ...                 ...                ...\n",
       "Kepler-174 c Kepler-174   0.214 ...  0.5561952089240741 3.0965689806605146\n",
       "Kepler-186 d Kepler-186  0.0781 ...  0.4397671092491864 3.1037327272242345\n",
       " Kepler-55 b  Kepler-55  0.1593 ... 0.27522650467522236  4.895308375712046\n",
       "Kepler-251 d Kepler-251   0.182 ...  0.1968365553602812  3.014680562710525\n",
       "Kepler-253 d Kepler-253    0.13 ... 0.15502119616739904  2.997636729287187\n",
       "Kepler-561 c Kepler-561  0.0593 ... 0.09543305363241053  3.018546929056812\n",
       "Kepler-215 b Kepler-215   0.084 ... 0.17284057308995734 3.0853426529434493\n",
       " Kepler-62 b  Kepler-62  0.0553 ... 0.18379786887534316 3.7108550000885687\n",
       "Kepler-192 c Kepler-192    0.15 ... 0.23017643791220765  3.013760527797294\n",
       " Kepler-33 f  Kepler-33  0.2535 ... 0.20964967415395813  2.674756597576057"
      ]
     },
     "execution_count": 4,
     "metadata": {},
     "output_type": "execute_result"
    }
   ],
   "source": [
    "known_planets.planets"
   ]
  },
  {
   "cell_type": "markdown",
   "metadata": {},
   "source": [
    "# What is accessible from Keck? "
   ]
  },
  {
   "cell_type": "code",
   "execution_count": 5,
   "metadata": {},
   "outputs": [],
   "source": [
    "#Let's say 1 micron\n",
    "wv = 1e-6\n",
    "D = 10\n",
    "iwa = wv/D*206265*1000 #One lambda/D in mas. \n",
    "good_sep = (known_planets.planets['AngSep'].value > 0.5*iwa) & (known_planets.planets['AngSep'].value < 200)"
   ]
  },
  {
   "cell_type": "markdown",
   "metadata": {},
   "source": [
    "# We'll semi-randomly pick geometric albedo = 0.15"
   ]
  },
  {
   "cell_type": "code",
   "execution_count": 6,
   "metadata": {},
   "outputs": [],
   "source": [
    "geometric_albedo = 0.15\n",
    "contrast = geometric_albedo * (known_planets.planets['PlanetRadius']*6.378e3/(known_planets.planets['SMA']*1.496e9))[good_sep]**2\n",
    "\n",
    "angsep = known_planets.planets['AngSep'][good_sep]"
   ]
  },
  {
   "cell_type": "code",
   "execution_count": 7,
   "metadata": {
    "scrolled": false
   },
   "outputs": [
    {
     "data": {
      "text/plain": [
       "(1e-10, 1e-06)"
      ]
     },
     "execution_count": 7,
     "metadata": {},
     "output_type": "execute_result"
    },
    {
     "data": {
      "image/png": "[encoded data removed]",
      "text/plain": [
       "<Figure size 720x432 with 1 Axes>"
      ]
     },
     "metadata": {
      "needs_background": "light"
     },
     "output_type": "display_data"
    }
   ],
   "source": [
    "fig,axis = plt.subplots(1,1,figsize=(10,6))\n",
    "plt.loglog(angsep,contrast,'o',markersize=2)\n",
    "plt.xlabel(\"Separation (mas)\")\n",
    "plt.ylabel(\"Contrast\")\n",
    "axis.axvline(iwa,color='k')\n",
    "axis.axvline(2*iwa,color='k',linestyle='--')\n",
    "axis.axvline(3*iwa,color='k',linestyle='-.')\n",
    "axis.axhline(1e-8,color='r',linestyle=':',alpha=0.6)\n",
    "plt.ylim(1e-10,1e-6)"
   ]
  },
  {
   "cell_type": "code",
   "execution_count": 8,
   "metadata": {},
   "outputs": [],
   "source": [
    "#Some Cleaning\n",
    "non_nans = np.isfinite(contrast)\n",
    "contrast_clean = contrast[non_nans]"
   ]
  },
  {
   "cell_type": "code",
   "execution_count": 9,
   "metadata": {},
   "outputs": [],
   "source": [
    "bestest = np.argsort(contrast_clean)[::-1]"
   ]
  },
  {
   "cell_type": "code",
   "execution_count": 10,
   "metadata": {},
   "outputs": [
    {
     "data": {
      "text/html": [
       "<i>QTable length=475</i>\n",
       "<table id=\"table140375510127232\" class=\"table-striped table-bordered table-condensed\">\n",
       "<thead><tr><th>StarName</th><th>PlanetName</th></tr></thead>\n",
       "<thead><tr><th>object</th><th>object</th></tr></thead>\n",
       "<tr><td>GJ 876</td><td>GJ 876 c</td></tr>\n",
       "<tr><td>GJ 1148</td><td>GJ 1148 b</td></tr>\n",
       "<tr><td>GJ 876</td><td>GJ 876 b</td></tr>\n",
       "<tr><td>rho CrB</td><td>rho CrB b</td></tr>\n",
       "<tr><td>HIP 12961</td><td>HIP 12961 b</td></tr>\n",
       "<tr><td>HIP 48714</td><td>HIP 48714 b</td></tr>\n",
       "<tr><td>GJ 3512</td><td>GJ 3512 b</td></tr>\n",
       "<tr><td>HIP 79431</td><td>HIP 79431 b</td></tr>\n",
       "<tr><td>GJ 414 A</td><td>GJ 414 A c</td></tr>\n",
       "<tr><td>55 Cnc</td><td>55 Cnc c</td></tr>\n",
       "<tr><td>...</td><td>...</td></tr>\n",
       "<tr><td>GJ 414 A</td><td>GJ 414 A b</td></tr>\n",
       "<tr><td>HD 181234</td><td>HD 181234 b</td></tr>\n",
       "<tr><td>HIP 5158</td><td>HIP 5158 c</td></tr>\n",
       "<tr><td>DP Leo</td><td>DP Leo b</td></tr>\n",
       "<tr><td>PDS 70</td><td>PDS 70 b</td></tr>\n",
       "<tr><td>HD 75784</td><td>HD 75784 c</td></tr>\n",
       "<tr><td>HD 50499</td><td>HD 50499 c</td></tr>\n",
       "<tr><td>HD 30177</td><td>HD 30177 c</td></tr>\n",
       "<tr><td>2MASS J04414489+2301513</td><td>2MASS J04414489+2301513 b</td></tr>\n",
       "<tr><td>PSR B0329+54</td><td>PSR B0329+54 b</td></tr>\n",
       "</table>"
      ],
      "text/plain": [
       "<QTable length=475>\n",
       "        StarName                PlanetName       \n",
       "         object                   object         \n",
       "----------------------- -------------------------\n",
       "                 GJ 876                  GJ 876 c\n",
       "                GJ 1148                 GJ 1148 b\n",
       "                 GJ 876                  GJ 876 b\n",
       "                rho CrB                 rho CrB b\n",
       "              HIP 12961               HIP 12961 b\n",
       "              HIP 48714               HIP 48714 b\n",
       "                GJ 3512                 GJ 3512 b\n",
       "              HIP 79431               HIP 79431 b\n",
       "               GJ 414 A                GJ 414 A c\n",
       "                 55 Cnc                  55 Cnc c\n",
       "                    ...                       ...\n",
       "               GJ 414 A                GJ 414 A b\n",
       "              HD 181234               HD 181234 b\n",
       "               HIP 5158                HIP 5158 c\n",
       "                 DP Leo                  DP Leo b\n",
       "                 PDS 70                  PDS 70 b\n",
       "               HD 75784                HD 75784 c\n",
       "               HD 50499                HD 50499 c\n",
       "               HD 30177                HD 30177 c\n",
       "2MASS J04414489+2301513 2MASS J04414489+2301513 b\n",
       "           PSR B0329+54            PSR B0329+54 b"
      ]
     },
     "execution_count": 10,
     "metadata": {},
     "output_type": "execute_result"
    }
   ],
   "source": [
    "known_planets.planets['StarName','PlanetName'][good_sep][non_nans][bestest]"
   ]
  },
  {
   "cell_type": "markdown",
   "metadata": {},
   "source": [
    "# Now with a PSI IWA Cutoff"
   ]
  },
  {
   "cell_type": "code",
   "execution_count": 11,
   "metadata": {},
   "outputs": [],
   "source": [
    "#Let's say 1 micron\n",
    "wv = 1e-6\n",
    "D = 30\n",
    "iwa = wv/D*206265*1000 #One lambda/D in mas. \n",
    "good_sep = (known_planets.planets['AngSep'].value > 0.5*iwa) & (known_planets.planets['AngSep'].value < 200)"
   ]
  },
  {
   "cell_type": "code",
   "execution_count": 12,
   "metadata": {},
   "outputs": [],
   "source": [
    "geometric_albedo = 0.15\n",
    "contrast = geometric_albedo * (known_planets.planets['PlanetRadius']*6.378e3/(known_planets.planets['SMA']*1.496e9))[good_sep]**2\n",
    "\n",
    "angsep = known_planets.planets['AngSep'][good_sep]"
   ]
  },
  {
   "cell_type": "code",
   "execution_count": 13,
   "metadata": {},
   "outputs": [
    {
     "data": {
      "text/plain": [
       "<matplotlib.legend.Legend at 0x7fab8864bb80>"
      ]
     },
     "execution_count": 13,
     "metadata": {},
     "output_type": "execute_result"
    },
    {
     "data": {
      "image/png": "[encoded data removed]",
      "text/plain": [
       "<Figure size 720x432 with 1 Axes>"
      ]
     },
     "metadata": {
      "needs_background": "light"
     },
     "output_type": "display_data"
    }
   ],
   "source": [
    "fig,axis = plt.subplots(1,1,figsize=(10,6))\n",
    "plt.loglog(angsep,contrast,'o',markersize=2)\n",
    "plt.xlabel(\"Separation (mas)\")\n",
    "plt.ylabel(\"Contrast\")\n",
    "axis.axvline(iwa,color='k',label=r\"TMT $\\lambda$/D\")\n",
    "axis.axvline(2*iwa,color='k',linestyle='--',label=r\"TMT $2\\lambda$/D\")\n",
    "axis.axvline(3*iwa,color='k',linestyle='-.',label=r\"TMT $3\\lambda$/D\")\n",
    "axis.axhline(1e-8,color='r',linestyle=':',alpha=0.6)\n",
    "plt.ylim(1e-10,1e-6)\n",
    "plt.legend()"
   ]
  },
  {
   "cell_type": "code",
   "execution_count": null,
   "metadata": {},
   "outputs": [],
   "source": []
  }
 ],
 "metadata": {
  "kernelspec": {
   "display_name": "Python 3",
   "language": "python",
   "name": "python3"
  },
  "language_info": {
   "codemirror_mode": {
    "name": "ipython",
    "version": 3
   },
   "file_extension": ".py",
   "mimetype": "text/x-python",
   "name": "python",
   "nbconvert_exporter": "python",
   "pygments_lexer": "ipython3",
   "version": "3.8.8"
  }
 },
 "nbformat": 4,
 "nbformat_minor": 4
}
