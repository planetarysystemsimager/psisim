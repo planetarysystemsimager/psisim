{
 "cells": [
  {
   "cell_type": "markdown",
   "metadata": {},
   "source": [
    "## Simulate some relfected light planets"
   ]
  },
  {
   "cell_type": "code",
   "execution_count": 1,
   "metadata": {},
   "outputs": [
    {
     "name": "stderr",
     "output_type": "stream",
     "text": [
      "/Users/sofiahillman/opt/anaconda3/lib/python3.8/site-packages/pysynphot/locations.py:46: UserWarning: PYSYN_CDBS is undefined; functionality will be SEVERELY crippled.\n",
      "  warnings.warn(\"PYSYN_CDBS is undefined; functionality will be SEVERELY \"\n",
      "/Users/sofiahillman/opt/anaconda3/lib/python3.8/site-packages/pysynphot/locations.py:345: UserWarning: Extinction files not found in extinction\n",
      "  warnings.warn('Extinction files not found in %s' % (extdir, ))\n"
     ]
    },
    {
     "name": "stdout",
     "output_type": "stream",
     "text": [
      "Tried importing picaso, but couldn't do it\n"
     ]
    }
   ],
   "source": [
    "from psisim import telescope,instrument,observation,spectrum,universe,plots\n",
    "import numpy as np\n",
    "import matplotlib.pylab as plt\n",
    "%matplotlib inline\n",
    "import copy\n",
    "import time\n",
    "from astropy.io import fits"
   ]
  },
  {
   "cell_type": "markdown",
   "metadata": {},
   "source": [
    "### Set up the telescope and instrument configuration"
   ]
  },
  {
   "cell_type": "code",
   "execution_count": 2,
   "metadata": {},
   "outputs": [],
   "source": [
    "tmt = telescope.TMT()\n",
    "psi_blue = instrument.PSI_Blue()\n",
    "psi_blue.set_observing_mode(3600,10,'z',50, np.linspace(0.60,0.85,40)) #60s, 40 exposures,z-band, R of 10"
   ]
  },
  {
   "cell_type": "markdown",
   "metadata": {},
   "source": [
    "### Generate planets and host stars with EXOSIMS\n",
    "\n",
    "We will make some cuts to limit to realistically detected planets.\n",
    "\n",
    "The planet table has all the planet and host star properties, which we will use going forward"
   ]
  },
  {
   "cell_type": "code",
   "execution_count": 3,
   "metadata": {},
   "outputs": [
    {
     "name": "stdout",
     "output_type": "stream",
     "text": [
      "Imported SurveySimulation (prototype module) from EXOSIMS.Prototypes.SurveySimulation\n",
      "Numpy random seed is: 688223635\n",
      "Imported SAG13Universe (specific module) from EXOSIMS.SimulatedUniverse.SAG13Universe\n",
      "Imported TargetList (prototype module) from EXOSIMS.Prototypes.TargetList\n",
      "Imported EXOCAT1 (specific module) from EXOSIMS.StarCatalog.EXOCAT1\n",
      "Imported Nemati (specific module) from EXOSIMS.OpticalSystem.Nemati\n",
      "Imported Stark (specific module) from EXOSIMS.ZodiacalLight.Stark\n",
      "Imported PostProcessing (prototype module) from EXOSIMS.Prototypes.PostProcessing\n",
      "Imported BackgroundSources (prototype module) from EXOSIMS.Prototypes.BackgroundSources\n",
      "Imported Completeness (prototype module) from EXOSIMS.Prototypes.Completeness\n",
      "Imported SAG13 (specific module) from EXOSIMS.PlanetPopulation.SAG13\n",
      "Imported Forecaster (specific module) from EXOSIMS.PlanetPhysicalModel.Forecaster\n",
      "2396 targets imported from star catalog.\n",
      "2138 targets remain after nan filtering.\n",
      "1977 targets remain after binary filter.\n",
      "1977 targets remain after IWA filter.\n",
      "1977 targets remain after integration time cutoff filter.\n",
      "1977 targets remain after completeness filter.\n",
      "Imported Observatory (prototype module) from EXOSIMS.Prototypes.Observatory\n",
      "Imported TimeKeeping (prototype module) from EXOSIMS.Prototypes.TimeKeeping\n",
      "OBendTimes is: [1826.25] d\n",
      "Loading cached fZ from /home/jwang/.EXOSIMS/cache/CompletenessTargetListNematicd3cf1b8ba53239690ec97b357e578b8.starkfZ\n",
      "Imported SurveyEnsemble (prototype module) from EXOSIMS.Prototypes.SurveyEnsemble\n"
     ]
    }
   ],
   "source": [
    "exosims_config_filename = \"forBruceandDimitri_EXOCAT1.json\" #Some filename here\n",
    "uni = universe.ExoSims_Universe(exosims_config_filename)\n",
    "uni.simulate_EXOSIMS_Universe()\n",
    "\n",
    "planet_table = uni.planets\n",
    "full_planet_table = copy.deepcopy(uni.planets)\n",
    "#Down select the planets whose separations are less than lambda/D\n",
    "min_iwa = np.min(psi_blue.current_wvs)*1e-6/tmt.diameter*206265\n",
    "planet_table = planet_table[planet_table['AngSep'].to(u.arcsec).value > min_iwa]\n",
    "planet_table = planet_table[planet_table['Flux Ratio'] > 1e-10] # this is a rough planet contrast estimated by EXOSIMS\n",
    "n_planets = len(planet_table)"
   ]
  },
  {
   "cell_type": "markdown",
   "metadata": {},
   "source": [
    "### We'll pick random planets, since many systems are multi-planet systems and they show up  sequentially in EXOSIMS\n",
    "\n",
    "This example will only generate 2 planets for speed"
   ]
  },
  {
   "cell_type": "code",
   "execution_count": 4,
   "metadata": {},
   "outputs": [],
   "source": [
    "planet_types = []\n",
    "planet_spectra = []\n",
    "\n",
    "n_planets_now = 2 # how many \n",
    "\n",
    "rand_planets = np.random.randint(0, n_planets, n_planets_now)\n"
   ]
  },
  {
   "cell_type": "markdown",
   "metadata": {},
   "source": [
    "## Model spectrum wavelength choice based on instrument setup"
   ]
  },
  {
   "cell_type": "code",
   "execution_count": 5,
   "metadata": {},
   "outputs": [],
   "source": [
    "\n",
    "# We're going to generate a model spectrum at a resolution twice the \n",
    "# requested resolution\n",
    "intermediate_R = psi_blue.current_R*2\n",
    "#Choose the model wavelength range to be just a little bigger than \n",
    "#the observation wavelengths\n",
    "model_wv_low = 0.9*np.min(psi_blue.current_wvs) \n",
    "model_wv_high = 1.1*np.max(psi_blue.current_wvs)\n",
    "\n",
    "#Figure out a good wavelength spacing for the model\n",
    "wv_c = 0.5*(model_wv_low+model_wv_high) #Central wavelength of the model\n",
    "dwv_c = wv_c/intermediate_R #The delta_lambda at the central wavelength\n",
    "#The number of wavelengths to generate. Divide by two for nyquist in the d_wv. \n",
    "#Multiply the final number by 2 just to be safe.\n",
    "n_model_wv = int((model_wv_high-model_wv_low)/(dwv_c/2))*2\n",
    "#Generate the model wavelenths\n",
    "model_wvs = np.linspace(model_wv_low, model_wv_high, n_model_wv) #Choose some wavelengths"
   ]
  },
  {
   "cell_type": "markdown",
   "metadata": {},
   "source": [
    "## Generate spectra using PICASO\n",
    "\n",
    "We will use a simple cloudy Jupiter model right now. More advanced models will be coming very soon. "
   ]
  },
  {
   "cell_type": "code",
   "execution_count": 6,
   "metadata": {},
   "outputs": [
    {
     "name": "stdout",
     "output_type": "stream",
     "text": [
      "\n",
      " Starting to generate planet spectra\n",
      "Spectrum took 8.193 s\n",
      "Spectrum took 8.196 s\n",
      "Done generating planet spectra\n"
     ]
    }
   ],
   "source": [
    "print(\"\\n Starting to generate planet spectra\")\n",
    "for planet in planet_table[rand_planets]:\n",
    "\n",
    "    #INSERT PLANET SELECTION RULES HERE\n",
    "    planet_type = \"Gas\"\n",
    "    planet_types.append(planet_type)\n",
    "\n",
    "    time1 = time.time()\n",
    "    #Generate the spectrum and downsample to intermediate resolution\n",
    "    atmospheric_parameters = spectrum.generate_picaso_inputs(planet,planet_type, clouds=True)\n",
    "    planet_spectrum = spectrum.simulate_spectrum(planet, model_wvs, intermediate_R, atmospheric_parameters)\n",
    "    planet_spectra.append(planet_spectrum)\n",
    "    \n",
    "    time2 = time.time()\n",
    "    print('Spectrum took {0:.3f} s'.format((time2-time1)))\n",
    "\n",
    "print(\"Done generating planet spectra\")"
   ]
  },
  {
   "cell_type": "markdown",
   "metadata": {},
   "source": [
    "## Simulate the observations and calculate the SNR of the observation"
   ]
  },
  {
   "cell_type": "code",
   "execution_count": 1,
   "metadata": {},
   "outputs": [
    {
     "name": "stdout",
     "output_type": "stream",
     "text": [
      "\n",
      " Starting to simulate observations\n"
     ]
    },
    {
     "ename": "NameError",
     "evalue": "name 'np' is not defined",
     "output_type": "error",
     "traceback": [
      "\u001b[0;31m---------------------------------------------------------------------------\u001b[0m",
      "\u001b[0;31mNameError\u001b[0m                                 Traceback (most recent call last)",
      "\u001b[0;32m<ipython-input-1-c052a498333e>\u001b[0m in \u001b[0;36m<module>\u001b[0;34m\u001b[0m\n\u001b[1;32m      1\u001b[0m \u001b[0mprint\u001b[0m\u001b[0;34m(\u001b[0m\u001b[0;34m\"\\n Starting to simulate observations\"\u001b[0m\u001b[0;34m)\u001b[0m\u001b[0;34m\u001b[0m\u001b[0;34m\u001b[0m\u001b[0m\n\u001b[1;32m      2\u001b[0m \u001b[0;34m\u001b[0m\u001b[0m\n\u001b[0;32m----> 3\u001b[0;31m \u001b[0mplanet_spectra\u001b[0m \u001b[0;34m=\u001b[0m \u001b[0mnp\u001b[0m\u001b[0;34m.\u001b[0m\u001b[0marray\u001b[0m\u001b[0;34m(\u001b[0m\u001b[0mplanet_spectra\u001b[0m\u001b[0;34m)\u001b[0m\u001b[0;34m\u001b[0m\u001b[0;34m\u001b[0m\u001b[0m\n\u001b[0m\u001b[1;32m      4\u001b[0m \u001b[0;34m\u001b[0m\u001b[0m\n\u001b[1;32m      5\u001b[0m \u001b[0mpost_processing_gain\u001b[0m\u001b[0;34m=\u001b[0m\u001b[0;36m10\u001b[0m\u001b[0;34m\u001b[0m\u001b[0;34m\u001b[0m\u001b[0m\n",
      "\u001b[0;31mNameError\u001b[0m: name 'np' is not defined"
     ]
    }
   ],
   "source": [
    "print(\"\\n Starting to simulate observations\")\n",
    "\n",
    "planet_spectra = np.array(planet_spectra)\n",
    "\n",
    "post_processing_gain=1000\n",
    "sim_F_lambda, sim_F_lambda_errs,sim_F_lambda_stellar, noise_components = observation.simulate_observation_set(tmt, psi_blue,\n",
    "    planet_table[rand_planets], planet_spectra, model_wvs, intermediate_R, inject_noise=False,\n",
    "    post_processing_gain=post_processing_gain,return_noise_components=True)\n",
    "\n",
    "\n",
    "speckle_noises = noise_components[:,0,:]\n",
    "photon_noises = noise_components[:,3,:]\n",
    "\n",
    "flux_ratios = sim_F_lambda/sim_F_lambda_stellar\n",
    "detection_limits = sim_F_lambda_errs/sim_F_lambda_stellar\n",
    "snrs = sim_F_lambda/sim_F_lambda_errs\n",
    "\n",
    "detected = psi_blue.detect_planets(planet_table[rand_planets],snrs,tmt)\n"
   ]
  },
  {
   "cell_type": "markdown",
   "metadata": {},
   "source": [
    "## Plot the Planets.\n",
    "\n",
    "This will be sparse since we only have 2 planets"
   ]
  },
  {
   "cell_type": "code",
   "execution_count": 8,
   "metadata": {},
   "outputs": [
    {
     "data": {
      "text/plain": [
       "Text(0.04, 2.5e-06, 'Post-processing gain: 1000')"
      ]
     },
     "execution_count": 8,
     "metadata": {},
     "output_type": "execute_result"
    },
    {
     "data": {
      "image/png": "[encoded data removed]",
      "text/plain": [
       "<Figure size 504x360 with 1 Axes>"
      ]
     },
     "metadata": {},
     "output_type": "display_data"
    }
   ],
   "source": [
    "#Choose which wavelength you want to plot the detections at:\n",
    "wv_index = 10\n",
    "fig, ax = plots.plot_detected_planet_contrasts(planet_table[rand_planets],wv_index,\n",
    "    detected,flux_ratios,psi_blue,tmt,ymin=1e-13,alt_data=5*detection_limits,alt_label=r\"5-$\\sigma$ Detection Limits\", show=False)\n",
    "\n",
    "#The user can now adjust the plot as they see fit. \n",
    "#e.g. Annotate the plot\n",
    "ax.text(4e-2,1e-5,\"Planets detected: {}\".format(len(np.where(detected[:,wv_index])[0])),color='k')\n",
    "ax.text(4e-2,0.5e-5,\"Planets not detected: {}\".format(len(np.where(~detected[:,wv_index])[0])),color='k')\n",
    "ax.text(4e-2,0.25e-5,\"Post-processing gain: {}\".format(post_processing_gain),color='k')\n"
   ]
  },
  {
   "cell_type": "markdown",
   "metadata": {},
   "source": [
    "### Save things"
   ]
  },
  {
   "cell_type": "code",
   "execution_count": 9,
   "metadata": {},
   "outputs": [
    {
     "name": "stderr",
     "output_type": "stream",
     "text": [
      "WARNING: AstropyDeprecationWarning: planet_table.csv already exists. Automatically overwriting ASCII files is deprecated. Use the argument 'overwrite=True' in the future. [astropy.io.ascii.ui]\n"
     ]
    }
   ],
   "source": [
    "######################## Save things ######################\n",
    "planet_table.write(\"planet_table.ecsv\",format='ascii.ecsv')\n",
    "ps_hdu = fits.PrimaryHDU(planet_spectra)\n",
    "ps_hdu.writeto(\"planet_spectra.fits\",overwrite=True)\n",
    "flux_hdu = fits.PrimaryHDU([sim_F_lambda, sim_F_lambda_errs,np.array(sim_F_lambda_stellar)])\n",
    "flux_hdu.writeto(\"Observation_set.fits\",overwrite=True)\n",
    "noise_components_hdu = fits.PrimaryHDU(noise_components)\n",
    "noise_components_hdu.writeto(\"noise_components.fits\",overwrite=True)\n",
    "\n",
    "# #HOWTO: Read things back in\n",
    "# from astropy.io import ascii\n",
    "# planet_table = ascii.read(\"planet_table.ecsv\",format='ascii.ecsv')\n",
    "# planet_spectra = fits.open(\"planet_spectra.fits\")[0].data\n",
    "# tmp = fits.open(\"Observation_set.fits\")[0].data\n",
    "# sim_F_lambda = tmp[0]\n",
    "# sim_F_lambda_errs = tmp[1]\n",
    "# sim_F_lambda_stellar = tmp[2]\n",
    "# noise_components = fits.open(\"noise_components.fits\")[0].data"
   ]
  },
  {
   "cell_type": "markdown",
   "metadata": {},
   "source": [
    "## Plot a simulated spectrum and compare cloudy vs clear atmospheres"
   ]
  },
  {
   "cell_type": "code",
   "execution_count": 10,
   "metadata": {},
   "outputs": [
    {
     "name": "stdout",
     "output_type": "stream",
     "text": [
      "[0.20254225 0.3045518 ]\n"
     ]
    },
    {
     "data": {
      "image/png": "[encoded data removed]",
      "text/plain": [
       "<Figure size 432x288 with 1 Axes>"
      ]
     },
     "metadata": {},
     "output_type": "display_data"
    }
   ],
   "source": [
    "######################## Plot Cloud vs. Clear ######################\n",
    "\n",
    "\n",
    "# get the best SNR Planet\n",
    "avg_snrs = np.mean(snrs, axis=1)\n",
    "print(avg_snrs)\n",
    "argsort_snrs = np.argsort(np.abs(avg_snrs - 6))\n",
    "bestsnr = argsort_snrs[0] #np.argmax(avg_snrs)\n",
    "\n",
    "# Generate the cloudy spectrum of this planet\n",
    "planet = planet_table[rand_planets[bestsnr]]\n",
    "atmospheric_parameters_clear = spectrum.generate_picaso_inputs(planet, planet_type, clouds=False)\n",
    "planet_spectrum_clear = spectrum.simulate_spectrum(planet, model_wvs, intermediate_R, atmospheric_parameters_clear)\n",
    "\n",
    "# Generate noisy spectra for cloudy and clear\n",
    "clear_F_lambda, clear_F_lambda_errs, _ = observation.simulate_observation(tmt, psi_blue,\n",
    "   planet_table[rand_planets[bestsnr]], planet_spectrum_clear, model_wvs, intermediate_R, inject_noise=True,post_processing_gain=post_processing_gain)\n",
    "cloudy_F_lambda, cloudy_F_lambda_errs, _ = observation.simulate_observation(tmt, psi_blue,\n",
    "   planet_table[rand_planets[bestsnr]], planet_spectra[bestsnr], model_wvs, intermediate_R, inject_noise=True,post_processing_gain=post_processing_gain)\n",
    "\n",
    "fig = plt.figure()\n",
    "\n",
    "plt.errorbar(psi_blue.current_wvs*1000, clear_F_lambda, yerr=clear_F_lambda_errs, color='Blue', marker='o', linestyle='none', label=\"Clear\", zorder=1)\n",
    "plt.errorbar(psi_blue.current_wvs*1000, cloudy_F_lambda, yerr=cloudy_F_lambda_errs, color='Gray', marker='o', linestyle='none', label=\"Cloudy\", zorder=1)\n",
    "\n",
    "\n",
    "plt.grid()\n",
    "plt.xlabel(\"Wavelength (nm)\")\n",
    "plt.ylabel(\"Flux (counts)\")\n",
    "plt.legend()\n",
    "plt.tight_layout()\n",
    "\n",
    "plt.show()"
   ]
  },
  {
   "cell_type": "code",
   "execution_count": null,
   "metadata": {},
   "outputs": [],
   "source": []
  }
 ],
 "metadata": {
  "kernelspec": {
   "display_name": "Python 3",
   "language": "python",
   "name": "python3"
  },
  "language_info": {
   "codemirror_mode": {
    "name": "ipython",
    "version": 3
   },
   "file_extension": ".py",
   "mimetype": "text/x-python",
   "name": "python",
   "nbconvert_exporter": "python",
   "pygments_lexer": "ipython3",
   "version": "3.8.8"
  }
 },
 "nbformat": 4,
 "nbformat_minor": 2
}
