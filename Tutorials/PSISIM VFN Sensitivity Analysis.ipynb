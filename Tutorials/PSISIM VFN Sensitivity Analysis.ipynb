{
 "cells": [
  {
   "cell_type": "markdown",
   "metadata": {},
   "source": [
    "First import all the things and setup the plot things"
   ]
  },
  {
   "cell_type": "code",
   "execution_count": null,
   "metadata": {},
   "outputs": [],
   "source": [
    "from psisim import telescope,instrument,observation,spectrum,universe,plots,signal\n",
    "import time\n",
    "import numpy as np\n",
    "import astropy.units as u\n",
    "import matplotlib.pyplot as plt\n",
    "import matplotlib\n",
    "from importlib import reload\n",
    "import speclite.filters\n",
    "from scipy.interpolate import interp1d, RegularGridInterpolator as rgi\n",
    "from scipy.ndimage import gaussian_filter\n",
    "from scipy.ndimage.filters import median_filter\n",
    "from scipy.signal import medfilt, correlate\n",
    "from numpy.random import poisson, randn\n",
    "import copy \n",
    "\n",
    "SMALL_SIZE = 32\n",
    "MEDIUM_SIZE = 40\n",
    "BIGGER_SIZE = 48\n",
    "\n",
    "plt.rc('font', size=SMALL_SIZE)          # controls default text sizes\n",
    "plt.rc('axes', titlesize=SMALL_SIZE)     # fontsize of the axes title\n",
    "plt.rc('axes', labelsize=MEDIUM_SIZE)    # fontsize of the x and y labels\n",
    "plt.rc('xtick', labelsize=SMALL_SIZE)    # fontsize of the tick labels\n",
    "plt.rc('ytick', labelsize=SMALL_SIZE)    # fontsize of the tick labels\n",
    "plt.rc('legend', fontsize=SMALL_SIZE)    # legend fontsize\n",
    "plt.rc('figure', titlesize=BIGGER_SIZE)  # fontsize of the figure title"
   ]
  },
  {
   "cell_type": "markdown",
   "metadata": {},
   "source": [
    "## Path and Telescope Setup"
   ]
  },
  {
   "cell_type": "code",
   "execution_count": null,
   "metadata": {},
   "outputs": [],
   "source": [
    "#Setup the path to the peripheral files\n",
    "path = '/scr3/dmawet/ETC/'\n",
    "#Load the filter objects from speclite\n",
    "filters = spectrum.load_filters()"
   ]
  },
  {
   "cell_type": "code",
   "execution_count": null,
   "metadata": {},
   "outputs": [],
   "source": [
    "#-- Telescope Setup\n",
    "# Contains telescope params, site characteristics, and current conditions\n",
    "keck = telescope.Keck(path=path)\n",
    "keck.airmass=1.1\n",
    "keck.water_vapor=1.6\n",
    "keck.seeing = keck.median_seeing"
   ]
  },
  {
   "cell_type": "markdown",
   "metadata": {},
   "source": [
    "## Basic Observation parameters to play with"
   ]
  },
  {
   "cell_type": "code",
   "execution_count": null,
   "metadata": {},
   "outputs": [],
   "source": [
    "#-- Instrument parameters\n",
    "exp_time = 600           # [s]\n",
    "main_filter = 'TwoMASS-K'   # Band for observation\n",
    "n_exposures = 12\n",
    "vort_charge = 1             # Vortex charge for VFN\n",
    "\n",
    "#-- Host properties\n",
    "#First set the host properties for a Phoenix model. \n",
    "host_properties = {\"StarLogg\":4.00,\"StarTeff\":4400,\"StarZ\":'-0.0',\"StarAlpha\":\"0.0\",\n",
    "                    \"StarRadialVelocity\":-50*u.km/u.s,\n",
    "                    \"StarVsini\":10*u.km/u.s,\n",
    "                    \"StarLimbDarkening\":0.2}\n",
    "host_filter = 'TwoMASS-K'\n",
    "host_mag = 5.0\n",
    "host_dist = 30.0 * u.pc\n",
    "host_diam = 1  #angular diameter of the star [in mas]\n",
    "\n",
    "#-- Planet properties\n",
    "obj_filter = 'TwoMASS-K'\n",
    "obj_mag = 18    # (for test simulation only)\n",
    "obj_rad_vel = 10 * u.km/u.s\n",
    "obj_rad_spin = 8*u.km/u.s\n",
    "obj_limb_dark = 0.2\n",
    "# (non-variable values in next line are for test simulation only)\n",
    "obj_properties = {\"StarLogg\":3.25,\"StarTeff\":700,\"StarRadialVelocity\":obj_rad_vel,\"StarVsini\":obj_rad_spin,\n",
    "                  \"StarLimbDarkening\":obj_limb_dark}\n",
    "\n",
    "# Angular separation of the companion, in milliarcsecond (for test simulation only)\n",
    "host_properties['AngSep'] = 45*0.9  # 0.9lam/D is the peak planet location for charge 1 and 45mas is 1lam/D at 2um (k-band)\n",
    "\n",
    "#-- Calibration properties\n",
    "cal = 0.001 #Telluric calibration accuracy of 0.1%"
   ]
  },
  {
   "cell_type": "markdown",
   "metadata": {},
   "source": [
    "## Instrument Setup\n",
    "The instrument object contains static instrument params and current observing setup"
   ]
  },
  {
   "cell_type": "code",
   "execution_count": null,
   "metadata": {},
   "outputs": [],
   "source": [
    "#Initialize a kpic object and set the current filter\n",
    "kpic = instrument.kpic_phaseII(telescope=keck)\n",
    "kpic.set_current_filter(main_filter)\n",
    "\n",
    "#Get the set of wavelengths based on the current instrument setup\n",
    "wavelengths = kpic.get_wavelength_range()\n",
    "\n",
    "# Set the observing mode: Exposure time (per exposure), Number of Exposures,filter name, wavelength array\n",
    "kpic.set_observing_mode(exp_time,n_exposures,main_filter, wavelengths,mode=\"vfn\",vortex_charge=vort_charge) "
   ]
  },
  {
   "cell_type": "markdown",
   "metadata": {},
   "source": [
    "## Host spectrum setup"
   ]
  },
  {
   "cell_type": "code",
   "execution_count": null,
   "metadata": {},
   "outputs": [],
   "source": [
    "#Now setup the user parameters that a Phoenix model needs: (path, object_filter, magnitude_in_object_filter,\n",
    "# filters_object,current_filter). \n",
    "host_user_params = (path,host_filter,host_mag,filters,kpic.current_filter)\n",
    "\n",
    "#Generate the spectrum! (Here we apply a doppler shift and rotationally broaden)\n",
    "host_spectrum = spectrum.get_stellar_spectrum(host_properties,wavelengths,kpic.current_R,model=\"Phoenix\",\n",
    "                                              user_params=host_user_params,doppler_shift=True,broaden=True,\n",
    "                                              delta_wv=kpic.current_dwvs)"
   ]
  },
  {
   "cell_type": "markdown",
   "metadata": {},
   "source": [
    "Plot the host spectrum"
   ]
  },
  {
   "cell_type": "code",
   "execution_count": null,
   "metadata": {},
   "outputs": [],
   "source": [
    "plt.figure(figsize=(30,10))\n",
    "\n",
    "plt.semilogy(wavelengths,host_spectrum)\n",
    "\n",
    "plt.xlabel(\"Wavelength [{}]\".format(wavelengths.unit))\n",
    "plt.ylabel(\"Spectrum [{}]\".format(host_spectrum.unit))"
   ]
  },
  {
   "cell_type": "markdown",
   "metadata": {},
   "source": [
    "## Planet spectrum setup"
   ]
  },
  {
   "cell_type": "code",
   "execution_count": null,
   "metadata": {},
   "outputs": [],
   "source": [
    "obj_user_params = (path,obj_filter,obj_mag,filters,kpic.current_filter)\n",
    "\n",
    "obj_spectrum = spectrum.get_stellar_spectrum(obj_properties,wavelengths,kpic.current_R,model=\"Sonora\",\n",
    "                                             user_params=obj_user_params,doppler_shift=True,broaden=True,\n",
    "                                             delta_wv=kpic.current_dwvs)\n",
    "\n",
    "# Convert to contrast units\n",
    "obj_spectrum /= host_spectrum"
   ]
  },
  {
   "cell_type": "markdown",
   "metadata": {},
   "source": [
    "Plot the planet spectrum"
   ]
  },
  {
   "cell_type": "code",
   "execution_count": null,
   "metadata": {},
   "outputs": [],
   "source": [
    "plt.figure(figsize=(30,10))\n",
    "\n",
    "plt.semilogy(wavelengths,obj_spectrum)\n",
    "\n",
    "plt.xlabel(\"Wavelength [{}]\".format(wavelengths.unit))\n",
    "plt.ylabel(\"Spectrum [contrast]\")\n",
    "plt.ylim(1e-10,1e-4)"
   ]
  },
  {
   "cell_type": "markdown",
   "metadata": {},
   "source": [
    "# Simulate a single test observation"
   ]
  },
  {
   "cell_type": "code",
   "execution_count": null,
   "metadata": {},
   "outputs": [],
   "source": [
    "# Convert angular sep to arcseconds use later in the script\n",
    "planet_sep = (host_properties['AngSep'] / 1000) * u.arcsecond\n",
    "\n",
    "# Set host diameter in instrument object (defines nulling geometric leakage)\n",
    "kpic.set_vfn_host_diameter(host_diam)\n",
    "\n",
    "#Get the host star magnitude in the AO filter\n",
    "host_properties[\"StarAOmag\"] = spectrum.get_model_ABmags(host_properties,[kpic.ao_filter], model='Phoenix',\n",
    "                                                         verbose=False,user_params = host_user_params)\n",
    "kpic.ao_mag = host_properties[\"StarAOmag\"]\n",
    "\n",
    "#KPIC doesn't care about the spectral type, but we need to include the paramter\n",
    "host_properties['StarSpT'] = None"
   ]
  },
  {
   "cell_type": "code",
   "execution_count": null,
   "metadata": {
    "scrolled": false
   },
   "outputs": [],
   "source": [
    "#-- Simulate a regular observation\n",
    "obj_spec,total_noise,stellar_spec,thermal_spec,noise_components = observation.simulate_observation(keck,kpic,host_properties,\n",
    "                                                                                      obj_spectrum,wavelengths,1e5,\n",
    "                                                                                      inject_noise=False,verbose=True,\n",
    "                                                                                       post_processing_gain = np.inf,\n",
    "                                                                                      return_noise_components=True,\n",
    "                                                                                      stellar_spec=host_spectrum,\n",
    "                                                                                      apply_lsf=True,\n",
    "                                                                                      integrate_delta_wv=False, \n",
    "                                                                                      plot=False,\n",
    "                                                                                      sky_on=True)\n",
    "\n",
    "#-- Simulate observation without sky effects\n",
    "obj_spec_no_sky,_,_,_ = observation.simulate_observation(keck,kpic,\n",
    "                                                                                      host_properties,\n",
    "                                                                                      obj_spectrum,wavelengths,1e5,\n",
    "                                                                                      inject_noise=False,verbose=True,\n",
    "                                                                                      post_processing_gain = np.inf,\n",
    "                                                                                      return_noise_components=False,\n",
    "                                                                                      stellar_spec=host_spectrum,\n",
    "                                                                                      apply_lsf=True,\n",
    "                                                                                      integrate_delta_wv=False,\n",
    "                                                                                      plot=False,\n",
    "                                                                                      sky_on=False)\n",
    "\n",
    "#-- Get speckle noise\n",
    "speckle_noise = kpic.get_speckle_noise(planet_sep,host_properties['StarAOmag'],kpic.current_filter,wavelengths,host_properties['StarSpT'],keck)[0]\n",
    "\n",
    "#-- Compute Systematics\n",
    "#The photon flux at the object will be the stellar flux multipled by the contrast there:\n",
    "host_flux_at_obj = stellar_spec*speckle_noise\n",
    "\n",
    "systematics = (cal*(host_flux_at_obj+thermal_spec))**2 #Variance of systematics\n",
    "\n",
    "noise_plus_systematics = np.sqrt(total_noise**2+systematics)\n",
    "\n",
    "#-- Calculate CCF SNR\n",
    "#Compute sky transmission lines convolved with line spread function\n",
    "#Get the wavelength spacing\n",
    "dwvs = np.abs(wavelengths - np.roll(wavelengths, 1))\n",
    "dwvs[0] = dwvs[1]\n",
    "dwv_mean = np.mean(dwvs)\n",
    "lsf_fwhm = (kpic.lsf_width/dwv_mean).decompose() #Get the lsf_fwhm in units of current wavelength spacing\n",
    "lsf_sigma = lsf_fwhm/(2*np.sqrt(2*np.log(2))) #Convert to sigma\n",
    "#Get sky transmission lsf\n",
    "sky_transmission_lsf = gaussian_filter(keck.get_atmospheric_transmission(wavelengths),lsf_sigma.value)\n",
    "\n",
    "#Get CCF SNR\n",
    "ccf_snr = signal.compute_ccf_snr_matchedfilter(obj_spec, obj_spec_no_sky, noise_plus_systematics, \n",
    "                                            sky_transmission_lsf,\n",
    "                                               systematics_residuals = cal, \n",
    "                                               norm_cutoff=0.8)"
   ]
  },
  {
   "cell_type": "markdown",
   "metadata": {},
   "source": [
    "## Plot the simulation results"
   ]
  },
  {
   "cell_type": "code",
   "execution_count": null,
   "metadata": {},
   "outputs": [],
   "source": [
    "#-- Plot just the planet spectrum\n",
    "plt.figure(figsize=(30,10))\n",
    "\n",
    "plt.semilogy(wavelengths,obj_spec)\n",
    "\n",
    "plt.xlabel(\"Wavelength [{}]\".format(wavelengths.unit))\n",
    "plt.ylabel(\"Spectrum [{}]\".format(obj_spec.unit))\n",
    "plt.ylim(1e-4,2e2)\n",
    "plt.title(\"Object Spectrum only\")"
   ]
  },
  {
   "cell_type": "code",
   "execution_count": null,
   "metadata": {},
   "outputs": [],
   "source": [
    "#-- Show planet spectrum and system noise simultaneously\n",
    "plt.figure(figsize=(30,10))\n",
    "\n",
    "plt.plot(wavelengths,obj_spec, label=\"Spectrum\")\n",
    "plt.plot(wavelengths,total_noise, label=\"Total Statistical Noise level\")\n",
    "plt.legend()\n",
    "\n",
    "plt.xlabel(\"Wavelength [{}]\".format(wavelengths.unit))\n",
    "plt.ylabel(\"Spectrum [{}]\".format(obj_spec.unit))\n",
    "plt.title(r\"KPIC VFN Observation of Sonora grid $T_{{eff}}$ = {}K,logg = {}, Exp. Time = {}, $N_{{exp}}$= {}\".format(\n",
    "obj_properties[\"StarTeff\"],obj_properties[\"StarLogg\"],kpic.exposure_time,kpic.n_exposures))\n",
    "plt.grid()"
   ]
  },
  {
   "cell_type": "code",
   "execution_count": null,
   "metadata": {},
   "outputs": [],
   "source": [
    "#-- Calculate simple SNR\n",
    "plt.figure(figsize=(30,10))\n",
    "\n",
    "plt.plot(wavelengths,obj_spec/total_noise)\n",
    "\n",
    "plt.xlabel(\"Wavelength [{}]\".format(wavelengths.unit))\n",
    "plt.ylabel(\"Simple SNR\")\n",
    "plt.title(r\"KPIC VFN Observation of Sonora grid $T_{{eff}}$ = {}K,logg = {}, Exp. Time = {}, $N_{{exp}}$= {}\".format(\n",
    "obj_properties[\"StarTeff\"],obj_properties[\"StarLogg\"],kpic.exposure_time,kpic.n_exposures))\n",
    "plt.grid()\n",
    "#plt.xlim(0.9,2.4)\n",
    "#plt.ylim(-0.1,2.)"
   ]
  },
  {
   "cell_type": "code",
   "execution_count": null,
   "metadata": {
    "scrolled": false
   },
   "outputs": [],
   "source": [
    "#-- Calculate SNR with Systematics\n",
    "plt.figure(figsize=(30,10))\n",
    "\n",
    "plt.plot(wavelengths,obj_spec/noise_plus_systematics)\n",
    "\n",
    "plt.xlabel(\"Wavelength [{}]\".format(wavelengths.unit))\n",
    "plt.ylabel(\"SNR with systematics\")\n",
    "plt.title(r\"KPIC VFN Observation of Sonora grid $T_{{eff}}$ = {}K,logg = {}, Exp. Time = {}, $N_{{exp}}$= {}\".format(\n",
    "obj_properties[\"StarTeff\"],obj_properties[\"StarLogg\"],kpic.exposure_time,kpic.n_exposures))\n",
    "# plt.ylim(-0.01,0.4)\n",
    "#plt.xlim(0.9,2.4)\n",
    "plt.grid()"
   ]
  },
  {
   "cell_type": "code",
   "execution_count": null,
   "metadata": {},
   "outputs": [],
   "source": [
    "#-- Show Systematics vs. random noise\n",
    "plt.figure(figsize=(30,10))\n",
    "\n",
    "plt.plot(wavelengths,np.sqrt(systematics),label=\"Systematic Noise\")\n",
    "plt.plot(wavelengths,total_noise,label=\"Random Noise\")\n",
    "plt.legend()\n",
    "\n",
    "plt.xlabel(\"Wavelengths [{}]\".format(wavelengths.unit))\n",
    "plt.ylabel(\"Spectrum [{}]\".format(systematics.unit))"
   ]
  },
  {
   "cell_type": "code",
   "execution_count": null,
   "metadata": {},
   "outputs": [],
   "source": [
    "#-- Show CCF SNR\n",
    "print(ccf_snr)"
   ]
  },
  {
   "cell_type": "code",
   "execution_count": null,
   "metadata": {},
   "outputs": [],
   "source": [
    "#-- Show relative contribution of each noise component\n",
    "plt.figure(figsize=(30,10))\n",
    "\n",
    "plt.plot(wavelengths,noise_components[0],label=\"Speckle Noise\")\n",
    "plt.plot(wavelengths,noise_components[1],label=\"Read Noise\")\n",
    "plt.plot(wavelengths,noise_components[2],label=\"Photon Noise\")\n",
    "plt.plot(wavelengths,total_noise,linestyle=\"-.\",label=\"Total Noise\",linewidth=0.2)\n",
    "\n",
    "plt.xlabel(\"Wavelength [{}]\".format(wavelengths.unit))\n",
    "plt.ylabel(\"Spectrum [{}]\".format(obj_spec.unit))\n",
    "# plt.ylim(1e0,5e1)\n",
    "plt.grid()\n",
    "plt.legend()"
   ]
  },
  {
   "cell_type": "markdown",
   "metadata": {},
   "source": [
    "# Main Simulation Loop"
   ]
  },
  {
   "cell_type": "markdown",
   "metadata": {},
   "source": [
    "## Define properties for search space"
   ]
  },
  {
   "cell_type": "code",
   "execution_count": null,
   "metadata": {},
   "outputs": [],
   "source": [
    "# Load/Set star and planet properies\n",
    "table_evo = np.loadtxt(path+'30myr.txt',skiprows=0) \n",
    "table_mag = np.loadtxt(path+'mag_table+0.0',skiprows=11) \n",
    "mass = table_evo[:,1]\n",
    "teff = table_evo[:,3]\n",
    "logg = table_evo[:,4]\n",
    "obj_temp_list=[200,225,250,275,300,325,350,375,400,425,450,475,500,525,550,575,600,650,700,750,800,850,900,950,1000,1100,1200,1300,1400,1500,1600,1700,1800,1900,2000,2100,2200,2300,2400]\n",
    "obj_logg_list=[3,3.25,3.5,3.75,4,4.25,4.75,5,5.25,5.5]\n",
    "\n",
    "# Inner and outer working angles of search space\n",
    "iwa = 3     # milli-arcsec\n",
    "owa = 120   # milli-arcsec\n",
    "\n",
    "# Min and max mass of search space\n",
    "min_m = 0.5     # M_jup\n",
    "max_m = 11      # M_jup\n",
    "\n",
    "# Search-space size (how many iterations to perform)\n",
    "dim = 15"
   ]
  },
  {
   "cell_type": "markdown",
   "metadata": {},
   "source": [
    "## Prepare for main loop"
   ]
  },
  {
   "cell_type": "code",
   "execution_count": null,
   "metadata": {},
   "outputs": [],
   "source": [
    "# Define functions to interp parameters from mass\n",
    "f_teff=interp1d(mass,teff)\n",
    "f_teff_grid=interp1d(obj_temp_list,obj_temp_list,kind='nearest',fill_value='extrapolate')\n",
    "f_logg=interp1d(mass,logg,bounds_error=False,fill_value='extrapolate')\n",
    "f_logg_grid=interp1d(obj_logg_list,obj_logg_list,bounds_error=False,fill_value='extrapolate',kind='nearest')\n",
    "\n",
    "# Create search space\n",
    "mass_vec = np.linspace(min_m,max_m,dim) * 1e-3  # planet masses to try [M_jup / 1000]\n",
    "obj_ang_sep_vec = np.geomspace(iwa,owa,dim)     # planet angular sep. to try [mas]\n",
    "\n",
    "# Preallocate results matrix\n",
    "sensitivity_vec = np.zeros([dim,dim])\n",
    "\n",
    "# Define column index for Keck K-band in \"mag_table+0.0\" file\n",
    "column_index_K = 10"
   ]
  },
  {
   "cell_type": "markdown",
   "metadata": {},
   "source": [
    "## Iterate through parameters to get CCF SNR (sensitivity)"
   ]
  },
  {
   "cell_type": "markdown",
   "metadata": {},
   "source": [
    "Test a single iteration to make sure there are no obvious issues"
   ]
  },
  {
   "cell_type": "code",
   "execution_count": null,
   "metadata": {},
   "outputs": [],
   "source": [
    "print('starting')\n",
    "print('Cal: {}'.format(cal))\n",
    "#-- Iterate through masses\n",
    "i = 10\n",
    "print(\"--------------------------\")\n",
    "print(\"Iteration/mass sample:\",i)\n",
    "\n",
    "#-- Get planet properties given mass\n",
    "obj_mass = mass_vec[i]\n",
    "obj_temp = int(f_teff_grid(f_teff(obj_mass)))\n",
    "obj_logg = f_logg_grid(f_logg(obj_mass))\n",
    "print('Mass: {}, Temp: {}, Logg: {}'.format(obj_mass,obj_temp,obj_logg))\n",
    "\n",
    "#-- Get planet magnitude from magnitude table\n",
    "#Match pertinent temperatures in the table\n",
    "row_teff = np.where(table_mag[:,0] == obj_temp)\n",
    "#Match logg values in the table\n",
    "row = row_teff[0][np.where(table_mag[row_teff,1][0] == obj_logg)[0][0]]\n",
    "#Extract planet K-band magnitude given matched temp and logg. Correct to vega mag\n",
    "obj_mag = table_mag[row,column_index_K] + 5*(np.log10(host_dist.value)-1)#Vega mag\n",
    "print('Planet Mag: {}'.format(obj_mag))\n",
    "\n",
    "\n",
    "#-- Update properties needed for planet spectrum given current params\n",
    "obj_properties = {\"StarLogg\":obj_logg,\"StarTeff\":obj_temp,\"StarRadialVelocity\":obj_rad_vel,\"StarVsini\":obj_rad_spin,\n",
    "                \"StarLimbDarkening\":obj_limb_dark}\n",
    "obj_user_params = (path,obj_filter,obj_mag,filters,kpic.current_filter)\n",
    "\n",
    "#--NOTE: no need to recalculate host_spectrum since no parameters that would affect that spectrum are changed between iterations\n",
    "    # The \"host_properties[AngSep]\" parameter changes but this doesn't affect the spectrum itself\n",
    "\n",
    "#-- Get new planet spectrum\n",
    "obj_spectrum = spectrum.get_stellar_spectrum(obj_properties,wavelengths,\n",
    "                                            kpic.current_R,model=\"Sonora\",\n",
    "                                            user_params=obj_user_params,\n",
    "                                            doppler_shift=True,broaden=True,\n",
    "                                            delta_wv=kpic.current_dwvs)\n",
    "\n",
    "# Convert to contrast units\n",
    "obj_spectrum /= host_spectrum\n",
    "\n",
    "#-- Iterate through angular separations\n",
    "j = 5\n",
    "\n",
    "#Extract separation\n",
    "host_properties['AngSep'] = obj_ang_sep_vec[j]\n",
    "planet_sep = (host_properties['AngSep'] / 1000) * u.arcsecond\n",
    "print(\"  --  \")\n",
    "print('Ang. Sep.: {} [arcsec]'.format(planet_sep))\n",
    "\n",
    "#-- Simulate regular observation\n",
    "obj_spec,total_noise,stellar_spec,thermal_spec,noise_components = observation.simulate_observation(keck,kpic,host_properties,\n",
    "    obj_spectrum,wavelengths,1e5,\n",
    "    inject_noise=False,verbose=True,\n",
    "    post_processing_gain = np.inf,\n",
    "    return_noise_components=True,\n",
    "    stellar_spec=host_spectrum,\n",
    "    apply_lsf=True,\n",
    "    integrate_delta_wv=False, plot=False,\n",
    "    sky_on=True)\n",
    "\n",
    "#-- Simulate observation without sky effects\n",
    "obj_spec_no_sky,_,_,_ = observation.simulate_observation(keck,\n",
    "    kpic,host_properties,\n",
    "    obj_spectrum,wavelengths,1e5,\n",
    "    inject_noise=False,verbose=True,\n",
    "    post_processing_gain = np.inf,\n",
    "    return_noise_components=False,\n",
    "    stellar_spec=host_spectrum,\n",
    "    apply_lsf=True,\n",
    "    integrate_delta_wv=False, plot=False,\n",
    "    sky_on=False)\n",
    "\n",
    "#-- Get speckle noise\n",
    "speckle_noise = kpic.get_speckle_noise(planet_sep,host_properties['StarAOmag'],kpic.current_filter,wavelengths,host_properties['StarSpT'],keck)[0]\n",
    "print('Contrast: {}'.format(np.mean(speckle_noise)))\n",
    "\n",
    "#-- Compute Systematics\n",
    "#The photon flux at the object will be the stellar flux multipled by the contrast there:\n",
    "host_flux_at_obj = stellar_spec*speckle_noise\n",
    "\n",
    "systematics = (cal*(host_flux_at_obj+thermal_spec))**2 #Variance of systematics\n",
    "\n",
    "noise_plus_systematics = np.sqrt(total_noise**2+systematics)\n",
    "\n",
    "#-- Calculate CCF SNR\n",
    "#Compute sky transmission lines convolved with line spread function\n",
    "#Get the wavelength spacing\n",
    "dwvs = np.abs(wavelengths - np.roll(wavelengths, 1))\n",
    "dwvs[0] = dwvs[1]\n",
    "dwv_mean = np.mean(dwvs)\n",
    "lsf_fwhm = (kpic.lsf_width/dwv_mean).decompose() #Get the lsf_fwhm in units of current wavelength spacing\n",
    "lsf_sigma = lsf_fwhm/(2*np.sqrt(2*np.log(2))) #Convert to sigma\n",
    "#Get sky transmission lsf\n",
    "sky_transmission_lsf = gaussian_filter(keck.get_atmospheric_transmission(wavelengths),lsf_sigma.value)\n",
    "\n",
    "#Get CCF SNR\n",
    "ccf_snr = signal.compute_ccf_snr_matchedfilter(obj_spec,\n",
    "    obj_spec_no_sky,noise_plus_systematics,\n",
    "    sky_transmission_lsf,systematics_residuals=cal,norm_cutoff=0.8)\n",
    "\n",
    "#-- Save result in sensitivity matrix\n",
    "sensitivity_vec[i,j] = ccf_snr.value\n",
    "print(\"CCF: {}\".format(ccf_snr))"
   ]
  },
  {
   "cell_type": "markdown",
   "metadata": {},
   "source": [
    "Summarize results of that iteration"
   ]
  },
  {
   "cell_type": "code",
   "execution_count": null,
   "metadata": {},
   "outputs": [],
   "source": [
    "print(\"Cal Value: {}\".format(cal))\n",
    "\n",
    "# Computer simple SNR\n",
    "simp_snr = np.nanmean(obj_spec/total_noise)\n",
    "print(\"Simple SNR AVG: {}\".format(simp_snr))\n",
    "\n",
    "# Compute full SNR (with systematics)\n",
    "syst_snr = np.nanmean(obj_spec/noise_plus_systematics)\n",
    "print(\"SNR w/ Systematics AVG: {}\".format(syst_snr))\n",
    "\n",
    "# CCF SNR\n",
    "print(\"CCF SNR: {}\".format(ccf_snr))"
   ]
  },
  {
   "cell_type": "markdown",
   "metadata": {},
   "source": [
    "Do full loop"
   ]
  },
  {
   "cell_type": "code",
   "execution_count": null,
   "metadata": {
    "tags": [
     "outputPrepend"
    ]
   },
   "outputs": [],
   "source": [
    "print('starting')\n",
    "#-- Iterate through masses\n",
    "for i in range(len(mass_vec)):\n",
    "    print(\"--------------------------\")\n",
    "    print(\"Iteration/mass sample:\",i)\n",
    "\n",
    "    #-- Get planet properties given mass\n",
    "    obj_mass = mass_vec[i]\n",
    "    obj_temp = int(f_teff_grid(f_teff(obj_mass)))\n",
    "    obj_logg = f_logg_grid(f_logg(obj_mass))\n",
    "    print('Mass: {}, Temp: {}, Logg: {}'.format(obj_mass,obj_temp,obj_logg))\n",
    "\n",
    "    #-- Get planet magnitude from magnitude table\n",
    "    #Match pertinent temperatures in the table\n",
    "    row_teff = np.where(table_mag[:,0] == obj_temp)\n",
    "    #Match logg values in the table\n",
    "    row = row_teff[0][np.where(table_mag[row_teff,1][0] == obj_logg)[0][0]]\n",
    "    #Extract planet K-band magnitude given matched temp and logg. Correct to vega mag\n",
    "    obj_mag = table_mag[row,column_index_K] + 5*(np.log10(host_dist.value)-1)#Vega mag\n",
    "    print('Planet Mag: {}'.format(obj_mag))\n",
    "\n",
    "\n",
    "    #-- Update properties needed for planet spectrum given current params\n",
    "    obj_properties = {\"StarLogg\":obj_logg,\"StarTeff\":obj_temp,\"StarRadialVelocity\":obj_rad_vel,\"StarVsini\":obj_rad_spin,\n",
    "                  \"StarLimbDarkening\":obj_limb_dark}\n",
    "    obj_user_params = (path,obj_filter,obj_mag,filters,kpic.current_filter)\n",
    "\n",
    "    #--NOTE: no need to recalculate host_spectrum since no parameters that would affect that spectrum are changed between iterations\n",
    "        # The \"host_properties[AngSep]\" parameter changes but this doesn't affect the spectrum itself\n",
    "\n",
    "    #-- Get new planet spectrum\n",
    "    obj_spectrum = spectrum.get_stellar_spectrum(obj_properties,wavelengths,\n",
    "                                                kpic.current_R,model=\"Sonora\",\n",
    "                                                user_params=obj_user_params,\n",
    "                                                doppler_shift=True,broaden=True,\n",
    "                                                delta_wv=kpic.current_dwvs)\n",
    "    \n",
    "    # Convert to contrast units\n",
    "    obj_spectrum /= host_spectrum\n",
    "\n",
    "    #-- Iterate through angular separations\n",
    "    for j in range(len(obj_ang_sep_vec)):\n",
    "\n",
    "        #Extract separation\n",
    "        host_properties['AngSep'] = obj_ang_sep_vec[j]\n",
    "        planet_sep = (host_properties['AngSep'] / 1000) * u.arcsecond\n",
    "        print(\"  --  \")\n",
    "        print('Ang. Sep.: {} [arcsec]'.format(planet_sep))\n",
    "\n",
    "        #-- Simulate regular observation\n",
    "        obj_spec,total_noise,stellar_spec,thermal_spec,noise_components = observation.simulate_observation(keck,kpic,host_properties,\n",
    "            obj_spectrum,wavelengths,1e5,\n",
    "            inject_noise=False,verbose=True,\n",
    "            post_processing_gain = np.inf,\n",
    "            return_noise_components=True,\n",
    "            stellar_spec=host_spectrum,\n",
    "            apply_lsf=True,\n",
    "            integrate_delta_wv=False, plot=False,\n",
    "            sky_on=True)\n",
    "\n",
    "        #-- Simulate observation without sky effects\n",
    "        obj_spec_no_sky,_,_,_ = observation.simulate_observation(keck,\n",
    "            kpic,host_properties,\n",
    "            obj_spectrum,wavelengths,1e5,\n",
    "            inject_noise=False,verbose=True,\n",
    "            post_processing_gain = np.inf,\n",
    "            return_noise_components=False,\n",
    "            stellar_spec=host_spectrum,\n",
    "            apply_lsf=True,\n",
    "            integrate_delta_wv=False, plot=False,\n",
    "            sky_on=False)\n",
    "\n",
    "        #-- Get speckle noise\n",
    "        speckle_noise = kpic.get_speckle_noise(planet_sep,host_properties['StarAOmag'],kpic.current_filter,wavelengths,host_properties['StarSpT'],keck)[0]\n",
    "        print('Contrast: {}'.format(np.mean(speckle_noise)))\n",
    "\n",
    "        #-- Compute Systematics\n",
    "        #The photon flux at the object will be the stellar flux multipled by the contrast there:\n",
    "        host_flux_at_obj = stellar_spec*speckle_noise\n",
    "\n",
    "        systematics = (cal*(host_flux_at_obj+thermal_spec))**2 #Variance of systematics\n",
    "\n",
    "        noise_plus_systematics = np.sqrt(total_noise**2+systematics)\n",
    "\n",
    "        #-- Calculate CCF SNR\n",
    "        #Compute sky transmission lines convolved with line spread function\n",
    "        #Get the wavelength spacing\n",
    "        dwvs = np.abs(wavelengths - np.roll(wavelengths, 1))\n",
    "        dwvs[0] = dwvs[1]\n",
    "        dwv_mean = np.mean(dwvs)\n",
    "        lsf_fwhm = (kpic.lsf_width/dwv_mean).decompose() #Get the lsf_fwhm in units of current wavelength spacing\n",
    "        lsf_sigma = lsf_fwhm/(2*np.sqrt(2*np.log(2))) #Convert to sigma\n",
    "        #Get sky transmission lsf\n",
    "        sky_transmission_lsf = gaussian_filter(keck.get_atmospheric_transmission(wavelengths),lsf_sigma.value)\n",
    "\n",
    "        #Get CCF SNR\n",
    "        ccf_snr = signal.compute_ccf_snr_matchedfilter(obj_spec,\n",
    "            obj_spec_no_sky,noise_plus_systematics,\n",
    "            sky_transmission_lsf,systematics_residuals=cal,norm_cutoff=0.8)\n",
    "\n",
    "        #-- Save result in sensitivity matrix\n",
    "        sensitivity_vec[i,j] = ccf_snr.value\n",
    "        print(\"CCF: {}\".format(ccf_snr))\n",
    "\n",
    "\n",
    "\n",
    "    "
   ]
  },
  {
   "cell_type": "markdown",
   "metadata": {},
   "source": [
    "## Make simple plot"
   ]
  },
  {
   "cell_type": "code",
   "execution_count": null,
   "metadata": {},
   "outputs": [],
   "source": [
    "fig, ax = plt.subplots(constrained_layout=True,figsize=(16,14))\n",
    "\n",
    "# Prepare plot data\n",
    "z = sensitivity_vec\n",
    "x = (obj_ang_sep_vec / 1000) * host_dist.value  # X-axis in [AU = arcsec * pc]\n",
    "y = mass_vec * 1e3  # Y-axis in [M_jup]\n",
    "\n",
    "# Make plot\n",
    "ax.set_xscale('log')\n",
    "interp_method = 'bicubic'\n",
    "levels = [0.1, 0.3, 1, 3, 10, 30,100]\n",
    "cf = ax.contourf(x, y, z,levels=levels,cmap='viridis',interpolation=interp_method,norm=matplotlib.colors.LogNorm())\n",
    "\n",
    "# Set plot parameters\n",
    "ax.set_xlabel('SMA (AU)')\n",
    "ax.set_ylabel('Mass (M$_J$)')\n",
    "ax.set_xticks([0.3,1,3])\n",
    "ax.set_xticklabels(['0.3','1','3'])\n",
    "ax.set_xlim([0.3,3.6])\n",
    "#ax.set_ylim([0.5,11])\n",
    "\n",
    "ax.set_title('Keck KPIC Phase II YMG (30 pc - 30 Myr)')\n",
    "fig.colorbar(cf,ax=ax,ticks=levels, format='%.2f',label='CCF SNR [1/e-]',shrink=0.9)"
   ]
  },
  {
   "cell_type": "markdown",
   "metadata": {},
   "source": [
    "## Make pretty plot"
   ]
  },
  {
   "cell_type": "code",
   "execution_count": null,
   "metadata": {},
   "outputs": [],
   "source": [
    "import matplotlib\n",
    "import matplotlib.cm as cm\n",
    "\n",
    "levels=[0.1,0.3,1,3,10,30,100]\n",
    "fig,ax = plt.subplots(constrained_layout=True,figsize=(15,15))\n",
    "im = ax.imshow(sensitivity_vec,extent=[0.3,3.6,0.5,11],aspect=((3.6-0.3)/10.5),vmin=0.05, vmax=30,origin='lower',interpolation=interp_method,cmap='viridis',norm=matplotlib.colors.LogNorm())\n",
    "# ax.set_xscale('log')\n",
    "CBI = fig.colorbar(im,label='CCF SNR',shrink=0.75)\n",
    "#obj_ang_sep_vec*140,mass_vec\n",
    "CS = ax.contour(sensitivity_vec,levels,extent=[0.3,3.6,0.5,11],aspect=((3.6-0.3)/10.5),colors='white',origin='lower',interpolation=interp_method)\n",
    "ax.clabel(CS,levels,fontsize=24)\n",
    "\n",
    "# plt.imshow(sensitivity_vec[j,:,:],extent=[1.4,140,0.5,6],aspect=30,vmin=1, vmax=500,origin='lower',interpolation=interp_method,cmap='hsv',norm=matplotlib.colors.LogNorm())\n",
    "#ax.set_title(plot_title + str(channel[j])+'.') \n",
    "ax.set_xlabel('SMA (AU)')\n",
    "ax.set_ylabel('Mass (M$_J$)')\n",
    "\n",
    "#plt.savefig(fig_name+str(channel[j])+'.png')"
   ]
  }
 ],
 "metadata": {
  "kernelspec": {
   "display_name": "Python 3",
   "language": "python",
   "name": "python3"
  },
  "language_info": {
   "codemirror_mode": {
    "name": "ipython",
    "version": 3
   },
   "file_extension": ".py",
   "mimetype": "text/x-python",
   "name": "python",
   "nbconvert_exporter": "python",
   "pygments_lexer": "ipython3",
   "version": "3.7.4"
  }
 },
 "nbformat": 4,
 "nbformat_minor": 2
}
